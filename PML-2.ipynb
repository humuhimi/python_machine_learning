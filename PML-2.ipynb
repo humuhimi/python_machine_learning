{
 "cells": [
  {
   "cell_type": "code",
   "execution_count": 133,
   "metadata": {},
   "outputs": [
    {
     "name": "stdout",
     "output_type": "stream",
     "text": [
      "X.shape() : (26, 2)\n",
      "mglearn.discrete_scatter(X[:,0],X[:,1],y)についての理解を深める\n"
     ]
    },
    {
     "name": "stderr",
     "output_type": "stream",
     "text": [
      "/Users/humu/anaconda3/lib/python3.7/site-packages/sklearn/utils/deprecation.py:77: DeprecationWarning: Function make_blobs is deprecated; Please import make_blobs directly from scikit-learn\n",
      "  warnings.warn(msg, category=DeprecationWarning)\n"
     ]
    },
    {
     "data": {
      "text/plain": [
       "numpy.ndarray"
      ]
     },
     "execution_count": 133,
     "metadata": {},
     "output_type": "execute_result"
    },
    {
     "data": {
      "image/png": "[encoded data removed]",
      "text/plain": [
       "<Figure size 432x288 with 1 Axes>"
      ]
     },
     "metadata": {
      "needs_background": "dark"
     },
     "output_type": "display_data"
    }
   ],
   "source": [
    "import mglearn\n",
    "import matplotlib.pyplot as plt\n",
    "%matplotlib inline\n",
    "from matplotlib import rcParams\n",
    "rcParams.update({'xtick.color':'w','ytick.color':'w','axes.labelcolor':'gold',})\n",
    "# 下記はクラス分類\n",
    "X , y =  mglearn.datasets.make_forge()\n",
    "mglearn.discrete_scatter(X[:,0],X[:,1],y) # 　第3軸はラベルを表す\n",
    "plt.legend([\"CLass 0\",\"Class 1\"],loc=4)\n",
    "plt.xlabel('First feature')\n",
    "plt.ylabel('Second Feature')\n",
    "print('X.shape() : {}'.format(X.shape))\n",
    "print('mglearn.discrete_scatter(X[:,0],X[:,1],y)についての理解を深める')\n",
    "type(y)"
   ]
  },
  {
   "cell_type": "code",
   "execution_count": 134,
   "metadata": {},
   "outputs": [
    {
     "data": {
      "text/plain": [
       "Text(0, 0.5, 'Target')"
      ]
     },
     "execution_count": 134,
     "metadata": {},
     "output_type": "execute_result"
    },
    {
     "data": {
      "image/png": "[encoded data removed]",
      "text/plain": [
       "<Figure size 432x288 with 1 Axes>"
      ]
     },
     "metadata": {
      "needs_background": "dark"
     },
     "output_type": "display_data"
    }
   ],
   "source": [
    "# 下記は回帰\n",
    "X,y = mglearn.datasets.make_wave(n_samples=40) # 特徴量と　連続値のターゲット変数を返す\n",
    "plt.plot(X,y,'o')\n",
    "plt.ylim(-3,3)\n",
    "plt.xlabel('First feature')\n",
    "plt.ylabel('Target')\n"
   ]
  },
  {
   "cell_type": "code",
   "execution_count": 135,
   "metadata": {},
   "outputs": [
    {
     "name": "stdout",
     "output_type": "stream",
     "text": [
      "cancer.keys():\n",
      "dict_keys(['data', 'target', 'target_names', 'DESCR', 'feature_names'])\n",
      "shape of cancer data:\n",
      "(569, 30)\n",
      " sample count per class:{'malignant': 212, 'benign': 357} \n",
      "Feature names:\n",
      "['mean radius' 'mean texture' 'mean perimeter' 'mean area'\n",
      " 'mean smoothness' 'mean compactness' 'mean concavity'\n",
      " 'mean concave points' 'mean symmetry' 'mean fractal dimension'\n",
      " 'radius error' 'texture error' 'perimeter error' 'area error'\n",
      " 'smoothness error' 'compactness error' 'concavity error'\n",
      " 'concave points error' 'symmetry error' 'fractal dimension error'\n",
      " 'worst radius' 'worst texture' 'worst perimeter' 'worst area'\n",
      " 'worst smoothness' 'worst compactness' 'worst concavity'\n",
      " 'worst concave points' 'worst symmetry' 'worst fractal dimension']\n"
     ]
    },
    {
     "data": {
      "text/plain": [
       "'Breast Cancer Wisconsin (Diagnostic) Database\\n=============================================\\n\\nNotes\\n-----\\nData Set Characteristics:\\n    :Number of Instances: 569\\n\\n    :Number of Attributes: 30 numeric, predictive attributes and the class\\n\\n    :Attribute Information:\\n        - radius (mean of distances from center to points on the perimeter)\\n        - texture (standard deviation of gray-scale values)\\n        - perimeter\\n        - area\\n        - smoothness (local variation in radius lengths)\\n        - compactness (perimeter^2 / area - 1.0)\\n        - concavity (severity of concave portions of the contour)\\n        - concave points (number of concave portions of the contour)\\n        - symmetry \\n        - fractal dimension (\"coastline approximation\" - 1)\\n\\n        The mean, standard error, and \"worst\" or largest (mean of the three\\n        largest values) of these features were computed for each image,\\n        resulting in 30 features.  For instance, field 3 is Mean Radius, field\\n        13 is Radius SE, field 23 is Worst Radius.\\n\\n        - class:\\n                - WDBC-Malignant\\n                - WDBC-Benign\\n\\n    :Summary Statistics:\\n\\n    ===================================== ====== ======\\n                                           Min    Max\\n    ===================================== ====== ======\\n    radius (mean):                        6.981  28.11\\n    texture (mean):                       9.71   39.28\\n    perimeter (mean):                     43.79  188.5\\n    area (mean):                          143.5  2501.0\\n    smoothness (mean):                    0.053  0.163\\n    compactness (mean):                   0.019  0.345\\n    concavity (mean):                     0.0    0.427\\n    concave points (mean):                0.0    0.201\\n    symmetry (mean):                      0.106  0.304\\n    fractal dimension (mean):             0.05   0.097\\n    radius (standard error):              0.112  2.873\\n    texture (standard error):             0.36   4.885\\n    perimeter (standard error):           0.757  21.98\\n    area (standard error):                6.802  542.2\\n    smoothness (standard error):          0.002  0.031\\n    compactness (standard error):         0.002  0.135\\n    concavity (standard error):           0.0    0.396\\n    concave points (standard error):      0.0    0.053\\n    symmetry (standard error):            0.008  0.079\\n    fractal dimension (standard error):   0.001  0.03\\n    radius (worst):                       7.93   36.04\\n    texture (worst):                      12.02  49.54\\n    perimeter (worst):                    50.41  251.2\\n    area (worst):                         185.2  4254.0\\n    smoothness (worst):                   0.071  0.223\\n    compactness (worst):                  0.027  1.058\\n    concavity (worst):                    0.0    1.252\\n    concave points (worst):               0.0    0.291\\n    symmetry (worst):                     0.156  0.664\\n    fractal dimension (worst):            0.055  0.208\\n    ===================================== ====== ======\\n\\n    :Missing Attribute Values: None\\n\\n    :Class Distribution: 212 - Malignant, 357 - Benign\\n\\n    :Creator:  Dr. William H. Wolberg, W. Nick Street, Olvi L. Mangasarian\\n\\n    :Donor: Nick Street\\n\\n    :Date: November, 1995\\n\\nThis is a copy of UCI ML Breast Cancer Wisconsin (Diagnostic) datasets.\\nhttps://goo.gl/U2Uwz2\\n\\nFeatures are computed from a digitized image of a fine needle\\naspirate (FNA) of a breast mass.  They describe\\ncharacteristics of the cell nuclei present in the image.\\n\\nSeparating plane described above was obtained using\\nMultisurface Method-Tree (MSM-T) [K. P. Bennett, \"Decision Tree\\nConstruction Via Linear Programming.\" Proceedings of the 4th\\nMidwest Artificial Intelligence and Cognitive Science Society,\\npp. 97-101, 1992], a classification method which uses linear\\nprogramming to construct a decision tree.  Relevant features\\nwere selected using an exhaustive search in the space of 1-4\\nfeatures and 1-3 separating planes.\\n\\nThe actual linear program used to obtain the separating plane\\nin the 3-dimensional space is that described in:\\n[K. P. Bennett and O. L. Mangasarian: \"Robust Linear\\nProgramming Discrimination of Two Linearly Inseparable Sets\",\\nOptimization Methods and Software 1, 1992, 23-34].\\n\\nThis database is also available through the UW CS ftp server:\\n\\nftp ftp.cs.wisc.edu\\ncd math-prog/cpo-dataset/machine-learn/WDBC/\\n\\nReferences\\n----------\\n   - W.N. Street, W.H. Wolberg and O.L. Mangasarian. Nuclear feature extraction \\n     for breast tumor diagnosis. IS&T/SPIE 1993 International Symposium on \\n     Electronic Imaging: Science and Technology, volume 1905, pages 861-870,\\n     San Jose, CA, 1993.\\n   - O.L. Mangasarian, W.N. Street and W.H. Wolberg. Breast cancer diagnosis and \\n     prognosis via linear programming. Operations Research, 43(4), pages 570-577, \\n     July-August 1995.\\n   - W.H. Wolberg, W.N. Street, and O.L. Mangasarian. Machine learning techniques\\n     to diagnose breast cancer from fine-needle aspirates. Cancer Letters 77 (1994) \\n     163-171.\\n'"
      ]
     },
     "execution_count": 135,
     "metadata": {},
     "output_type": "execute_result"
    }
   ],
   "source": [
    "from sklearn.datasets import load_breast_cancer\n",
    "import pandas as pd\n",
    "import numpy as np\n",
    "cancer = load_breast_cancer()\n",
    "print('cancer.keys():\\n{}'.format(cancer.keys()))\n",
    "type(cancer)\n",
    "print('shape of cancer data:\\n{}'.format(cancer.data.shape))\n",
    "print(' sample count per class:{} '.format({n:v for n ,v in zip(cancer.target_names, np.bincount(cancer.target))}))\n",
    "print('Feature names:\\n{}'.format(cancer.feature_names))\n",
    "cancer.DESCR"
   ]
  },
  {
   "cell_type": "code",
   "execution_count": 136,
   "metadata": {},
   "outputs": [
    {
     "name": "stdout",
     "output_type": "stream",
     "text": [
      "Data shape:(506, 13)\n",
      "Boston House Prices dataset\n",
      "===========================\n",
      "\n",
      "Notes\n",
      "------\n",
      "Data Set Characteristics:  \n",
      "\n",
      "    :Number of Instances: 506 \n",
      "\n",
      "    :Number of Attributes: 13 numeric/categorical predictive\n",
      "    \n",
      "    :Median Value (attribute 14) is usually the target\n",
      "\n",
      "    :Attribute Information (in order):\n",
      "        - CRIM     per capita crime rate by town\n",
      "        - ZN       proportion of residential land zoned for lots over 25,000 sq.ft.\n",
      "        - INDUS    proportion of non-retail business acres per town\n",
      "        - CHAS     Charles River dummy variable (= 1 if tract bounds river; 0 otherwise)\n",
      "        - NOX      nitric oxides concentration (parts per 10 million)\n",
      "        - RM       average number of rooms per dwelling\n",
      "        - AGE      proportion of owner-occupied units built prior to 1940\n",
      "        - DIS      weighted distances to five Boston employment centres\n",
      "        - RAD      index of accessibility to radial highways\n",
      "        - TAX      full-value property-tax rate per $10,000\n",
      "        - PTRATIO  pupil-teacher ratio by town\n",
      "        - B        1000(Bk - 0.63)^2 where Bk is the proportion of blacks by town\n",
      "        - LSTAT    % lower status of the population\n",
      "        - MEDV     Median value of owner-occupied homes in $1000's\n",
      "\n",
      "    :Missing Attribute Values: None\n",
      "\n",
      "    :Creator: Harrison, D. and Rubinfeld, D.L.\n",
      "\n",
      "This is a copy of UCI ML housing dataset.\n",
      "http://archive.ics.uci.edu/ml/datasets/Housing\n",
      "\n",
      "\n",
      "This dataset was taken from the StatLib library which is maintained at Carnegie Mellon University.\n",
      "\n",
      "The Boston house-price data of Harrison, D. and Rubinfeld, D.L. 'Hedonic\n",
      "prices and the demand for clean air', J. Environ. Economics & Management,\n",
      "vol.5, 81-102, 1978.   Used in Belsley, Kuh & Welsch, 'Regression diagnostics\n",
      "...', Wiley, 1980.   N.B. Various transformations are used in the table on\n",
      "pages 244-261 of the latter.\n",
      "\n",
      "The Boston house-price data has been used in many machine learning papers that address regression\n",
      "problems.   \n",
      "     \n",
      "**References**\n",
      "\n",
      "   - Belsley, Kuh & Welsch, 'Regression diagnostics: Identifying Influential Data and Sources of Collinearity', Wiley, 1980. 244-261.\n",
      "   - Quinlan,R. (1993). Combining Instance-Based and Model-Based Learning. In Proceedings on the Tenth International Conference of Machine Learning, 236-243, University of Massachusetts, Amherst. Morgan Kaufmann.\n",
      "   - many more! (see http://archive.ics.uci.edu/ml/datasets/Housing)\n",
      "\n"
     ]
    }
   ],
   "source": [
    "from sklearn.datasets import load_boston\n",
    "boston = load_boston()\n",
    "print('Data shape:{}'.format(boston.data.shape))\n",
    "print(boston.DESCR)"
   ]
  },
  {
   "cell_type": "code",
   "execution_count": 137,
   "metadata": {},
   "outputs": [
    {
     "name": "stdout",
     "output_type": "stream",
     "text": [
      "X.shape:(506, 104)\n"
     ]
    }
   ],
   "source": [
    "X,y = mglearn.datasets.load_extended_boston()\n",
    "print('X.shape:{}'.format(X.shape))"
   ]
  },
  {
   "cell_type": "code",
   "execution_count": 138,
   "metadata": {},
   "outputs": [
    {
     "name": "stderr",
     "output_type": "stream",
     "text": [
      "/Users/humu/anaconda3/lib/python3.7/site-packages/sklearn/utils/deprecation.py:77: DeprecationWarning: Function make_blobs is deprecated; Please import make_blobs directly from scikit-learn\n",
      "  warnings.warn(msg, category=DeprecationWarning)\n"
     ]
    },
    {
     "data": {
      "image/png": "[encoded data removed]",
      "text/plain": [
       "<Figure size 432x288 with 1 Axes>"
      ]
     },
     "metadata": {
      "needs_background": "dark"
     },
     "output_type": "display_data"
    }
   ],
   "source": [
    "mglearn.plots.plot_knn_classification(n_neighbors=1) # テストから一番近い点の数の個数を指定する"
   ]
  },
  {
   "cell_type": "code",
   "execution_count": 139,
   "metadata": {},
   "outputs": [
    {
     "name": "stderr",
     "output_type": "stream",
     "text": [
      "/Users/humu/anaconda3/lib/python3.7/site-packages/sklearn/utils/deprecation.py:77: DeprecationWarning: Function make_blobs is deprecated; Please import make_blobs directly from scikit-learn\n",
      "  warnings.warn(msg, category=DeprecationWarning)\n"
     ]
    },
    {
     "data": {
      "text/plain": [
       "KNeighborsClassifier(algorithm='auto', leaf_size=30, metric='minkowski',\n",
       "           metric_params=None, n_jobs=1, n_neighbors=3, p=2,\n",
       "           weights='uniform')"
      ]
     },
     "execution_count": 139,
     "metadata": {},
     "output_type": "execute_result"
    }
   ],
   "source": [
    "from sklearn.model_selection import train_test_split\n",
    "from sklearn.neighbors import KNeighborsClassifier\n",
    "\n",
    "X , y =  mglearn.datasets.make_forge()\n",
    "X_train,X_test,y_train,y_test =  train_test_split(X,y,random_state=0)\n",
    "clf =  KNeighborsClassifier(n_neighbors=3) # 近似点などのパラムを渡すことができる\n",
    "# 訓練セットでクラス分類機を訓練する\n",
    "clf.fit(X_train,y_train)\n",
    "\n"
   ]
  },
  {
   "cell_type": "code",
   "execution_count": 140,
   "metadata": {},
   "outputs": [
    {
     "name": "stdout",
     "output_type": "stream",
     "text": [
      "予想:\n",
      "[1 0 1 0 1 0 0]\n"
     ]
    }
   ],
   "source": [
    "print('予想:\\n{}'.format(clf.predict(X_test))) # X_test に対する予想"
   ]
  },
  {
   "cell_type": "code",
   "execution_count": 141,
   "metadata": {},
   "outputs": [
    {
     "name": "stdout",
     "output_type": "stream",
     "text": [
      "モデル汎化性の評価:0.86\n"
     ]
    }
   ],
   "source": [
    "print('モデル汎化性の評価:{:.2f}'.format(clf.score(X_test,y_test)))\n"
   ]
  },
  {
   "cell_type": "code",
   "execution_count": 142,
   "metadata": {},
   "outputs": [
    {
     "data": {
      "image/png": "[encoded data removed]",
      "text/plain": [
       "<Figure size 720x216 with 3 Axes>"
      ]
     },
     "metadata": {},
     "output_type": "display_data"
    }
   ],
   "source": [
    "fig, axes =  plt.subplots(1,3,figsize=(10,3)) # fig は図,axes はオブジェクトを返す\n",
    "for n_neighbors, ax in zip([1,3,9], axes):\n",
    "    clf =  KNeighborsClassifier(n_neighbors=n_neighbors).fit(X,y)\n",
    "    mglearn.plots.plot_2d_separator(clf,X,fill=True,eps=0.5,ax=ax,alpha=.4)\n",
    "    mglearn.discrete_scatter(X[:,0],X[:,1],y,ax=ax)\n",
    "    ax.set_title('{} neighbor(s) '.format(n_neighbors),color='w')\n",
    "    ax.set_xlabel(\"Feature0\")\n",
    "    ax.set_ylabel(\"Feature1\")\n",
    "    axes[0].legend(loc=3)\n",
    "    "
   ]
  },
  {
   "cell_type": "code",
   "execution_count": 143,
   "metadata": {},
   "outputs": [
    {
     "name": "stdout",
     "output_type": "stream",
     "text": [
      " 過剰適合と適合不足の中間を探す\n"
     ]
    },
    {
     "data": {
      "image/png": "[encoded data removed]",
      "text/plain": [
       "<Figure size 432x288 with 1 Axes>"
      ]
     },
     "metadata": {
      "needs_background": "dark"
     },
     "output_type": "display_data"
    }
   ],
   "source": [
    "from sklearn.datasets import load_breast_cancer\n",
    "\n",
    "cancer = load_breast_cancer()\n",
    "X_train,X_test,y_train,y_test = train_test_split(cancer.data,cancer.target,random_state=66)\n",
    "training_accuracy = []\n",
    "test_accuracy = []\n",
    "# 近傍値を1~10まで試す\n",
    "neighbors_settings = range(1,21)\n",
    "for neighbors in neighbors_settings:\n",
    "    clf =  KNeighborsClassifier(n_neighbors=neighbors)\n",
    "    clf.fit(X_train,y_train) #  モデル構築\n",
    "    # 訓練データの精度を確認\n",
    "    training_accuracy.append(clf.score(X_train,y_train))\n",
    "    # 汎化データの精度を確認\n",
    "    test_accuracy.append(clf.score(X_test,y_test))\n",
    "plt.plot(neighbors_settings,training_accuracy,label='train accuracy') # xはsetting毎,yは精度\n",
    "plt.plot(neighbors_settings,test_accuracy,label='test accuracy')\n",
    "plt.xlabel('neighbors_settings')\n",
    "plt.ylabel('accuracy')\n",
    "plt.legend()\n",
    "print(' 過剰適合と適合不足の中間を探す')\n",
    "    \n"
   ]
  },
  {
   "cell_type": "code",
   "execution_count": 144,
   "metadata": {},
   "outputs": [
    {
     "data": {
      "image/png": "[encoded data removed]",
      "text/plain": [
       "<Figure size 720x432 with 1 Axes>"
      ]
     },
     "metadata": {
      "needs_background": "dark"
     },
     "output_type": "display_data"
    }
   ],
   "source": [
    "mglearn.plots.plot_knn_regression(n_neighbors=3)"
   ]
  },
  {
   "cell_type": "code",
   "execution_count": 145,
   "metadata": {},
   "outputs": [
    {
     "name": "stdout",
     "output_type": "stream",
     "text": [
      "テストデータで予想:\n",
      "[-0.05396539  0.35686046  1.13671923 -1.89415682 -1.13881398 -1.63113382\n",
      "  0.35686046  0.91241374 -0.44680446 -1.13881398]\n",
      "テストR2:0.83\n"
     ]
    }
   ],
   "source": [
    "from sklearn.neighbors import KNeighborsRegressor\n",
    "\n",
    "X,y = mglearn.datasets.make_wave(n_samples=40)\n",
    "X_train,X_test,y_train,y_test = train_test_split(X,y,random_state=0)\n",
    "reg =  KNeighborsRegressor(n_neighbors=3)\n",
    "reg.fit(X_train,y_train)\n",
    "print('テストデータで予想:\\n{}'.format(reg.predict(X_test)))\n",
    "print('テストR2:{:.2f}'.format(reg.score(X_test,y_test)))\n"
   ]
  },
  {
   "cell_type": "code",
   "execution_count": 146,
   "metadata": {},
   "outputs": [],
   "source": [
    "mglearn.datasets.make_wave??"
   ]
  },
  {
   "cell_type": "code",
   "execution_count": 147,
   "metadata": {},
   "outputs": [
    {
     "data": {
      "image/png": "[encoded data removed]",
      "text/plain": [
       "<Figure size 1080x288 with 3 Axes>"
      ]
     },
     "metadata": {
      "needs_background": "dark"
     },
     "output_type": "display_data"
    }
   ],
   "source": [
    "fig,axes = plt.subplots(1,3,figsize=(15,4))\n",
    "# -3~3までの間に1000点のデータポイントを作る\n",
    "line = np.linspace(-3,3,1000).reshape(-1,1)\n",
    "for n_neighbors, ax in zip([1,3,9],axes): # 近傍値 1 3 9\n",
    "    reg = KNeighborsRegressor(n_neighbors=n_neighbors) #  近傍値から回帰アルゴリズム\n",
    "    reg.fit(X_train,y_train)\n",
    "    ax.plot(line, reg.predict(line)) #  X_train y_trainを使った推定機でlineの値を予想 | line(x)とlineの結果(y)のグラフ\n",
    "    ax.plot(X_train,y_train,'^',c='r')\n",
    "    ax.plot(X_test,y_test,'v',c='b')\n",
    "    ax.set_title(\n",
    "        \"{} neighbor(s)\\n{:.2f}train score\\n{:.2f}test score\".format(\n",
    "            n_neighbors,\n",
    "            reg.score(X_train,y_train),\n",
    "            reg.score(X_test,y_test)),color='pink')\n",
    "    ax.set_xlabel('Feature')\n",
    "    ax.set_ylabel('Target')\n",
    "    axes[0].legend([\"Model Prediction\",\"Training Data\",\"Test Data\"],loc=\"best\")    \n",
    "    "
   ]
  },
  {
   "cell_type": "code",
   "execution_count": 148,
   "metadata": {},
   "outputs": [
    {
     "data": {
      "text/html": [
       "<div>\n",
       "<style scoped>\n",
       "    .dataframe tbody tr th:only-of-type {\n",
       "        vertical-align: middle;\n",
       "    }\n",
       "\n",
       "    .dataframe tbody tr th {\n",
       "        vertical-align: top;\n",
       "    }\n",
       "\n",
       "    .dataframe thead th {\n",
       "        text-align: right;\n",
       "    }\n",
       "</style>\n",
       "<table border=\"1\" class=\"dataframe\">\n",
       "  <thead>\n",
       "    <tr style=\"text-align: right;\">\n",
       "      <th></th>\n",
       "      <th>Line</th>\n",
       "      <th>X</th>\n",
       "      <th>y</th>\n",
       "    </tr>\n",
       "  </thead>\n",
       "  <tbody>\n",
       "    <tr>\n",
       "      <th>0</th>\n",
       "      <td>-3.000000</td>\n",
       "      <td>-0.752759</td>\n",
       "      <td>-0.448221</td>\n",
       "    </tr>\n",
       "    <tr>\n",
       "      <th>1</th>\n",
       "      <td>-2.993994</td>\n",
       "      <td>2.704286</td>\n",
       "      <td>0.331226</td>\n",
       "    </tr>\n",
       "    <tr>\n",
       "      <th>2</th>\n",
       "      <td>-2.987988</td>\n",
       "      <td>1.391964</td>\n",
       "      <td>0.779321</td>\n",
       "    </tr>\n",
       "    <tr>\n",
       "      <th>3</th>\n",
       "      <td>-2.981982</td>\n",
       "      <td>0.591951</td>\n",
       "      <td>0.034979</td>\n",
       "    </tr>\n",
       "    <tr>\n",
       "      <th>4</th>\n",
       "      <td>-2.975976</td>\n",
       "      <td>-2.063888</td>\n",
       "      <td>-1.387736</td>\n",
       "    </tr>\n",
       "    <tr>\n",
       "      <th>5</th>\n",
       "      <td>-2.969970</td>\n",
       "      <td>-2.064033</td>\n",
       "      <td>-2.471962</td>\n",
       "    </tr>\n",
       "    <tr>\n",
       "      <th>6</th>\n",
       "      <td>-2.963964</td>\n",
       "      <td>-2.651498</td>\n",
       "      <td>-1.527308</td>\n",
       "    </tr>\n",
       "    <tr>\n",
       "      <th>7</th>\n",
       "      <td>-2.957958</td>\n",
       "      <td>2.197057</td>\n",
       "      <td>1.494172</td>\n",
       "    </tr>\n",
       "    <tr>\n",
       "      <th>8</th>\n",
       "      <td>-2.951952</td>\n",
       "      <td>0.606690</td>\n",
       "      <td>1.000324</td>\n",
       "    </tr>\n",
       "    <tr>\n",
       "      <th>9</th>\n",
       "      <td>-2.945946</td>\n",
       "      <td>1.248435</td>\n",
       "      <td>0.229562</td>\n",
       "    </tr>\n",
       "  </tbody>\n",
       "</table>\n",
       "</div>"
      ],
      "text/plain": [
       "       Line         X         y\n",
       "0 -3.000000 -0.752759 -0.448221\n",
       "1 -2.993994  2.704286  0.331226\n",
       "2 -2.987988  1.391964  0.779321\n",
       "3 -2.981982  0.591951  0.034979\n",
       "4 -2.975976 -2.063888 -1.387736\n",
       "5 -2.969970 -2.064033 -2.471962\n",
       "6 -2.963964 -2.651498 -1.527308\n",
       "7 -2.957958  2.197057  1.494172\n",
       "8 -2.951952  0.606690  1.000324\n",
       "9 -2.945946  1.248435  0.229562"
      ]
     },
     "execution_count": 148,
     "metadata": {},
     "output_type": "execute_result"
    }
   ],
   "source": [
    "line_df = pd.DataFrame(data=line,columns=['Line'])\n",
    "X_df  = pd.DataFrame(data=X,columns=['X'])\n",
    "y_df = pd.DataFrame(y,columns=['y'])\n",
    "ful = line_df.join(X_df).join(y_df)\n",
    "ful[:10]"
   ]
  },
  {
   "cell_type": "code",
   "execution_count": 149,
   "metadata": {},
   "outputs": [
    {
     "name": "stdout",
     "output_type": "stream",
     "text": [
      "w[0]: 0.393906  b: -0.031804\n"
     ]
    },
    {
     "data": {
      "image/png": "[encoded data removed]",
      "text/plain": [
       "<Figure size 576x576 with 1 Axes>"
      ]
     },
     "metadata": {
      "needs_background": "dark"
     },
     "output_type": "display_data"
    }
   ],
   "source": [
    "mglearn.plots.plot_linear_regression_wave()"
   ]
  },
  {
   "cell_type": "code",
   "execution_count": 150,
   "metadata": {},
   "outputs": [],
   "source": [
    "from sklearn.linear_model import LinearRegression\n",
    "X,y =  mglearn.datasets.make_wave(n_samples=60)\n",
    "X_train,X_test,y_train,y_test =  train_test_split(X, y, random_state=42)"
   ]
  },
  {
   "cell_type": "code",
   "execution_count": 151,
   "metadata": {},
   "outputs": [],
   "source": [
    "lr = LinearRegression().fit(X_train,y_train)"
   ]
  },
  {
   "cell_type": "code",
   "execution_count": 152,
   "metadata": {},
   "outputs": [
    {
     "name": "stdout",
     "output_type": "stream",
     "text": [
      "Lr.coef_(ω): [0.39390555]\n",
      "Lr.intercept_(b): -0.031804343026759746\n"
     ]
    }
   ],
   "source": [
    "print( 'Lr.coef_(ω): {}'.format(lr.coef_))\n",
    "print('Lr.intercept_(b): {}'.format(lr.intercept_))"
   ]
  },
  {
   "cell_type": "code",
   "execution_count": 153,
   "metadata": {},
   "outputs": [
    {
     "name": "stdout",
     "output_type": "stream",
     "text": [
      "訓練スコア:0.67\n",
      "テストスコア:0.66\n",
      "テストスコアと訓練スコアが近いため　これはおそらく適合不足と言える\n"
     ]
    }
   ],
   "source": [
    "print('訓練スコア:{:.2f}'.format(lr.score(X_train,y_train)))\n",
    "print('テストスコア:{:.2f}'.format(lr.score(X_test,y_test)))\n",
    "print('テストスコアと訓練スコアが近いため　これはおそらく適合不足と言える')"
   ]
  },
  {
   "cell_type": "code",
   "execution_count": 154,
   "metadata": {},
   "outputs": [
    {
     "name": "stdout",
     "output_type": "stream",
     "text": [
      "訓練スコア:0.95\n",
      "テストスコア:0.61\n",
      "高次元つまり特徴量を多く持つデータセットに対しては過剰適合になりやすい\n"
     ]
    }
   ],
   "source": [
    "X, y = mglearn.datasets.load_extended_boston()\n",
    "X_train,X_test,y_train,y_test =  train_test_split(X, y, random_state=0)\n",
    "lr = LinearRegression().fit(X_train,y_train)\n",
    "print('訓練スコア:{:.2f}'.format(lr.score(X_train,y_train)))\n",
    "print('テストスコア:{:.2f}'.format(lr.score(X_test,y_test)))\n",
    "print('高次元つまり特徴量を多く持つデータセットに対しては過剰適合になりやすい') # よって、複雑度を制御できるモデルが必要になる。"
   ]
  },
  {
   "cell_type": "code",
   "execution_count": 155,
   "metadata": {},
   "outputs": [
    {
     "name": "stdout",
     "output_type": "stream",
     "text": [
      "制御(個々の特徴量が出力に与える影響(傾き)をなるべく小さくする制御)できるモデルリッジ回帰法\n"
     ]
    }
   ],
   "source": [
    "print('制御(個々の特徴量が出力に与える影響(傾き)をなるべく小さくする制御)できるモデルリッジ回帰法')"
   ]
  },
  {
   "cell_type": "code",
   "execution_count": 156,
   "metadata": {},
   "outputs": [
    {
     "name": "stdout",
     "output_type": "stream",
     "text": [
      "訓練スコア:0.89\n",
      "テストスコア:0.75\n"
     ]
    }
   ],
   "source": [
    "from sklearn.linear_model import Ridge\n",
    "ridge = Ridge().fit(X_train,y_train) # デフォルトはalpha=1\n",
    "print('訓練スコア:{:.2f}'.format(ridge.score(X_train,y_train)))\n",
    "print('テストスコア:{:.2f}'.format(ridge.score(X_test,y_test)))"
   ]
  },
  {
   "cell_type": "code",
   "execution_count": 157,
   "metadata": {},
   "outputs": [
    {
     "name": "stdout",
     "output_type": "stream",
     "text": [
      "訓練スコア:0.79\n",
      "テストスコア:0.64\n"
     ]
    }
   ],
   "source": [
    "ridge10 = Ridge(alpha=10).fit(X_train,y_train) #汎化を増やし、性能を落とす\n",
    "print('訓練スコア:{:.2f}'.format(ridge10.score(X_train,y_train)))\n",
    "print('テストスコア:{:.2f}'.format(ridge10.score(X_test,y_test)))\n"
   ]
  },
  {
   "cell_type": "code",
   "execution_count": 158,
   "metadata": {},
   "outputs": [
    {
     "name": "stdout",
     "output_type": "stream",
     "text": [
      "訓練スコア:0.93\n",
      "テストスコア:0.77\n"
     ]
    }
   ],
   "source": [
    "ridge01 = Ridge(alpha=0.1).fit(X_train,y_train) #汎化を減らし、性能を増やす\n",
    "print('訓練スコア:{:.2f}'.format(ridge01.score(X_train,y_train)))\n",
    "print('テストスコア:{:.2f}'.format(ridge01.score(X_test,y_test)))"
   ]
  },
  {
   "cell_type": "code",
   "execution_count": 159,
   "metadata": {},
   "outputs": [
    {
     "data": {
      "text/plain": [
       "<matplotlib.legend.Legend at 0x1c224a8a90>"
      ]
     },
     "execution_count": 159,
     "metadata": {},
     "output_type": "execute_result"
    },
    {
     "data": {
      "image/png": "[encoded data removed]",
      "text/plain": [
       "<Figure size 432x288 with 1 Axes>"
      ]
     },
     "metadata": {
      "needs_background": "dark"
     },
     "output_type": "display_data"
    }
   ],
   "source": [
    "plt.plot(ridge.coef_,'s',label='Ridge alpha 1')\n",
    "plt.plot(ridge10.coef_,'s',label='Ridge alpha 10')\n",
    "plt.plot(ridge01.coef_,'s',label='Ridge alpha 01')\n",
    "\n",
    "plt.plot(lr.coef_, 'o',label='LinearRegression')\n",
    "plt.xlabel(\"Coefficent index\")\n",
    "plt.ylabel('Coefficent magnitude')\n",
    "plt.ylim(-25,25)\n",
    "plt.hlines(0,0,len(lr.coef_))\n",
    "plt.legend(loc=1)\n"
   ]
  },
  {
   "cell_type": "code",
   "execution_count": 160,
   "metadata": {},
   "outputs": [
    {
     "name": "stdout",
     "output_type": "stream",
     "text": [
      "これにより十分なデータがある場合は正則化はあまり重要ではなく過剰適合に気をつけるべきだが、データがないならリッジ回帰(正規化)は有効である\n"
     ]
    },
    {
     "data": {
      "image/png": "[encoded data removed]",
      "text/plain": [
       "<Figure size 432x288 with 1 Axes>"
      ]
     },
     "metadata": {
      "needs_background": "dark"
     },
     "output_type": "display_data"
    }
   ],
   "source": [
    "mglearn.plots.plot_ridge_n_samples()\n",
    "print('これにより十分なデータがある場合は正則化はあまり重要ではなく過剰適合に気をつけるべきだが、データがないならリッジ回帰(正規化)は有効である')"
   ]
  },
  {
   "cell_type": "code",
   "execution_count": 161,
   "metadata": {},
   "outputs": [
    {
     "name": "stdout",
     "output_type": "stream",
     "text": [
      "\n",
      "・L1正則化　特定のデータの重みを0にする事で、不要なデータを削除する\n",
      "・L2正則化　データの大きさに応じて0に近づけて、滑らかなモデルとする\n",
      "\n"
     ]
    }
   ],
   "source": [
    "print(\n",
    "'''\n",
    "・L1正則化　特定のデータの重みを0にする事で、不要なデータを削除する\n",
    "・L2正則化　データの大きさに応じて0に近づけて、滑らかなモデルとする\n",
    "'''\n",
    ")"
   ]
  },
  {
   "cell_type": "code",
   "execution_count": 162,
   "metadata": {},
   "outputs": [],
   "source": [
    "from sklearn.linear_model import Lasso\n",
    "\n",
    " # 特徴量が制御されすぎている→alphaを減らす"
   ]
  },
  {
   "cell_type": "code",
   "execution_count": 163,
   "metadata": {},
   "outputs": [
    {
     "name": "stdout",
     "output_type": "stream",
     "text": [
      "訓練スコア:0.90\n",
      "テストスコア:0.77\n",
      "使用されている特徴量の数: 32個/104個\n"
     ]
    },
    {
     "name": "stderr",
     "output_type": "stream",
     "text": [
      "/Users/humu/anaconda3/lib/python3.7/site-packages/sklearn/linear_model/coordinate_descent.py:491: ConvergenceWarning: Objective did not converge. You might want to increase the number of iterations. Fitting data with very small alpha may cause precision problems.\n",
      "  ConvergenceWarning)\n"
     ]
    }
   ],
   "source": [
    "lasso001 = Lasso(alpha=0.01).fit(X_train,y_train)\n",
    "print('訓練スコア:{:.2f}'.format(lasso001.score(X_train,y_train)))\n",
    "print('テストスコア:{:.2f}'.format(lasso001.score(X_test,y_test)))\n",
    "print('使用されている特徴量の数: {}個/104個'.format(np.sum(lasso001.coef_ !=0)))"
   ]
  },
  {
   "cell_type": "code",
   "execution_count": 164,
   "metadata": {},
   "outputs": [
    {
     "name": "stdout",
     "output_type": "stream",
     "text": [
      "訓練スコア:0.94\n",
      "テストスコア:0.70\n",
      "使用されている特徴量の数: 100個/104個\n"
     ]
    }
   ],
   "source": [
    "lasso00001 = Lasso(alpha=0.0001).fit(X_train,y_train)\n",
    "print('訓練スコア:{:.2f}'.format(lasso00001.score(X_train,y_train)))\n",
    "print('テストスコア:{:.2f}'.format(lasso00001.score(X_test,y_test)))\n",
    "print('使用されている特徴量の数: {}個/104個'.format(np.sum(lasso00001.coef_ !=0))) # alphaを小さくしすぎると正則化の効果が薄れる。"
   ]
  },
  {
   "cell_type": "code",
   "execution_count": 165,
   "metadata": {},
   "outputs": [
    {
     "ename": "NameError",
     "evalue": "name 'lasso' is not defined",
     "output_type": "error",
     "traceback": [
      "\u001b[0;31m---------------------------------------------------------------------------\u001b[0m",
      "\u001b[0;31mNameError\u001b[0m                                 Traceback (most recent call last)",
      "\u001b[0;32m<ipython-input-165-13f4230251ed>\u001b[0m in \u001b[0;36m<module>\u001b[0;34m\u001b[0m\n\u001b[0;32m----> 1\u001b[0;31m \u001b[0mplt\u001b[0m\u001b[0;34m.\u001b[0m\u001b[0mplot\u001b[0m\u001b[0;34m(\u001b[0m\u001b[0mlasso\u001b[0m\u001b[0;34m.\u001b[0m\u001b[0mcoef_\u001b[0m\u001b[0;34m,\u001b[0m\u001b[0;34m's'\u001b[0m\u001b[0;34m,\u001b[0m\u001b[0mlabel\u001b[0m\u001b[0;34m=\u001b[0m\u001b[0;34m'lasso alpha=1'\u001b[0m\u001b[0;34m)\u001b[0m\u001b[0;34m\u001b[0m\u001b[0;34m\u001b[0m\u001b[0m\n\u001b[0m\u001b[1;32m      2\u001b[0m \u001b[0mplt\u001b[0m\u001b[0;34m.\u001b[0m\u001b[0mplot\u001b[0m\u001b[0;34m(\u001b[0m\u001b[0mlasso001\u001b[0m\u001b[0;34m.\u001b[0m\u001b[0mcoef_\u001b[0m\u001b[0;34m,\u001b[0m\u001b[0;34m'^'\u001b[0m\u001b[0;34m,\u001b[0m\u001b[0mlabel\u001b[0m\u001b[0;34m=\u001b[0m\u001b[0;34m'lasso alpha=0.01'\u001b[0m\u001b[0;34m)\u001b[0m\u001b[0;34m\u001b[0m\u001b[0;34m\u001b[0m\u001b[0m\n\u001b[1;32m      3\u001b[0m \u001b[0mplt\u001b[0m\u001b[0;34m.\u001b[0m\u001b[0mplot\u001b[0m\u001b[0;34m(\u001b[0m\u001b[0mlasso00001\u001b[0m\u001b[0;34m.\u001b[0m\u001b[0mcoef_\u001b[0m\u001b[0;34m,\u001b[0m\u001b[0;34m'v'\u001b[0m\u001b[0;34m,\u001b[0m\u001b[0mlabel\u001b[0m\u001b[0;34m=\u001b[0m\u001b[0;34m'lasso alpha=0.0001'\u001b[0m\u001b[0;34m)\u001b[0m\u001b[0;34m\u001b[0m\u001b[0;34m\u001b[0m\u001b[0m\n\u001b[1;32m      4\u001b[0m \u001b[0;34m\u001b[0m\u001b[0m\n\u001b[1;32m      5\u001b[0m \u001b[0mplt\u001b[0m\u001b[0;34m.\u001b[0m\u001b[0mplot\u001b[0m\u001b[0;34m(\u001b[0m\u001b[0mridge01\u001b[0m\u001b[0;34m.\u001b[0m\u001b[0mcoef_\u001b[0m\u001b[0;34m,\u001b[0m \u001b[0;34m'o'\u001b[0m\u001b[0;34m,\u001b[0m\u001b[0mlabel\u001b[0m\u001b[0;34m=\u001b[0m\u001b[0;34m'Ridge alpha=0.1'\u001b[0m\u001b[0;34m)\u001b[0m\u001b[0;34m\u001b[0m\u001b[0;34m\u001b[0m\u001b[0m\n",
      "\u001b[0;31mNameError\u001b[0m: name 'lasso' is not defined"
     ]
    }
   ],
   "source": [
    "plt.plot(lasso.coef_,'s',label='lasso alpha=1')\n",
    "plt.plot(lasso001.coef_,'^',label='lasso alpha=0.01')\n",
    "plt.plot(lasso00001.coef_,'v',label='lasso alpha=0.0001')\n",
    "\n",
    "plt.plot(ridge01.coef_, 'o',label='Ridge alpha=0.1')\n",
    "plt.xlabel(\"Coefficent index\")\n",
    "plt.ylabel('Coefficent magnitude')\n",
    "plt.ylim(-25,25)\n",
    "plt.legend(ncol=2, loc=(0,1.05))"
   ]
  },
  {
   "cell_type": "code",
   "execution_count": null,
   "metadata": {},
   "outputs": [],
   "source": [
    "print('LassoとRidgeを組み合わせたElasticNetクラスが存在する。L1,L2正則性二つを調整する必要がある')"
   ]
  },
  {
   "cell_type": "code",
   "execution_count": 167,
   "metadata": {},
   "outputs": [
    {
     "name": "stderr",
     "output_type": "stream",
     "text": [
      "/Users/humu/anaconda3/lib/python3.7/site-packages/sklearn/utils/deprecation.py:77: DeprecationWarning: Function make_blobs is deprecated; Please import make_blobs directly from scikit-learn\n",
      "  warnings.warn(msg, category=DeprecationWarning)\n"
     ]
    },
    {
     "data": {
      "text/plain": [
       "<matplotlib.legend.Legend at 0x1c256dd748>"
      ]
     },
     "execution_count": 167,
     "metadata": {},
     "output_type": "execute_result"
    },
    {
     "data": {
      "image/png": "[encoded data removed]",
      "text/plain": [
       "<Figure size 720x216 with 2 Axes>"
      ]
     },
     "metadata": {},
     "output_type": "display_data"
    }
   ],
   "source": [
    "from sklearn.linear_model import LogisticRegression\n",
    "from sklearn.svm import LinearSVC\n",
    "\n",
    "X,y = mglearn.datasets.make_forge()\n",
    "fig, axes =  plt.subplots(1,2,figsize=(10,3))\n",
    "\n",
    "for model, ax in zip([LinearSVC(), LogisticRegression()],axes):\n",
    "    clf = model.fit(X, y)\n",
    "    mglearn.plots.plot_2d_separator(clf,X,fill=False,eps=0.5,ax=ax,alpha=.7)\n",
    "    mglearn.discrete_scatter(X[:, 0], X[:, 1], y, ax=ax)\n",
    "    ax.set_title(\"{}\".format(clf.__class__.__name__), color='skyblue')\n",
    "    ax.set_xlabel(\"Feature 0\")\n",
    "    ax.set_ylabel(\"Feature 1\")\n",
    "axes[0].legend()"
   ]
  },
  {
   "cell_type": "code",
   "execution_count": null,
   "metadata": {},
   "outputs": [],
   "source": [
    "mglearn.plots.plot_linear_svc_regularization()"
   ]
  },
  {
   "cell_type": "code",
   "execution_count": null,
   "metadata": {},
   "outputs": [],
   "source": [
    "from sklearn.datasets import load_breast_cancer\n",
    "cancer = load_breast_cancer()\n",
    "X_train,X_test,y_train,y_test = train_test_split(\n",
    "cancer.data,cancer.target, stratify=cancer.target,random_state =42\n",
    ")"
   ]
  },
  {
   "cell_type": "code",
   "execution_count": null,
   "metadata": {},
   "outputs": [],
   "source": [
    "logreg = LogisticRegression().fit(X_train,y_train)\n",
    "print('訓練用スコア:{:.3f}'.format(logreg.score(X_train,y_train)))\n",
    "print('テスト用スコア:{:.3f}'.format(logreg.score(X_test,y_test)))\n",
    "print('訓練スコアとテストスコアが近いので、適合不足の可能性が高い。よってC値を増やして適合を強化する')"
   ]
  },
  {
   "cell_type": "code",
   "execution_count": null,
   "metadata": {},
   "outputs": [],
   "source": [
    "logreg100 = LogisticRegression(C=100).fit(X_train,y_train)\n",
    "print('訓練用スコア:{:.3f}'.format(logreg100.score(X_train,y_train)))\n",
    "print('テスト用スコア:{:.3f}'.format(logreg100.score(X_test,y_test))) # 結果より複雑な方が性能が高いとわかる"
   ]
  },
  {
   "cell_type": "code",
   "execution_count": null,
   "metadata": {},
   "outputs": [],
   "source": [
    "logreg001 = LogisticRegression(C=0.01).fit(X_train,y_train)\n",
    "print('訓練用スコア:{:.3f}'.format(logreg001.score(X_train,y_train)))\n",
    "print('テスト用スコア:{:.3f}'.format(logreg001.score(X_test,y_test))) # 上記2件より、適合不足が進みより精度が落ちることがわかる"
   ]
  },
  {
   "cell_type": "code",
   "execution_count": null,
   "metadata": {},
   "outputs": [],
   "source": [
    "plt.plot(logreg.coef_.T,'o',label='logreg C=1')\n",
    "plt.plot(logreg100.coef_.T,'^',label='logreg C=100')\n",
    "plt.plot(logreg001.coef_.T,'v',label='logreg C=0.001')\n",
    "plt.xticks(range(cancer.data.shape[1]),cancer.feature_names,rotation=90)\n",
    "plt.hlines(0,0,cancer.data.shape[1])\n",
    "plt.xlabel(\"Feature\")\n",
    "plt.ylabel('Coefficent magnitude')\n",
    "plt.ylim(-5,5)\n",
    "plt.legend()"
   ]
  },
  {
   "cell_type": "code",
   "execution_count": null,
   "metadata": {},
   "outputs": [],
   "source": [
    "for C,marker in zip([0.01,1,100],['o','^','v']):\n",
    "    lr_l1 = LogisticRegression(C=C,penalty=\"l1\").fit(X_train,y_train)\n",
    "    print('L1の訓練精度とC値:{:.3f}|{:.2f}'.format(lr_l1.score(X_train,y_train),C))\n",
    "    print('L1のテスト精度とC値:{:.3f}|{:.2f}'.format(lr_l1.score(X_test,y_test),C))\n",
    "    plt.plot(lr_l1.coef_.T,marker,label=\"{:.3f}\".format(C))\n",
    "    plt.xticks(range(cancer.data.shape[1]),cancer.feature_names,rotation=90)\n",
    "plt.hlines(0,0,cancer.data.shape[1])\n",
    "plt.xlabel(\"Feature\")\n",
    "plt.ylabel('Coefficent magnitude')\n",
    "plt.ylim(-5,5)\n",
    "plt.legend(loc=3)"
   ]
  },
  {
   "cell_type": "code",
   "execution_count": null,
   "metadata": {},
   "outputs": [],
   "source": [
    "from sklearn.datasets import make_blobs\n",
    "X,y = make_blobs(random_state=42)\n",
    "mglearn.discrete_scatter(X[:,0],X[:,1],y)\n",
    "plt.xlabel('Feature 0')\n",
    "plt.ylabel('Feature 1')\n",
    "plt.legend(['Class 0','Class 1','Class 2'])"
   ]
  },
  {
   "cell_type": "code",
   "execution_count": null,
   "metadata": {},
   "outputs": [],
   "source": [
    "# このデータセットでLinearSVCクラスを勉強させる\n",
    "linear_svm =  LinearSVC().fit(X,y)\n",
    "print('回帰係数の形状: ',linear_svm.coef_.shape) # ３クラスと2種類のデータセットx,y\n",
    "print('切片の形状: ',linear_svm.intercept_.shape) #3クラスとそれぞれの切片\n"
   ]
  },
  {
   "cell_type": "code",
   "execution_count": null,
   "metadata": {},
   "outputs": [],
   "source": [
    "mglearn.discrete_scatter(X[:,0],X[:,1],y)\n",
    "line = np.linspace(-15,15)\n",
    "for coef, intercept, color in zip(linear_svm.coef_, linear_svm.intercept_, ['b','r','g']):\n",
    "    plt.plot(line,-(line * coef[0] + intercept) / coef[1], c=color) # (line(x) * a(X) + b)/a(y)\n",
    "    plt.ylim(-10,15)\n",
    "    plt.xlim(-10,8)\n",
    "    plt.xlabel(\"Feature 0\")\n",
    "    plt.ylabel(\"Feature 1\")\n",
    "    plt.legend(['Class0','Class1','Class2','Line Class 0','Line class 1','Line Class 2'], loc=(1.01,0.3))\n",
    "print('それぞれの線がある特定の線とその他の関係で表示される')"
   ]
  },
  {
   "cell_type": "code",
   "execution_count": null,
   "metadata": {},
   "outputs": [],
   "source": [
    "mglearn.plots.plot_2d_classification(linear_svm, X, fill=True, alpha=.7)\n",
    "mglearn.discrete_scatter(X[:,0],X[:,1],y)\n",
    "line = np.linspace(-15,15)\n",
    "for coef, intercept, color in zip(linear_svm.coef_, linear_svm.intercept_, ['b','r','g']):\n",
    "    plt.plot(line,-(line * coef[0] + intercept) / coef[1], c=color) # (line(x) * a(X) + b)/a(y)\n",
    "    plt.ylim(-10,15)\n",
    "    plt.xlim(-10,8)\n",
    "    plt.xlabel(\"Feature 0\")\n",
    "    plt.ylabel(\"Feature 1\")\n",
    "    plt.legend(['Class0','Class1','Class2','Line Class 0','Line class 1','Line Class 2'], loc=(1.01,0.3))\n",
    "print('中央の三角形はそれぞれの線からの最短距離の点で分割する')\n"
   ]
  },
  {
   "cell_type": "code",
   "execution_count": null,
   "metadata": {},
   "outputs": [],
   "source": [
    "print('ナイーブベイズクラス分類器')\n",
    "X =  np.array([[0,1,0,1],[1,0,1,1],[0,0,0,1], [1,0,1,0]])\n",
    "y = np.array([0,1,0,1])\n",
    "X[y == 0] # y=0はindex0,2だけなので、それのXを抽出し合計する。"
   ]
  },
  {
   "cell_type": "code",
   "execution_count": null,
   "metadata": {},
   "outputs": [],
   "source": [
    "counts = {}\n",
    "for label in np.unique(y):\n",
    "    counts[label] =  X[y == label].sum(axis=0)\n",
    "print(\"Feature counts:\\n{}\".format(counts))\n",
    "    "
   ]
  },
  {
   "cell_type": "code",
   "execution_count": null,
   "metadata": {},
   "outputs": [],
   "source": [
    "mglearn.plots.plot_animal_tree\n",
    "print('過剰適合を防ぐ方法:1 事前枝刈り|2事後枝刈り ')"
   ]
  },
  {
   "cell_type": "code",
   "execution_count": null,
   "metadata": {},
   "outputs": [],
   "source": [
    "from sklearn.tree import DecisionTreeClassifier\n",
    "\n",
    "cancer = load_breast_cancer()\n",
    "X_train,X_test,y_train,y_test =  train_test_split(cancer.data,cancer.target,stratify=cancer.target,random_state=42)\n",
    "tree = DecisionTreeClassifier(max_depth=4,random_state=0) # 木の深さを指定することで過剰適合が抑制される\n",
    "tree.fit(X_train,y_train)\n",
    "print('訓練用データの精度{:.3f}'.format(tree.score(X_train,y_train)))\n",
    "print('テストデータの精度{:.3f}'.format(tree.score(X_test,y_test)))\n"
   ]
  },
  {
   "cell_type": "code",
   "execution_count": null,
   "metadata": {},
   "outputs": [],
   "source": [
    "from sklearn.tree import export_graphviz\n",
    "export_graphviz(tree,out_file='tree.dot',class_names=[\"malignant\",\"benign\"],feature_names=cancer.feature_names,impurity=False,filled=True)"
   ]
  },
  {
   "cell_type": "code",
   "execution_count": null,
   "metadata": {},
   "outputs": [],
   "source": [
    "import graphviz\n",
    "\n",
    "with open(\"tree.dot\") as f:\n",
    "    dot_graph = f.read()\n",
    "    display(graphviz.Source(dot_graph))"
   ]
  },
  {
   "cell_type": "code",
   "execution_count": null,
   "metadata": {},
   "outputs": [],
   "source": [
    "print('特徴量の重要性:\\n{}'.format(tree.feature_importances_))"
   ]
  },
  {
   "cell_type": "code",
   "execution_count": null,
   "metadata": {},
   "outputs": [],
   "source": [
    "def plot_feature_importances_cancer(model):\n",
    "    n_feature = cancer.data.shape[1] # 特徴量\n",
    "    plt.barh(range(n_feature),model.feature_importances_,align='center')\n",
    "    plt.yticks(np.arange(n_feature),cancer.feature_names)\n",
    "    plt.xlabel('Feature importace')\n",
    "    plt.ylabel('Feature')\n",
    "    \n",
    "plot_feature_importances_cancer(tree)\n",
    "    "
   ]
  },
  {
   "cell_type": "code",
   "execution_count": null,
   "metadata": {},
   "outputs": [],
   "source": [
    "tree = mglearn.plots.plot_tree_not_monotone()"
   ]
  },
  {
   "cell_type": "code",
   "execution_count": null,
   "metadata": {},
   "outputs": [],
   "source": [
    "import os\n",
    "ram_prices = pd.read_csv(os.path.join(mglearn.datasets.DATA_PATH,\"ram_price.csv\"))\n",
    "\n",
    "plt.semilogy(ram_prices.date,ram_prices.price)\n",
    "plt.xlabel('Year')\n",
    "plt.ylabel('Price in $/Mbyte')"
   ]
  },
  {
   "cell_type": "code",
   "execution_count": null,
   "metadata": {},
   "outputs": [],
   "source": [
    "from sklearn.tree import DecisionTreeRegressor\n",
    "# 過去のデータから2000年以降のデータを予想する\n",
    "data_train =  ram_prices[ram_prices.date < 2000]\n",
    "data_test = ram_prices[ram_prices.date >= 2000]\n",
    "# 日ずけに基づき価格を予想\n",
    "X_train = data_train.date[:,np.newaxis] # newaxis により それぞれの時間データが独立する\n",
    "# データとターゲットの関係を単純にするために対数変換\n",
    "y_train =  np.log(data_train.price)\n",
    "tree = DecisionTreeRegressor().fit(X_train,y_train)\n",
    "linear_reg =  LinearRegression().fit(X_train,y_train)\n",
    "# 全ての価格予想\n",
    "X_all =  ram_prices.date[:,np.newaxis] #  この値xからyを推測\n",
    "pred_tree = tree.predict(X_all)\n",
    "pred_linear = linear_reg.predict(X_all)\n",
    "price_tree = np.exp(pred_tree)\n",
    "price_linear = np.exp(pred_linear)"
   ]
  },
  {
   "cell_type": "code",
   "execution_count": null,
   "metadata": {},
   "outputs": [],
   "source": [
    "plt.semilogy(data_train.date,data_train.price,label='trainning data')\n",
    "plt.semilogy(data_test.date,data_test.price,label='test data')\n",
    "plt.semilogy(ram_prices.date,price_tree,label='tree data') # 決定木は新しい結果を生成して返すことはできない。よって知り得る最後の点を返し続ける\n",
    "plt.semilogy(ram_prices.date,price_linear,label='Linear data')\n",
    "plt.legend(loc='best')"
   ]
  },
  {
   "cell_type": "code",
   "execution_count": null,
   "metadata": {},
   "outputs": [],
   "source": [
    "from sklearn.ensemble import RandomForestClassifier\n",
    "from sklearn.datasets import make_moons\n",
    "X,y  =  make_moons(n_samples=100,noise=0.5,random_state=3)\n",
    "X_train,X_test,y_train,y_test =  train_test_split(X,y,stratify=y,random_state=42)\n",
    "forest = RandomForestClassifier(n_estimators=5,random_state= 2) # estimator は決定木の数\n",
    "forest.fit(X_train,y_train)\n",
    "fig, axes =  plt.subplots(2,3,figsize=( 20,10))\n",
    "for i , (ax,tree) in enumerate(zip(axes.ravel(),forest.estimators_)):\n",
    "    ax.set_title('Tree {}'.format(i),color='w')\n",
    "    mglearn.plots.plot_tree_partition(X_train,y_train,tree,ax=ax)\n",
    "    mglearn.plots.plot_2d_separator(forest, X_train, fill=True,ax=axes[-1,-1],alpha=.4)\n",
    "    axes[-1,-1].set_title(\"Random forest\",color='y')\n",
    "    mglearn.discrete_scatter(X_train[:,0],X_train[:,1],y_train)\n",
    "    \n"
   ]
  },
  {
   "cell_type": "code",
   "execution_count": null,
   "metadata": {},
   "outputs": [],
   "source": [
    "X_train,X_test,y_train,y_test =  train_test_split(cancer.data,cancer.target,random_state=0)\n",
    "forest =  RandomForestClassifier(n_estimators=100,random_state=0)\n",
    "forest.fit(X_train,y_train)\n",
    "print(' 訓練用データの精度{:.3f}'.format(forest.score(X_train,y_train)))\n",
    "print(' テストデータの精度{:.3f}'.format(forest.score(X_test,y_test)))"
   ]
  },
  {
   "cell_type": "code",
   "execution_count": null,
   "metadata": {},
   "outputs": [],
   "source": [
    "plot_feature_importances_cancer(forest)"
   ]
  },
  {
   "cell_type": "code",
   "execution_count": null,
   "metadata": {},
   "outputs": [],
   "source": [
    "from sklearn.ensemble import GradientBoostingClassifier\n",
    "X_train,X_test,y_train,y_test =  train_test_split(cancer.data,cancer.target,random_state=0)\n",
    "gbrt = GradientBoostingClassifier(random_state=0)\n",
    "gbrt.fit(X_train,y_train)\n",
    "print(' 訓練用データの精度{:.3f}'.format(gbrt.score(X_train,y_train))) \n",
    "# 訓練データが100より過剰適合している可能性があるんで学習率を下げる\n",
    "print(' テストデータの精度{:.3f}'.format(gbrt.score(X_test,y_test)))"
   ]
  },
  {
   "cell_type": "code",
   "execution_count": null,
   "metadata": {},
   "outputs": [],
   "source": [
    "gbrt = GradientBoostingClassifier(random_state=0,max_depth=1)\n",
    "gbrt.fit(X_train,y_train)\n",
    "print(' 訓練用データの精度{:.3f}'.format(gbrt.score(X_train,y_train))) \n",
    "# 訓練データが100より過剰適合している可能性があるんで学習率を下げる\n",
    "print(' テストデータの精度{:.3f}'.format(gbrt.score(X_test,y_test)))"
   ]
  },
  {
   "cell_type": "code",
   "execution_count": null,
   "metadata": {},
   "outputs": [],
   "source": [
    "gbrt = GradientBoostingClassifier(random_state=0,learning_rate=0.01)\n",
    "gbrt.fit(X_train,y_train)\n",
    "print(' 訓練用データの精度{:.3f}'.format(gbrt.score(X_train,y_train))) \n",
    "# 訓練データが100より過剰適合している可能性があるんで学習率を下げる\n",
    "print(' テストデータの精度{:.3f}'.format(gbrt.score(X_test,y_test)))"
   ]
  },
  {
   "cell_type": "code",
   "execution_count": null,
   "metadata": {},
   "outputs": [],
   "source": [
    "gbrt = GradientBoostingClassifier(random_state=0,max_depth=1)\n",
    "gbrt.fit(X_train,y_train)\n",
    "plot_feature_importances_cancer(gbrt)# ランダムフォレストと違い、いくつかの特徴量が無視されている"
   ]
  },
  {
   "cell_type": "code",
   "execution_count": null,
   "metadata": {},
   "outputs": [],
   "source": [
    "X, y =  make_blobs(centers=4, random_state=8)\n",
    "y = y % 2\n",
    "mglearn.discrete_scatter(X[:,0],X[:,1],y)\n",
    "plt.xlabel('Feature 0')\n",
    "plt.ylabel('Feature 1')\n",
    "plt.title('impossible 2 classfier',color='w')\n"
   ]
  },
  {
   "cell_type": "code",
   "execution_count": null,
   "metadata": {},
   "outputs": [],
   "source": [
    "from sklearn.svm import LinearSVC\n",
    "linear_svm = LinearSVC().fit(X,y)\n",
    "mglearn.plots.plot_2d_separator(linear_svm,X)\n",
    "mglearn.discrete_scatter(X[:,0],X[:,1],y)\n",
    "plt.xlabel('Feature 0')\n",
    "plt.ylabel('Feature 1')\n",
    "plt.title('impossible 2 classfier',color='w')"
   ]
  },
  {
   "cell_type": "code",
   "execution_count": null,
   "metadata": {},
   "outputs": [],
   "source": [
    "# 新しい特徴量を追加する。 2番目の特徴量の2乗を追加\n",
    "X_new = np.hstack([X,X[:,1:] ** 2]) # 2次元から三次元に\n",
    "from mpl_toolkits.mplot3d import Axes3D, axes3d\n",
    "figure = plt.figure()\n",
    "# 3Dで可視化\n",
    "ax = Axes3D(figure,elev=-152,azim=-26)\n",
    "# y== 0の点を先にプロットする\n",
    "mask = y == 0\n",
    "ax.scatter( X_new[mask,0], X_new[mask,1],X_new[mask,2], c='b', cmap=mglearn.cm2, s=60)\n",
    "ax.scatter( X_new[~mask,0],X_new[~mask,1],X_new[~mask,2],c='r',marker='^',cmap=mglearn.cm2,s=60)\n",
    "ax.set_xlabel(\"Feature 0\")\n",
    "ax.set_ylabel('Feature 1')\n",
    "ax.set_zlabel('Feature1 ** 2')"
   ]
  },
  {
   "cell_type": "code",
   "execution_count": null,
   "metadata": {},
   "outputs": [],
   "source": [
    "linear_svm_3d =  LinearSVC().fit(X_new,y)\n",
    "coef , intercept =  linear_svm_3d.coef_.ravel(), linear_svm_3d.intercept_\n",
    "# 線形決定境界の描写\n",
    "figure =  plt.figure()\n",
    "ax = Axes3D(figure,elev= -152,azim=-26)\n",
    "xx = np.linspace(X_new[:,0].min() - 2,X_new[:,0].max() + 2,50)\n",
    "yy = np.linspace(X_new[:,1].min() - 2,X_new[:,1].max() + 2,50) # ↑ +  →でドキュメントを一瞬見れる\n",
    "XX, YY =  np.meshgrid(xx,yy) \n",
    "ZZ =  (coef[0] * XX +  coef[1] * YY + intercept) /-coef[2]\n",
    "ax.plot_surface( XX,YY,ZZ,rstride=8,cstride=8,alpha=0.3)\n",
    "ax.scatter( X_new[mask,0], X_new[mask,1],X_new[mask,2], c='b', cmap=mglearn.cm2, s=60)\n",
    "ax.scatter( X_new[~mask,0],X_new[~mask,1],X_new[~mask,2],c='r',marker='^',cmap=mglearn.cm2,s=60)\n",
    "ax.set_xlabel(\"Feature 0\")\n",
    "ax.set_ylabel('Feature 1')\n",
    "ax.set_zlabel('Feature1 ** 2')"
   ]
  },
  {
   "cell_type": "code",
   "execution_count": null,
   "metadata": {},
   "outputs": [],
   "source": [
    "ZZ =  YY ** 2\n",
    "dec  =  linear_svm_3d.decision_function(np.c_[XX.ravel(),YY.ravel(),ZZ.ravel()])\n",
    "plt.contourf( XX,YY,dec.reshape(XX.shape),levels=[dec.min(),0,dec.max()],cmap=mglearn.cm2, alpha=.5)\n",
    "mglearn.discrete_scatter(X[:, 0], X[:, 1], y)\n",
    "plt.xlabel(\"Feature 0\")\n",
    "plt.ylabel(\"Feature 1\")"
   ]
  },
  {
   "cell_type": "code",
   "execution_count": null,
   "metadata": {},
   "outputs": [],
   "source": [
    "from sklearn.svm import SVC\n",
    "X, y =  mglearn.tools.make_handcrafted_dataset()\n",
    "svm = SVC(kernel='rbf',C=10,gamma=0.1).fit(X,y) # Cは線形同様、正則化パラメータとして左右し、gammaはガウンシアンカーネルの幅などに左右する\n",
    "mglearn.plots.plot_2d_separator(svm,X,eps=.5)\n",
    "mglearn.discrete_scatter(X[:, 0], X[:, 1], y)\n",
    "sv =  svm.support_vectors_\n",
    "sv_labels = svm.dual_coef_.ravel() > 0\n",
    "mglearn.discrete_scatter( sv[:,0],sv[:,1],sv_labels,s=15,markeredgewidth=3)\n",
    "plt.xlabel(\"Feature 0\")\n",
    "plt.ylabel(\"Feature 1\")"
   ]
  },
  {
   "cell_type": "code",
   "execution_count": null,
   "metadata": {},
   "outputs": [],
   "source": [
    "fig, axes = plt.subplots(3, 3, figsize=(15, 10))\n",
    "for ax, C in zip(axes, [-1, 0, 3]):\n",
    "  for a, gamma in zip(ax, range(-1, 2)):\n",
    "    mglearn.plots.plot_svm(log_C=C, log_gamma=gamma, ax=a)\n",
    "axes[0, 0].legend([\"class 0\", \"class 1\", \"sv class 0\", \"sv class 1\"],\n",
    "                  ncol=4, loc=(.9, 1.2))"
   ]
  },
  {
   "cell_type": "code",
   "execution_count": null,
   "metadata": {},
   "outputs": [],
   "source": [
    "X_train,X_test,y_train,y_test =  train_test_split(cancer.data,cancer.target,random_state=0)\n",
    "svc = SVC()\n",
    "svc.fit(X_train,y_train)\n",
    "print('訓練用データの精度:{:.2f}'.format(svc.score(X_train,y_train))) # この値より過剰適合している\n",
    "print('テスト用データの精度:{:.2f}'.format(svc.score(X_test,y_test)))\n",
    "# plt.plot( X_train.min(axis=0),'o',label=' min')\n",
    "# plt.plot(X_train.max(axis=0),'^',label='max')\n",
    "plt.boxplot(X_train, sym='+')\n",
    "plt.ylim(10**-1, 10**4)\n",
    "plt.legend(loc=4)\n",
    "plt.xlabel('Feature index')\n",
    "plt.ylabel('Feature magnitude')\n",
    "plt.yscale(\"log\")"
   ]
  },
  {
   "cell_type": "code",
   "execution_count": null,
   "metadata": {},
   "outputs": [],
   "source": [
    "# 最小値の計算\n",
    "min_on_training = X_train.min(axis=0)\n",
    "# レンジ = 最大値 - 最小値を計算\n",
    "range_on_training = (X_train - min_on_training).max(axis=0)\n",
    "# 最小値を引いてからレンジで割ることで、min=0、max=1に変換される\n",
    "X_train_scaled = (X_train - min_on_training) / range_on_training\n",
    "print(\"スケール済み特徴量の最小値: {}\".format(X_train_scaled.min(axis=0)))\n",
    " ## スケール済み特徴量の最小値: [0. 0. 0. 0. 0. 0. 0. 0. 0. 0. 0. 0. 0. 0. 0. 0. 0. 0. 0. 0. 0. 0. 0. 0.\n",
    " ##  0. 0. 0. 0. 0. 0.]\n",
    "print(\"スケール済み特徴量の最大値: {}\".format(X_train_scaled.max(axis=0)))\n",
    " ## スケール済み特徴量の最大値: [1. 1. 1. 1. 1. 1. 1. 1. 1. 1. 1. 1. 1. 1. 1. 1. 1. 1. 1. 1. 1. 1. 1. 1.\n",
    " ##  1. 1. 1. 1. 1. 1.]"
   ]
  },
  {
   "cell_type": "code",
   "execution_count": null,
   "metadata": {},
   "outputs": [],
   "source": [
    "# テストセットについても同様に行う。 ただし、最小値については訓練用の物を使用する\n",
    "X_test_scaled = (X_test - min_on_training) / range_on_training\n",
    "print(\"テストセットの最小値: {}\".format(X_test_scaled.min(axis=0)))\n",
    "print(\"テストセットの最大値: {}\".format(X_test_scaled.max(axis=0)))"
   ]
  },
  {
   "cell_type": "code",
   "execution_count": null,
   "metadata": {},
   "outputs": [],
   "source": [
    "svc = SVC()\n",
    "svc.fit(X_train_scaled,y_train)\n",
    "print('訓練用データの精度:{:.4f}'.format(svc.score(X_train_scaled,y_train)))\n",
    "print('テストデータの精度:{:.4f}'.format(svc.score(X_test_scaled,y_test)))"
   ]
  },
  {
   "cell_type": "code",
   "execution_count": null,
   "metadata": {},
   "outputs": [],
   "source": [
    "svc = SVC(C=1000)\n",
    "svc.fit(X_train_scaled,y_train)\n",
    "print('訓練用データの精度:{:.4f}'.format(svc.score(X_train_scaled,y_train)))\n",
    "print('テストデータの精度:{:.4f}'.format(svc.score(X_test_scaled,y_test)))"
   ]
  },
  {
   "cell_type": "code",
   "execution_count": null,
   "metadata": {},
   "outputs": [],
   "source": [
    "display(mglearn.plots.plot_logistic_regression_graph())"
   ]
  },
  {
   "cell_type": "code",
   "execution_count": null,
   "metadata": {},
   "outputs": [],
   "source": [
    "display(mglearn.plots.plot_single_hidden_layer_graph())"
   ]
  },
  {
   "cell_type": "code",
   "execution_count": null,
   "metadata": {},
   "outputs": [],
   "source": [
    "line =  np.linspace(-3,3,100)\n",
    "plt.plot(line,np.tanh(line),label='tanh')\n",
    "plt.plot(line,np.maximum(line,0),label=\"relu\")\n",
    "plt.legend(loc='best')\n",
    "plt.xlabel('x')\n",
    "plt.ylabel('relu(x),tanh(x)')"
   ]
  },
  {
   "cell_type": "code",
   "execution_count": null,
   "metadata": {},
   "outputs": [],
   "source": [
    "mglearn.plots.plot_two_hidden_layer_graph()"
   ]
  },
  {
   "cell_type": "code",
   "execution_count": null,
   "metadata": {},
   "outputs": [],
   "source": [
    "from sklearn.neural_network import MLPClassifier\n",
    "from sklearn.datasets import make_moons\n",
    "X,y = make_moons(n_samples=100,noise=0.25,random_state=3)\n",
    "X_train,X_test,y_train,y_test = train_test_split(X,y,stratify=y,random_state=42)\n",
    "mlp = MLPClassifier(solver='lbfgs',random_state=0).fit(X_train,y_train)\n",
    "mglearn.plots.plot_2d_separator(mlp,X_train,fill=True,alpha=.3)\n",
    "mglearn.discrete_scatter(X_train[:,0],X_train[:,1],y_train)\n",
    "plt.xlabel('Feature 0')\n",
    "plt.ylabel('Feature 1')"
   ]
  },
  {
   "cell_type": "code",
   "execution_count": null,
   "metadata": {},
   "outputs": [],
   "source": [
    "X,y = make_moons(n_samples=100,noise=0.25,random_state=3)\n",
    "X_train,X_test,y_train,y_test = train_test_split(X,y,stratify=y,random_state=42)\n",
    "mlp = MLPClassifier(solver='lbfgs',random_state=0,hidden_layer_sizes=[100]).fit(X_train,y_train) # レイヤーサイズを指定するとなめらかじゃなくなる\n",
    "mglearn.plots.plot_2d_separator(mlp,X_train,fill=True,alpha=.3)\n",
    "mglearn.discrete_scatter(X_train[:,0],X_train[:,1],y_train)\n",
    "plt.xlabel('Feature 0')\n",
    "plt.ylabel('Feature 1')"
   ]
  },
  {
   "cell_type": "code",
   "execution_count": null,
   "metadata": {},
   "outputs": [],
   "source": [
    "X,y = make_moons(n_samples=100,noise=0.25,random_state=3)\n",
    "X_train,X_test,y_train,y_test = train_test_split(X,y,stratify=y,random_state=42)\n",
    "mlp = MLPClassifier(solver='lbfgs',random_state=0,hidden_layer_sizes=[10,10]).fit(X_train,y_train) # 隠れ層を増やす\n",
    "mglearn.plots.plot_2d_separator(mlp,X_train,fill=True,alpha=.3)\n",
    "mglearn.discrete_scatter(X_train[:,0],X_train[:,1],y_train)\n",
    "plt.xlabel('Feature 0')\n",
    "plt.ylabel('Feature 1')"
   ]
  },
  {
   "cell_type": "code",
   "execution_count": null,
   "metadata": {},
   "outputs": [],
   "source": [
    "mlp = MLPClassifier(solver='lbfgs',activation='tanh',random_state=0,hidden_layer_sizes=[10,10]).fit(X_train,y_train) # 隠れ層を増やす\n",
    "mglearn.plots.plot_2d_separator(mlp,X_train,fill=True,alpha=.3)\n",
    "mglearn.discrete_scatter(X_train[:,0],X_train[:,1],y_train)\n",
    "plt.xlabel('Feature 0')\n",
    "plt.ylabel('Feature 1')"
   ]
  },
  {
   "cell_type": "code",
   "execution_count": null,
   "metadata": {},
   "outputs": [],
   "source": [
    "fig,axes = plt.subplots(2,4,figsize=(20,8))\n",
    "for axx , n_hidden_nodes in zip(axes,[10,100]):\n",
    "    for ax, alpha in zip(axx,[0.0001,0.01,0.1,1]):\n",
    "        mlp = MLPClassifier(solver='lbfgs', random_state=0,hidden_layer_sizes=[n_hidden_nodes,n_hidden_nodes], alpha=alpha)\n",
    "        mlp.fit(X_train,y_train)\n",
    "        mglearn.plots.plot_2d_separator(mlp,X_train,fill=True,alpha=.3,ax=ax)\n",
    "        mglearn.discrete_scatter(X_train[:,0],X_train[:,1],y_train,ax=ax)\n",
    "        ax.set_title(\"n_hidden_nodes=[{},{}]\\nalpha|{:.4f}\".format(n_hidden_nodes,n_hidden_nodes,alpha),color='lightgreen')"
   ]
  },
  {
   "cell_type": "code",
   "execution_count": null,
   "metadata": {},
   "outputs": [],
   "source": [
    "fig,axes = plt.subplots(2,4,figsize=(20,8))\n",
    "for i,ax in enumerate(axes.ravel()):\n",
    "    mlp = MLPClassifier(solver='lbfgs', random_state=i,hidden_layer_sizes=[100,100]) \n",
    "    mlp.fit(X_train,y_train)\n",
    "    mglearn.plots.plot_2d_separator(mlp,X_train,fill=True,alpha=.3,ax=ax)\n",
    "    mglearn.discrete_scatter(X_train[:,0],X_train[:,1],y_train,ax=ax)\n",
    "print('random_stateが変わるたびに全く異なるモデルが得られる')"
   ]
  },
  {
   "cell_type": "code",
   "execution_count": null,
   "metadata": {},
   "outputs": [],
   "source": [
    "print(\"cancer data pre-feature max:\\n{}\".format(cancer.data.max(axis=0)))"
   ]
  },
  {
   "cell_type": "code",
   "execution_count": null,
   "metadata": {},
   "outputs": [],
   "source": [
    "X_train,X_test,y_train,y_test =  train_test_split(cancer.data,cancer.target,random_state=0 )\n",
    "mlp  = MLPClassifier(random_state=42)\n",
    "mlp.fit(X_train,y_train)\n",
    "print('訓練用データの精度{:.2f}'.format(mlp.score(X_train,y_train)))\n",
    "print('テスト用データの精度{:.2f}'.format(mlp.score(X_test,y_test)))"
   ]
  },
  {
   "cell_type": "code",
   "execution_count": null,
   "metadata": {},
   "outputs": [],
   "source": [
    "# 訓練データの特徴量ごとに平均値を算出\n",
    "mean_on_train =  X_train.mean(axis=0)\n",
    "std_on_train =  X_train.std(axis=0)"
   ]
  },
  {
   "cell_type": "code",
   "execution_count": null,
   "metadata": {},
   "outputs": [],
   "source": [
    "# 平均値からの+-差分表示にスケールする。\n",
    "X_train_scaled =  (X_train - mean_on_train) / std_on_train\n",
    "X_test_scaled =   (X_test - mean_on_train) / std_on_train\n",
    "mlp = MLPClassifier(random_state=0)\n",
    "mlp.fit(X_train_scaled,y_train)\n",
    "print('訓練用データの精度{:.3f}'.format(mlp.score(X_train_scaled,y_train)))\n",
    "print('テスト用データの精度{:.3f}'.format(mlp.score(X_test_scaled,y_test)))\n",
    "\n"
   ]
  },
  {
   "cell_type": "code",
   "execution_count": null,
   "metadata": {},
   "outputs": [],
   "source": [
    "mlp = MLPClassifier(max_iter=1000,random_state=0)\n",
    "mlp.fit(X_train_scaled,y_train)\n",
    "print('訓練用データの精度{:.3f}'.format(mlp.score(X_train_scaled,y_train)))\n",
    "print('テスト用データの精度{:.3f}'.format(mlp.score(X_test_scaled,y_test)))"
   ]
  },
  {
   "cell_type": "code",
   "execution_count": null,
   "metadata": {},
   "outputs": [],
   "source": [
    "mlp = MLPClassifier(max_iter=1000,alpha=1,random_state=0)\n",
    "mlp.fit(X_train_scaled,y_train)\n",
    "print('訓練用データの精度{:.3f}'.format(mlp.score(X_train_scaled,y_train)))\n",
    "print('テスト用データの精度{:.3f}'.format(mlp.score(X_test_scaled,y_test)))"
   ]
  },
  {
   "cell_type": "code",
   "execution_count": null,
   "metadata": {},
   "outputs": [],
   "source": [
    "plt.figure(figsize=(20,5))\n",
    "plt.imshow(mlp.coefs_[0],interpolation='none',cmap='viridis')\n",
    "plt.yticks(range( 30),cancer.feature_names)\n",
    "plt.xlabel('Columns in weight matrix')\n",
    "plt.ylabel('Input feature')\n",
    "plt.colorbar # 0に近いやつ は重みが小さい特徴量であまり重要ではないと言える。"
   ]
  },
  {
   "cell_type": "code",
   "execution_count": null,
   "metadata": {},
   "outputs": [],
   "source": [
    "from sklearn.ensemble import  GradientBoostingClassifier\n",
    "from sklearn.datasets import make_circles\n",
    "X , y =  make_circles(noise=0.25, factor=0.5,random_state=1)\n",
    "y_named =  np.array([\"blue\",\"red\"])[y] #  0:blue,1:redに分ける\n",
    "X_train,X_test,y_named_train,y_named_test,y_train,y_test =  train_test_split(X,y_named,y,random_state=0 )\n",
    "\n",
    "gbrt = GradientBoostingClassifier(random_state=0)\n",
    "gbrt.fit(X_train,y_named_train)\n",
    "print('X_test.shape: {}'.format(X_test.shape))\n",
    "print(\"Decision function shape:{}\".format(gbrt.decision_function(X_test).shape))\n"
   ]
  },
  {
   "cell_type": "code",
   "execution_count": null,
   "metadata": {},
   "outputs": [],
   "source": [
    "print('Desion function:\\n{}'.format(gbrt.decision_function(X_test)[:10])) # 符号を見ることで予測クラスがわかる。"
   ]
  },
  {
   "cell_type": "code",
   "execution_count": null,
   "metadata": {},
   "outputs": [],
   "source": [
    "print(\"Decision function  which ?:{}\".format(gbrt.decision_function(X_test) > 0))"
   ]
  },
  {
   "cell_type": "code",
   "execution_count": null,
   "metadata": {},
   "outputs": [],
   "source": [
    "print(\"Decision function predict:{}\".format(gbrt.predict(X_test))) # 予測結果\n",
    "gbrt.classes_ # それぞれのクラスのラベルを保持する index-label"
   ]
  },
  {
   "cell_type": "code",
   "execution_count": null,
   "metadata": {},
   "outputs": [],
   "source": [
    "greater_zero =  (gbrt.decision_function(X_test) > 0).astype(int)\n",
    "greater_zero\n",
    "# 0|1をクラスのインデックスとして使う。\n",
    "pred =  gbrt.classes_[greater_zero]"
   ]
  },
  {
   "cell_type": "code",
   "execution_count": null,
   "metadata": {},
   "outputs": [],
   "source": [
    "np.all(pred == gbrt.predict(X_test))"
   ]
  },
  {
   "cell_type": "code",
   "execution_count": null,
   "metadata": {},
   "outputs": [],
   "source": [
    "decision_function = gbrt.decision_function(X_test)\n",
    "print(\"決定関数　最小:{:.2f} 最大:{:.2f} \".format(np.min(decision_function),np.max(decision_function)))"
   ]
  },
  {
   "cell_type": "code",
   "execution_count": null,
   "metadata": {},
   "outputs": [],
   "source": [
    "# スケールを確認する。\n",
    "fig, axes = plt.subplots(1,2,figsize=(13,5))\n",
    "mglearn.tools.plot_2d_separator(gbrt, X, ax=axes[0], alpha=.4,\n",
    "fill=True, cm=mglearn.cm2)\n",
    "score_image = mglearn.tools.plot_2d_scores(gbrt, X, ax=axes[1],\n",
    "alpha=.4, cm=mglearn.ReBl)\n",
    "for ax in axes:\n",
    "    mglearn.discrete_scatter(X_test[:, 0], X_test[:, 1], y_test,\n",
    "markers='^', ax=ax)\n",
    "mglearn.discrete_scatter(X_train[:, 0], X_train[:, 1], y_train,\n",
    "markers='o', ax=ax)\n",
    "ax.set_xlabel(\"Feature 0\")\n",
    "ax.set_ylabel(\"Feature 1\")\n",
    "cbar = plt.colorbar(score_image,ax=axes.tolist())\n",
    "axes[0].legend([\"Test class 0\", \"Test class 1\", \"Train class 0\",\n",
    "\"Train class 1\"], ncol=4, loc=(.1, 1.1))"
   ]
  },
  {
   "cell_type": "code",
   "execution_count": null,
   "metadata": {},
   "outputs": [],
   "source": [
    "print(\"Shape of probabilities: {}\".format(gbrt.predict_proba(X_test).shape))"
   ]
  },
  {
   "cell_type": "code",
   "execution_count": null,
   "metadata": {},
   "outputs": [],
   "source": [
    "# show the first few entries of predict_proba\n",
    "print(\"Predicted probabilities:\\n{}\".format(\n",
    "gbrt.predict_proba(X_test[:6])))"
   ]
  },
  {
   "cell_type": "code",
   "execution_count": 171,
   "metadata": {},
   "outputs": [
    {
     "name": "stdout",
     "output_type": "stream",
     "text": [
      "Decision function shape: (38, 3)\n",
      "Decision function:\n",
      "[[-0.52931069  1.46560359 -0.50448467]\n",
      " [ 1.51154215 -0.49561142 -0.50310736]\n",
      " [-0.52379401 -0.4676268   1.51953786]\n",
      " [-0.52931069  1.46560359 -0.50448467]\n",
      " [-0.53107259  1.28190451  0.21510024]\n",
      " [ 1.51154215 -0.49561142 -0.50310736]]\n"
     ]
    }
   ],
   "source": [
    "from sklearn.datasets import load_iris\n",
    "iris = load_iris()\n",
    "X_train, X_test, y_train, y_test = train_test_split(\n",
    "iris.data, iris.target, random_state=42)\n",
    "gbrt = GradientBoostingClassifier(learning_rate=0.01,random_state=0)\n",
    "gbrt.fit(X_train, y_train)\n",
    "print(\"Decision function shape: {}\".format(gbrt.decision_function(X_test).shape))\n",
    "# plot the first few entries of the decision function\n",
    "print(\"Decision function:\\n{}\".format(gbrt.decision_function(X_test)[:6, :]))"
   ]
  },
  {
   "cell_type": "code",
   "execution_count": null,
   "metadata": {},
   "outputs": [],
   "source": [
    "print(\"Argmax of decision function:\\n{}\".format(np.argmax(gbrt.decision_function(X_test),axis=1)))\n",
    "print(\"Predictions:\\n{}\".format(gbrt.predict(X_test)))"
   ]
  },
  {
   "cell_type": "code",
   "execution_count": 175,
   "metadata": {},
   "outputs": [
    {
     "name": "stdout",
     "output_type": "stream",
     "text": [
      "unique classes in training data: ['setosa' 'versicolor' 'virginica']\n",
      "predictions: ['versicolor' 'setosa' 'virginica' 'versicolor' 'versicolor' 'setosa'\n",
      " 'versicolor' 'virginica' 'versicolor' 'versicolor']\n",
      "argmax of decision function: [1 0 2 1 1 0 1 2 1 1]\n",
      "argmax combined with classes_: ['versicolor' 'setosa' 'virginica' 'versicolor' 'versicolor' 'setosa'\n",
      " 'versicolor' 'virginica' 'versicolor' 'versicolor']\n"
     ]
    }
   ],
   "source": [
    "logreg = LogisticRegression()\n",
    "named_target = iris.target_names[y_train]\n",
    "logreg.fit(X_train,named_target)\n",
    "print(\"unique classes in training data: {}\".format(logreg.classes_))\n",
    "print(\"predictions: {}\".format(logreg.predict(X_test)[:10]))\n",
    "argmax_dec_func = np.argmax(logreg.decision_function(X_test), axis=1)\n",
    "print(\"argmax of decision function: {}\".format(argmax_dec_func[:10]))\n",
    "print(\"argmax combined with classes_: {}\".format(\n",
    "logreg.classes_[argmax_dec_func][:10]))"
   ]
  },
  {
   "cell_type": "code",
   "execution_count": null,
   "metadata": {},
   "outputs": [],
   "source": []
  }
 ],
 "metadata": {
  "kernelspec": {
   "display_name": "Python 3",
   "language": "python",
   "name": "python3"
  },
  "language_info": {
   "codemirror_mode": {
    "name": "ipython",
    "version": 3
   },
   "file_extension": ".py",
   "mimetype": "text/x-python",
   "name": "python",
   "nbconvert_exporter": "python",
   "pygments_lexer": "ipython3",
   "version": "3.7.2"
  }
 },
 "nbformat": 4,
 "nbformat_minor": 2
}
