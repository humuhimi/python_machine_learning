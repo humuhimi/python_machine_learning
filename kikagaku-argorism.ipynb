{
 "cells": [
  {
   "cell_type": "markdown",
   "metadata": {},
   "source": [
    "## 演習課題(60分)\n",
    "**問題**<br>\n",
    "10000までの素数を表示するプログラムを書いてください。<br>\n",
    "素数:1,2,3,5,7,.....(自分の数でしか割り切れない)<br>\n",
    "**発展**<br>\n",
    "スピードアップを図る<br>"
   ]
  },
  {
   "cell_type": "code",
   "execution_count": 235,
   "metadata": {},
   "outputs": [
    {
     "name": "stdout",
     "output_type": "stream",
     "text": [
      "CPU times: user 4 µs, sys: 1 µs, total: 5 µs\n",
      "Wall time: 7.87 µs\n"
     ]
    }
   ],
   "source": [
    "%%time\n",
    "# 処理にかかった時間を表示\n",
    "a= 1"
   ]
  },
  {
   "cell_type": "code",
   "execution_count": 236,
   "metadata": {},
   "outputs": [
    {
     "name": "stdout",
     "output_type": "stream",
     "text": [
      "27.2 ns ± 5.28 ns per loop (mean ± std. dev. of 7 runs, 10000000 loops each)\n"
     ]
    }
   ],
   "source": [
    "%%timeit\n",
    "#time iteration 繰り返しの処理を計算\n",
    "a= 1"
   ]
  },
  {
   "cell_type": "markdown",
   "metadata": {},
   "source": [
    "・アルゴリズムを文章に書く<br>\n",
    "・コードを書く→まず動く→リファクタリング<br>"
   ]
  },
  {
   "cell_type": "code",
   "execution_count": 237,
   "metadata": {},
   "outputs": [
    {
     "data": {
      "text/plain": [
       "'\\n素数の特徴\\n・正の数\\n・1とその数でしか割り切れない。\\n(1-10の場合)\\n素数:2, 3, 5, 7\\n素因数分解\\n1\\n1-2\\n1-3\\n1-4,2-2\\n1-5\\n1-6,2-3\\n1-7\\n1-8,2-4\\n1-9,3-3\\n-----\\n10000までの素数を表示する。\\n1-10000\\n→\\n\\nwhile i < 10001:\\n\\n    i++\\n    \\n\\nprime append num\\ndivd is used for ture false\\n\\ntry one by one\\n\\n'"
      ]
     },
     "execution_count": 237,
     "metadata": {},
     "output_type": "execute_result"
    }
   ],
   "source": [
    "\"\"\"\n",
    "素数の特徴\n",
    "・正の数\n",
    "・1とその数でしか割り切れない。\n",
    "(1-10の場合)\n",
    "素数:2, 3, 5, 7\n",
    "素因数分解\n",
    "1\n",
    "1-2\n",
    "1-3\n",
    "1-4,2-2\n",
    "1-5\n",
    "1-6,2-3\n",
    "1-7\n",
    "1-8,2-4\n",
    "1-9,3-3\n",
    "-----\n",
    "10000までの素数を表示する。\n",
    "1-10000\n",
    "→\n",
    "\n",
    "while i < 10001:\n",
    "\n",
    "    i++\n",
    "    \n",
    "\n",
    "prime append num\n",
    "divd is used for ture false\n",
    "\n",
    "try one by one\n",
    "\n",
    "\"\"\""
   ]
  },
  {
   "cell_type": "code",
   "execution_count": 238,
   "metadata": {},
   "outputs": [
    {
     "name": "stdout",
     "output_type": "stream",
     "text": [
      "[2, 3, 5, 7, 11, 13, 17, 19, 23, 29, 31, 37, 41, 43, 47, 53, 59, 61, 67, 71, 73, 79, 83, 89, 97, 101, 103, 107, 109, 113, 127, 131, 137, 139, 149, 151, 157, 163, 167, 173, 179, 181, 191, 193, 197, 199, 211, 223, 227, 229, 233, 239, 241, 251, 257, 263, 269, 271, 277, 281, 283, 293, 307, 311, 313, 317, 331, 337, 347, 349, 353, 359, 367, 373, 379, 383, 389, 397, 401, 409, 419, 421, 431, 433, 439, 443, 449, 457, 461, 463, 467, 479, 487, 491, 499, 503, 509, 521, 523, 541, 547, 557, 563, 569, 571, 577, 587, 593, 599, 601, 607, 613, 617, 619, 631, 641, 643, 647, 653, 659, 661, 673, 677, 683, 691, 701, 709, 719, 727, 733, 739, 743, 751, 757, 761, 769, 773, 787, 797, 809, 811, 821, 823, 827, 829, 839, 853, 857, 859, 863, 877, 881, 883, 887, 907, 911, 919, 929, 937, 941, 947, 953, 967, 971, 977, 983, 991, 997, 1009, 1013, 1019, 1021, 1031, 1033, 1039, 1049, 1051, 1061, 1063, 1069, 1087, 1091, 1093, 1097, 1103, 1109, 1117, 1123, 1129, 1151, 1153, 1163, 1171, 1181, 1187, 1193, 1201, 1213, 1217, 1223, 1229, 1231, 1237, 1249, 1259, 1277, 1279, 1283, 1289, 1291, 1297, 1301, 1303, 1307, 1319, 1321, 1327, 1361, 1367, 1373, 1381, 1399, 1409, 1423, 1427, 1429, 1433, 1439, 1447, 1451, 1453, 1459, 1471, 1481, 1483, 1487, 1489, 1493, 1499, 1511, 1523, 1531, 1543, 1549, 1553, 1559, 1567, 1571, 1579, 1583, 1597, 1601, 1607, 1609, 1613, 1619, 1621, 1627, 1637, 1657, 1663, 1667, 1669, 1693, 1697, 1699, 1709, 1721, 1723, 1733, 1741, 1747, 1753, 1759, 1777, 1783, 1787, 1789, 1801, 1811, 1823, 1831, 1847, 1861, 1867, 1871, 1873, 1877, 1879, 1889, 1901, 1907, 1913, 1931, 1933, 1949, 1951, 1973, 1979, 1987, 1993, 1997, 1999, 2003, 2011, 2017, 2027, 2029, 2039, 2053, 2063, 2069, 2081, 2083, 2087, 2089, 2099, 2111, 2113, 2129, 2131, 2137, 2141, 2143, 2153, 2161, 2179, 2203, 2207, 2213, 2221, 2237, 2239, 2243, 2251, 2267, 2269, 2273, 2281, 2287, 2293, 2297, 2309, 2311, 2333, 2339, 2341, 2347, 2351, 2357, 2371, 2377, 2381, 2383, 2389, 2393, 2399, 2411, 2417, 2423, 2437, 2441, 2447, 2459, 2467, 2473, 2477, 2503, 2521, 2531, 2539, 2543, 2549, 2551, 2557, 2579, 2591, 2593, 2609, 2617, 2621, 2633, 2647, 2657, 2659, 2663, 2671, 2677, 2683, 2687, 2689, 2693, 2699, 2707, 2711, 2713, 2719, 2729, 2731, 2741, 2749, 2753, 2767, 2777, 2789, 2791, 2797, 2801, 2803, 2819, 2833, 2837, 2843, 2851, 2857, 2861, 2879, 2887, 2897, 2903, 2909, 2917, 2927, 2939, 2953, 2957, 2963, 2969, 2971, 2999, 3001, 3011, 3019, 3023, 3037, 3041, 3049, 3061, 3067, 3079, 3083, 3089, 3109, 3119, 3121, 3137, 3163, 3167, 3169, 3181, 3187, 3191, 3203, 3209, 3217, 3221, 3229, 3251, 3253, 3257, 3259, 3271, 3299, 3301, 3307, 3313, 3319, 3323, 3329, 3331, 3343, 3347, 3359, 3361, 3371, 3373, 3389, 3391, 3407, 3413, 3433, 3449, 3457, 3461, 3463, 3467, 3469, 3491, 3499, 3511, 3517, 3527, 3529, 3533, 3539, 3541, 3547, 3557, 3559, 3571, 3581, 3583, 3593, 3607, 3613, 3617, 3623, 3631, 3637, 3643, 3659, 3671, 3673, 3677, 3691, 3697, 3701, 3709, 3719, 3727, 3733, 3739, 3761, 3767, 3769, 3779, 3793, 3797, 3803, 3821, 3823, 3833, 3847, 3851, 3853, 3863, 3877, 3881, 3889, 3907, 3911, 3917, 3919, 3923, 3929, 3931, 3943, 3947, 3967, 3989, 4001, 4003, 4007, 4013, 4019, 4021, 4027, 4049, 4051, 4057, 4073, 4079, 4091, 4093, 4099, 4111, 4127, 4129, 4133, 4139, 4153, 4157, 4159, 4177, 4201, 4211, 4217, 4219, 4229, 4231, 4241, 4243, 4253, 4259, 4261, 4271, 4273, 4283, 4289, 4297, 4327, 4337, 4339, 4349, 4357, 4363, 4373, 4391, 4397, 4409, 4421, 4423, 4441, 4447, 4451, 4457, 4463, 4481, 4483, 4493, 4507, 4513, 4517, 4519, 4523, 4547, 4549, 4561, 4567, 4583, 4591, 4597, 4603, 4621, 4637, 4639, 4643, 4649, 4651, 4657, 4663, 4673, 4679, 4691, 4703, 4721, 4723, 4729, 4733, 4751, 4759, 4783, 4787, 4789, 4793, 4799, 4801, 4813, 4817, 4831, 4861, 4871, 4877, 4889, 4903, 4909, 4919, 4931, 4933, 4937, 4943, 4951, 4957, 4967, 4969, 4973, 4987, 4993, 4999, 5003, 5009, 5011, 5021, 5023, 5039, 5051, 5059, 5077, 5081, 5087, 5099, 5101, 5107, 5113, 5119, 5147, 5153, 5167, 5171, 5179, 5189, 5197, 5209, 5227, 5231, 5233, 5237, 5261, 5273, 5279, 5281, 5297, 5303, 5309, 5323, 5333, 5347, 5351, 5381, 5387, 5393, 5399, 5407, 5413, 5417, 5419, 5431, 5437, 5441, 5443, 5449, 5471, 5477, 5479, 5483, 5501, 5503, 5507, 5519, 5521, 5527, 5531, 5557, 5563, 5569, 5573, 5581, 5591, 5623, 5639, 5641, 5647, 5651, 5653, 5657, 5659, 5669, 5683, 5689, 5693, 5701, 5711, 5717, 5737, 5741, 5743, 5749, 5779, 5783, 5791, 5801, 5807, 5813, 5821, 5827, 5839, 5843, 5849, 5851, 5857, 5861, 5867, 5869, 5879, 5881, 5897, 5903, 5923, 5927, 5939, 5953, 5981, 5987, 6007, 6011, 6029, 6037, 6043, 6047, 6053, 6067, 6073, 6079, 6089, 6091, 6101, 6113, 6121, 6131, 6133, 6143, 6151, 6163, 6173, 6197, 6199, 6203, 6211, 6217, 6221, 6229, 6247, 6257, 6263, 6269, 6271, 6277, 6287, 6299, 6301, 6311, 6317, 6323, 6329, 6337, 6343, 6353, 6359, 6361, 6367, 6373, 6379, 6389, 6397, 6421, 6427, 6449, 6451, 6469, 6473, 6481, 6491, 6521, 6529, 6547, 6551, 6553, 6563, 6569, 6571, 6577, 6581, 6599, 6607, 6619, 6637, 6653, 6659, 6661, 6673, 6679, 6689, 6691, 6701, 6703, 6709, 6719, 6733, 6737, 6761, 6763, 6779, 6781, 6791, 6793, 6803, 6823, 6827, 6829, 6833, 6841, 6857, 6863, 6869, 6871, 6883, 6899, 6907, 6911, 6917, 6947, 6949, 6959, 6961, 6967, 6971, 6977, 6983, 6991, 6997, 7001, 7013, 7019, 7027, 7039, 7043, 7057, 7069, 7079, 7103, 7109, 7121, 7127, 7129, 7151, 7159, 7177, 7187, 7193, 7207, 7211, 7213, 7219, 7229, 7237, 7243, 7247, 7253, 7283, 7297, 7307, 7309, 7321, 7331, 7333, 7349, 7351, 7369, 7393, 7411, 7417, 7433, 7451, 7457, 7459, 7477, 7481, 7487, 7489, 7499, 7507, 7517, 7523, 7529, 7537, 7541, 7547, 7549, 7559, 7561, 7573, 7577, 7583, 7589, 7591, 7603, 7607, 7621, 7639, 7643, 7649, 7669, 7673, 7681, 7687, 7691, 7699, 7703, 7717, 7723, 7727, 7741, 7753, 7757, 7759, 7789, 7793, 7817, 7823, 7829, 7841, 7853, 7867, 7873, 7877, 7879, 7883, 7901, 7907, 7919, 7927, 7933, 7937, 7949, 7951, 7963, 7993, 8009, 8011, 8017, 8039, 8053, 8059, 8069, 8081, 8087, 8089, 8093, 8101, 8111, 8117, 8123, 8147, 8161, 8167, 8171, 8179, 8191, 8209, 8219, 8221, 8231, 8233, 8237, 8243, 8263, 8269, 8273, 8287, 8291, 8293, 8297, 8311, 8317, 8329, 8353, 8363, 8369, 8377, 8387, 8389, 8419, 8423, 8429, 8431, 8443, 8447, 8461, 8467, 8501, 8513, 8521, 8527, 8537, 8539, 8543, 8563, 8573, 8581, 8597, 8599, 8609, 8623, 8627, 8629, 8641, 8647, 8663, 8669, 8677, 8681, 8689, 8693, 8699, 8707, 8713, 8719, 8731, 8737, 8741, 8747, 8753, 8761, 8779, 8783, 8803, 8807, 8819, 8821, 8831, 8837, 8839, 8849, 8861, 8863, 8867, 8887, 8893, 8923, 8929, 8933, 8941, 8951, 8963, 8969, 8971, 8999, 9001, 9007, 9011, 9013, 9029, 9041, 9043, 9049, 9059, 9067, 9091, 9103, 9109, 9127, 9133, 9137, 9151, 9157, 9161, 9173, 9181, 9187, 9199, 9203, 9209, 9221, 9227, 9239, 9241, 9257, 9277, 9281, 9283, 9293, 9311, 9319, 9323, 9337, 9341, 9343, 9349, 9371, 9377, 9391, 9397, 9403, 9413, 9419, 9421, 9431, 9433, 9437, 9439, 9461, 9463, 9467, 9473, 9479, 9491, 9497, 9511, 9521, 9533, 9539, 9547, 9551, 9587, 9601, 9613, 9619, 9623, 9629, 9631, 9643, 9649, 9661, 9677, 9679, 9689, 9697, 9719, 9721, 9733, 9739, 9743, 9749, 9767, 9769, 9781, 9787, 9791, 9803, 9811, 9817, 9829, 9833, 9839, 9851, 9857, 9859, 9871, 9883, 9887, 9901, 9907, 9923, 9929, 9931, 9941, 9949, 9967, 9973]\n",
      "1229\n",
      "CPU times: user 16 s, sys: 104 ms, total: 16.1 s\n",
      "Wall time: 25.3 s\n"
     ]
    }
   ],
   "source": [
    "%%time\n",
    "# num = int(input('数字を入れてください:')) # 入力数字 →int型に\n",
    "divd = [] # 割れた数を計算するためにリストを用意\n",
    "prime = [] # 1は素数ではない\n",
    "#1~10までを試してみる。\n",
    "num = 1\n",
    "n_max = 10000\n",
    "\n",
    "while num <= n_max: # maxまで　すべて\n",
    "    # とりあえず全部の数字\n",
    "    num+=1\n",
    "    # 素数計算\n",
    "    for i in range(1,n_max+1):\n",
    "        if (num % i) == 0:# 1~10の数字で1以外に割り切れる個数\n",
    "            divd.append(i) #割り切れた数を代入\n",
    "    if len(divd) == 2: # 1と自身の数で割り切れた場合。\n",
    "        prime.append(num) # prime に数字を追加　2,3,5,7を追加したい\n",
    "    divd.clear() # listを空にする\n",
    "    # prime を確認する\n",
    "print(prime)\n",
    "print(len( prime))\n",
    "        \n",
    "    \n",
    "#     for i in range(2,n_max+1):\n",
    "#         if  (num % i) == 0:\n",
    "#             divd.append(i)\n",
    "#     num+=1\n",
    "#     if len(divd) == 1:\n",
    "# #                 print(\"{}は素数です。\".format(num))\n",
    "#                     prime.append(num)\n",
    "#     else:\n",
    "#         print (\"{}は素数ではないです。\".format(num))\n",
    "       "
   ]
  },
  {
   "cell_type": "markdown",
   "metadata": {},
   "source": [
    "**解答**<br>\n",
    "アルゴリズム<br>\n",
    "例えば10の時を考える。<br>\n",
    "2,3,4,5,6,7,8,9で割り算をして、あまりをチェックする。<br>\n",
    "もし一つでもあまりが０になっていれば、割り切れているので素数でない。<br>\n",
    "すべてあまりが0出なければ、素数<br>"
   ]
  },
  {
   "cell_type": "markdown",
   "metadata": {},
   "source": [
    "- 素数を格納する numbers というからのリストで初期化<br>\n",
    "-i 1~10000まで繰り返す。<nr>\n",
    "-素数判定フラグをtrueにして初期化<br>\n",
    "-2,...9の数値までで割り切れたら、フラグをfalseにする。<br>\n",
    "-全ての値で10より小さな全ての値(1以外)で計算して、フラグがTrueのままであれば素数。"
   ]
  },
  {
   "cell_type": "code",
   "execution_count": 239,
   "metadata": {},
   "outputs": [],
   "source": [
    "# からのリストの初期化\n",
    "numbers = []\n",
    "\n",
    "# 繰り返し\n",
    "for i in range(1,11):\n",
    "    flag = True # 素数の判定フラグ\n",
    "    # 割ってあまりの確認\n",
    "    for j in range(2,i):\n",
    "        if i % j == 0:\n",
    "            flag = False\n",
    "    # 素数の場合\n",
    "    if flag == True:\n",
    "        numbers.append(i)\n"
   ]
  },
  {
   "cell_type": "code",
   "execution_count": 240,
   "metadata": {},
   "outputs": [
    {
     "data": {
      "text/plain": [
       "[1, 2, 3, 5, 7]"
      ]
     },
     "execution_count": 240,
     "metadata": {},
     "output_type": "execute_result"
    }
   ],
   "source": [
    "numbers"
   ]
  },
  {
   "cell_type": "code",
   "execution_count": 241,
   "metadata": {},
   "outputs": [],
   "source": [
    "# これらを関数化してあげる。\n",
    "\n",
    "def get_prime_numbers( max_val):\n",
    "    numbers = []\n",
    "# 繰り返し\n",
    "    for i in range(1,max_val + 1):\n",
    "        flag = True # 素数の判定フラグ\n",
    "    # 割ってあまりの確認\n",
    "        for j in range(2,i):\n",
    "            if i % j == 0:\n",
    "                flag = False\n",
    "    # 素数の場合\n",
    "        if flag == True:\n",
    "            numbers.append(i)\n",
    "    return numbers"
   ]
  },
  {
   "cell_type": "code",
   "execution_count": 242,
   "metadata": {},
   "outputs": [
    {
     "data": {
      "text/plain": [
       "[1, 2, 3, 5, 7]"
      ]
     },
     "execution_count": 242,
     "metadata": {},
     "output_type": "execute_result"
    }
   ],
   "source": [
    "get_prime_numbers(10)"
   ]
  },
  {
   "cell_type": "code",
   "execution_count": 243,
   "metadata": {},
   "outputs": [
    {
     "ename": "KeyboardInterrupt",
     "evalue": "",
     "output_type": "error",
     "traceback": [
      "\u001b[0;31m---------------------------------------------------------------------------\u001b[0m",
      "\u001b[0;31mKeyboardInterrupt\u001b[0m                         Traceback (most recent call last)",
      "\u001b[0;32m<ipython-input-243-b84ff08fcdf0>\u001b[0m in \u001b[0;36m<module>\u001b[0;34m\u001b[0m\n\u001b[0;32m----> 1\u001b[0;31m \u001b[0mget_ipython\u001b[0m\u001b[0;34m(\u001b[0m\u001b[0;34m)\u001b[0m\u001b[0;34m.\u001b[0m\u001b[0mrun_cell_magic\u001b[0m\u001b[0;34m(\u001b[0m\u001b[0;34m'timeit'\u001b[0m\u001b[0;34m,\u001b[0m \u001b[0;34m'# 小さなコードの時間測定s'\u001b[0m\u001b[0;34m,\u001b[0m \u001b[0;34m'numbers = get_prime_numbers(10000)\\n'\u001b[0m\u001b[0;34m)\u001b[0m\u001b[0;34m\u001b[0m\u001b[0;34m\u001b[0m\u001b[0m\n\u001b[0m",
      "\u001b[0;32m~/anaconda3/lib/python3.7/site-packages/IPython/core/interactiveshell.py\u001b[0m in \u001b[0;36mrun_cell_magic\u001b[0;34m(self, magic_name, line, cell)\u001b[0m\n\u001b[1;32m   2321\u001b[0m             \u001b[0mmagic_arg_s\u001b[0m \u001b[0;34m=\u001b[0m \u001b[0mself\u001b[0m\u001b[0;34m.\u001b[0m\u001b[0mvar_expand\u001b[0m\u001b[0;34m(\u001b[0m\u001b[0mline\u001b[0m\u001b[0;34m,\u001b[0m \u001b[0mstack_depth\u001b[0m\u001b[0;34m)\u001b[0m\u001b[0;34m\u001b[0m\u001b[0;34m\u001b[0m\u001b[0m\n\u001b[1;32m   2322\u001b[0m             \u001b[0;32mwith\u001b[0m \u001b[0mself\u001b[0m\u001b[0;34m.\u001b[0m\u001b[0mbuiltin_trap\u001b[0m\u001b[0;34m:\u001b[0m\u001b[0;34m\u001b[0m\u001b[0;34m\u001b[0m\u001b[0m\n\u001b[0;32m-> 2323\u001b[0;31m                 \u001b[0mresult\u001b[0m \u001b[0;34m=\u001b[0m \u001b[0mfn\u001b[0m\u001b[0;34m(\u001b[0m\u001b[0mmagic_arg_s\u001b[0m\u001b[0;34m,\u001b[0m \u001b[0mcell\u001b[0m\u001b[0;34m)\u001b[0m\u001b[0;34m\u001b[0m\u001b[0;34m\u001b[0m\u001b[0m\n\u001b[0m\u001b[1;32m   2324\u001b[0m             \u001b[0;32mreturn\u001b[0m \u001b[0mresult\u001b[0m\u001b[0;34m\u001b[0m\u001b[0;34m\u001b[0m\u001b[0m\n\u001b[1;32m   2325\u001b[0m \u001b[0;34m\u001b[0m\u001b[0m\n",
      "\u001b[0;32m</Users/humu/anaconda3/lib/python3.7/site-packages/decorator.py:decorator-gen-61>\u001b[0m in \u001b[0;36mtimeit\u001b[0;34m(self, line, cell, local_ns)\u001b[0m\n",
      "\u001b[0;32m~/anaconda3/lib/python3.7/site-packages/IPython/core/magic.py\u001b[0m in \u001b[0;36m<lambda>\u001b[0;34m(f, *a, **k)\u001b[0m\n\u001b[1;32m    185\u001b[0m     \u001b[0;31m# but it's overkill for just that one bit of state.\u001b[0m\u001b[0;34m\u001b[0m\u001b[0;34m\u001b[0m\u001b[0;34m\u001b[0m\u001b[0m\n\u001b[1;32m    186\u001b[0m     \u001b[0;32mdef\u001b[0m \u001b[0mmagic_deco\u001b[0m\u001b[0;34m(\u001b[0m\u001b[0marg\u001b[0m\u001b[0;34m)\u001b[0m\u001b[0;34m:\u001b[0m\u001b[0;34m\u001b[0m\u001b[0;34m\u001b[0m\u001b[0m\n\u001b[0;32m--> 187\u001b[0;31m         \u001b[0mcall\u001b[0m \u001b[0;34m=\u001b[0m \u001b[0;32mlambda\u001b[0m \u001b[0mf\u001b[0m\u001b[0;34m,\u001b[0m \u001b[0;34m*\u001b[0m\u001b[0ma\u001b[0m\u001b[0;34m,\u001b[0m \u001b[0;34m**\u001b[0m\u001b[0mk\u001b[0m\u001b[0;34m:\u001b[0m \u001b[0mf\u001b[0m\u001b[0;34m(\u001b[0m\u001b[0;34m*\u001b[0m\u001b[0ma\u001b[0m\u001b[0;34m,\u001b[0m \u001b[0;34m**\u001b[0m\u001b[0mk\u001b[0m\u001b[0;34m)\u001b[0m\u001b[0;34m\u001b[0m\u001b[0;34m\u001b[0m\u001b[0m\n\u001b[0m\u001b[1;32m    188\u001b[0m \u001b[0;34m\u001b[0m\u001b[0m\n\u001b[1;32m    189\u001b[0m         \u001b[0;32mif\u001b[0m \u001b[0mcallable\u001b[0m\u001b[0;34m(\u001b[0m\u001b[0marg\u001b[0m\u001b[0;34m)\u001b[0m\u001b[0;34m:\u001b[0m\u001b[0;34m\u001b[0m\u001b[0;34m\u001b[0m\u001b[0m\n",
      "\u001b[0;32m~/anaconda3/lib/python3.7/site-packages/IPython/core/magics/execution.py\u001b[0m in \u001b[0;36mtimeit\u001b[0;34m(self, line, cell, local_ns)\u001b[0m\n\u001b[1;32m   1133\u001b[0m                     \u001b[0;32mbreak\u001b[0m\u001b[0;34m\u001b[0m\u001b[0;34m\u001b[0m\u001b[0m\n\u001b[1;32m   1134\u001b[0m \u001b[0;34m\u001b[0m\u001b[0m\n\u001b[0;32m-> 1135\u001b[0;31m         \u001b[0mall_runs\u001b[0m \u001b[0;34m=\u001b[0m \u001b[0mtimer\u001b[0m\u001b[0;34m.\u001b[0m\u001b[0mrepeat\u001b[0m\u001b[0;34m(\u001b[0m\u001b[0mrepeat\u001b[0m\u001b[0;34m,\u001b[0m \u001b[0mnumber\u001b[0m\u001b[0;34m)\u001b[0m\u001b[0;34m\u001b[0m\u001b[0;34m\u001b[0m\u001b[0m\n\u001b[0m\u001b[1;32m   1136\u001b[0m         \u001b[0mbest\u001b[0m \u001b[0;34m=\u001b[0m \u001b[0mmin\u001b[0m\u001b[0;34m(\u001b[0m\u001b[0mall_runs\u001b[0m\u001b[0;34m)\u001b[0m \u001b[0;34m/\u001b[0m \u001b[0mnumber\u001b[0m\u001b[0;34m\u001b[0m\u001b[0;34m\u001b[0m\u001b[0m\n\u001b[1;32m   1137\u001b[0m         \u001b[0mworst\u001b[0m \u001b[0;34m=\u001b[0m \u001b[0mmax\u001b[0m\u001b[0;34m(\u001b[0m\u001b[0mall_runs\u001b[0m\u001b[0;34m)\u001b[0m \u001b[0;34m/\u001b[0m \u001b[0mnumber\u001b[0m\u001b[0;34m\u001b[0m\u001b[0;34m\u001b[0m\u001b[0m\n",
      "\u001b[0;32m~/anaconda3/lib/python3.7/timeit.py\u001b[0m in \u001b[0;36mrepeat\u001b[0;34m(self, repeat, number)\u001b[0m\n\u001b[1;32m    202\u001b[0m         \u001b[0mr\u001b[0m \u001b[0;34m=\u001b[0m \u001b[0;34m[\u001b[0m\u001b[0;34m]\u001b[0m\u001b[0;34m\u001b[0m\u001b[0;34m\u001b[0m\u001b[0m\n\u001b[1;32m    203\u001b[0m         \u001b[0;32mfor\u001b[0m \u001b[0mi\u001b[0m \u001b[0;32min\u001b[0m \u001b[0mrange\u001b[0m\u001b[0;34m(\u001b[0m\u001b[0mrepeat\u001b[0m\u001b[0;34m)\u001b[0m\u001b[0;34m:\u001b[0m\u001b[0;34m\u001b[0m\u001b[0;34m\u001b[0m\u001b[0m\n\u001b[0;32m--> 204\u001b[0;31m             \u001b[0mt\u001b[0m \u001b[0;34m=\u001b[0m \u001b[0mself\u001b[0m\u001b[0;34m.\u001b[0m\u001b[0mtimeit\u001b[0m\u001b[0;34m(\u001b[0m\u001b[0mnumber\u001b[0m\u001b[0;34m)\u001b[0m\u001b[0;34m\u001b[0m\u001b[0;34m\u001b[0m\u001b[0m\n\u001b[0m\u001b[1;32m    205\u001b[0m             \u001b[0mr\u001b[0m\u001b[0;34m.\u001b[0m\u001b[0mappend\u001b[0m\u001b[0;34m(\u001b[0m\u001b[0mt\u001b[0m\u001b[0;34m)\u001b[0m\u001b[0;34m\u001b[0m\u001b[0;34m\u001b[0m\u001b[0m\n\u001b[1;32m    206\u001b[0m         \u001b[0;32mreturn\u001b[0m \u001b[0mr\u001b[0m\u001b[0;34m\u001b[0m\u001b[0;34m\u001b[0m\u001b[0m\n",
      "\u001b[0;32m~/anaconda3/lib/python3.7/site-packages/IPython/core/magics/execution.py\u001b[0m in \u001b[0;36mtimeit\u001b[0;34m(self, number)\u001b[0m\n\u001b[1;32m    158\u001b[0m         \u001b[0mgc\u001b[0m\u001b[0;34m.\u001b[0m\u001b[0mdisable\u001b[0m\u001b[0;34m(\u001b[0m\u001b[0;34m)\u001b[0m\u001b[0;34m\u001b[0m\u001b[0;34m\u001b[0m\u001b[0m\n\u001b[1;32m    159\u001b[0m         \u001b[0;32mtry\u001b[0m\u001b[0;34m:\u001b[0m\u001b[0;34m\u001b[0m\u001b[0;34m\u001b[0m\u001b[0m\n\u001b[0;32m--> 160\u001b[0;31m             \u001b[0mtiming\u001b[0m \u001b[0;34m=\u001b[0m \u001b[0mself\u001b[0m\u001b[0;34m.\u001b[0m\u001b[0minner\u001b[0m\u001b[0;34m(\u001b[0m\u001b[0mit\u001b[0m\u001b[0;34m,\u001b[0m \u001b[0mself\u001b[0m\u001b[0;34m.\u001b[0m\u001b[0mtimer\u001b[0m\u001b[0;34m)\u001b[0m\u001b[0;34m\u001b[0m\u001b[0;34m\u001b[0m\u001b[0m\n\u001b[0m\u001b[1;32m    161\u001b[0m         \u001b[0;32mfinally\u001b[0m\u001b[0;34m:\u001b[0m\u001b[0;34m\u001b[0m\u001b[0;34m\u001b[0m\u001b[0m\n\u001b[1;32m    162\u001b[0m             \u001b[0;32mif\u001b[0m \u001b[0mgcold\u001b[0m\u001b[0;34m:\u001b[0m\u001b[0;34m\u001b[0m\u001b[0;34m\u001b[0m\u001b[0m\n",
      "\u001b[0;32m<magic-timeit>\u001b[0m in \u001b[0;36minner\u001b[0;34m(_it, _timer)\u001b[0m\n",
      "\u001b[0;32m<ipython-input-241-babc7f852997>\u001b[0m in \u001b[0;36mget_prime_numbers\u001b[0;34m(max_val)\u001b[0m\n\u001b[1;32m      8\u001b[0m     \u001b[0;31m# 割ってあまりの確認\u001b[0m\u001b[0;34m\u001b[0m\u001b[0;34m\u001b[0m\u001b[0;34m\u001b[0m\u001b[0m\n\u001b[1;32m      9\u001b[0m         \u001b[0;32mfor\u001b[0m \u001b[0mj\u001b[0m \u001b[0;32min\u001b[0m \u001b[0mrange\u001b[0m\u001b[0;34m(\u001b[0m\u001b[0;36m2\u001b[0m\u001b[0;34m,\u001b[0m\u001b[0mi\u001b[0m\u001b[0;34m)\u001b[0m\u001b[0;34m:\u001b[0m\u001b[0;34m\u001b[0m\u001b[0;34m\u001b[0m\u001b[0m\n\u001b[0;32m---> 10\u001b[0;31m             \u001b[0;32mif\u001b[0m \u001b[0mi\u001b[0m \u001b[0;34m%\u001b[0m \u001b[0mj\u001b[0m \u001b[0;34m==\u001b[0m \u001b[0;36m0\u001b[0m\u001b[0;34m:\u001b[0m\u001b[0;34m\u001b[0m\u001b[0;34m\u001b[0m\u001b[0m\n\u001b[0m\u001b[1;32m     11\u001b[0m                 \u001b[0mflag\u001b[0m \u001b[0;34m=\u001b[0m \u001b[0;32mFalse\u001b[0m\u001b[0;34m\u001b[0m\u001b[0;34m\u001b[0m\u001b[0m\n\u001b[1;32m     12\u001b[0m     \u001b[0;31m# 素数の場合\u001b[0m\u001b[0;34m\u001b[0m\u001b[0;34m\u001b[0m\u001b[0;34m\u001b[0m\u001b[0m\n",
      "\u001b[0;31mKeyboardInterrupt\u001b[0m: "
     ]
    }
   ],
   "source": [
    "%%timeit # 小さなコードの時間測定s\n",
    "numbers = get_prime_numbers(10000)"
   ]
  },
  {
   "cell_type": "code",
   "execution_count": null,
   "metadata": {},
   "outputs": [],
   "source": [
    "print(numbers)"
   ]
  },
  {
   "cell_type": "markdown",
   "metadata": {},
   "source": [
    "**計算量(オーダー)**<br>\n",
    "$n=10$<br>\n",
    "$O(n)$<=10倍にすると、計算量も10倍になる。<br>\n",
    "\n",
    "n = 10<br>\n",
    "\n",
    "$O(n)$ <- 10倍すると、計算量も１０倍になる。<br>\n",
    "$O(n^{2})$<- 10倍すると、計算量も１０0倍になる。<br>\n",
    "$O(n^{3})$<- 10倍すると、計算量も１０00倍になる。<br>"
   ]
  },
  {
   "cell_type": "code",
   "execution_count": null,
   "metadata": {},
   "outputs": [],
   "source": [
    "%matplotlib inline\n",
    "import matplotlib.pyplot as plt"
   ]
  },
  {
   "cell_type": "code",
   "execution_count": null,
   "metadata": {},
   "outputs": [],
   "source": [
    "max_vals = [10,100,1000,10000]\n",
    "times = [31*1e-6,1.09*1e-3,91*1e-3,8.22]\n",
    "plt.plot(max_vals,times)\n"
   ]
  },
  {
   "cell_type": "code",
   "execution_count": null,
   "metadata": {},
   "outputs": [],
   "source": [
    "# 片対数グラフ\n",
    "max_vals = [1,2,3,4] # 対数として表す(幅が等間隔になる)\n",
    "times = [31*1e-6,1.09*1e-3,91*1e-3,8.22]\n",
    "plt.plot(max_vals,times)"
   ]
  },
  {
   "cell_type": "markdown",
   "metadata": {},
   "source": [
    "例えば49の時<br>\n",
    "-(1),2,3,(4),5,(6),7|8.9で割り算してあまりをチェック(素数で割り切れているかどうか 4,６とかはすでに2,3などに割られている。)<br>\n",
    "-もし、一つでもあまりが0となっていれば、割り切れているので、素数ではない。<br>\n",
    "-全てあまりが0出なければ、素数<br>"
   ]
  },
  {
   "cell_type": "code",
   "execution_count": null,
   "metadata": {},
   "outputs": [],
   "source": [
    "def get_prime_numbers( max_val):\n",
    "    numbers = []\n",
    "# 繰り返し\n",
    "    for i in range(2,max_val + 1):\n",
    "        flag = True # 素数の判定フラグ\n",
    "    # 割ってあまりの確認\n",
    "        for j in numbers: # すでにある素数で割ることで4,6などの二度手間の計算量を減らすことがでできる。\n",
    "            if i % j == 0:\n",
    "                flag = False\n",
    "    # 素数の場合\n",
    "        if flag == True:\n",
    "            numbers.append(i)\n",
    "    numbers.insert(0,1) # 先頭に1を追加する。\n",
    "    return numbers"
   ]
  },
  {
   "cell_type": "code",
   "execution_count": null,
   "metadata": {},
   "outputs": [],
   "source": [
    "numbers = get_prime_numbers(10)"
   ]
  },
  {
   "cell_type": "code",
   "execution_count": null,
   "metadata": {},
   "outputs": [],
   "source": [
    "numbers"
   ]
  },
  {
   "cell_type": "code",
   "execution_count": null,
   "metadata": {},
   "outputs": [],
   "source": [
    "%%timeit\n",
    "numbers = get_prime_numbers(10)"
   ]
  },
  {
   "cell_type": "code",
   "execution_count": null,
   "metadata": {},
   "outputs": [],
   "source": [
    "%%timeit\n",
    "numbers = get_prime_numbers(100)"
   ]
  },
  {
   "cell_type": "code",
   "execution_count": null,
   "metadata": {},
   "outputs": [],
   "source": [
    "%%timeit\n",
    "numbers = get_prime_numbers(1000)"
   ]
  },
  {
   "cell_type": "code",
   "execution_count": null,
   "metadata": {},
   "outputs": [],
   "source": [
    "%%timeit\n",
    "numbers = get_prime_numbers(10000)"
   ]
  },
  {
   "cell_type": "code",
   "execution_count": null,
   "metadata": {},
   "outputs": [],
   "source": [
    "def add_num(x,y):\n",
    "    return x+y\n",
    "    "
   ]
  },
  {
   "cell_type": "code",
   "execution_count": null,
   "metadata": {},
   "outputs": [],
   "source": [
    "add_num(-1,-3)"
   ]
  },
  {
   "cell_type": "code",
   "execution_count": null,
   "metadata": {},
   "outputs": [],
   "source": [
    "def calc(x,y):\n",
    "    return x+y,x-y,x*y,x/y"
   ]
  },
  {
   "cell_type": "code",
   "execution_count": null,
   "metadata": {},
   "outputs": [],
   "source": [
    "calc(8,4)"
   ]
  },
  {
   "cell_type": "code",
   "execution_count": null,
   "metadata": {},
   "outputs": [],
   "source": [
    "def excahnge(x,y):\n",
    "    z = y\n",
    "    y = x\n",
    "    x = z\n",
    "    return x,y\n",
    "    "
   ]
  },
  {
   "cell_type": "code",
   "execution_count": null,
   "metadata": {},
   "outputs": [],
   "source": [
    "excahnge(4,5)"
   ]
  },
  {
   "cell_type": "code",
   "execution_count": null,
   "metadata": {},
   "outputs": [],
   "source": [
    "def add_n(a,  b):\n",
    "    add_list = []\n",
    "    i = 0\n",
    "    for i in range(len(a))\n",
    "        add_list.append(a[i] + b[i])\n",
    "        i =+ 1\n",
    "    return add_list\n"
   ]
  },
  {
   "cell_type": "code",
   "execution_count": null,
   "metadata": {},
   "outputs": [],
   "source": [
    "add([1,2,3],[2,34,4])"
   ]
  },
  {
   "cell_type": "code",
   "execution_count": null,
   "metadata": {},
   "outputs": [],
   "source": [
    "def add(a,b):\n",
    "    results = []\n",
    "    for (_a,_b) in zip(a,b):\n",
    "        results.append(_a + _b)\n",
    "    return results"
   ]
  },
  {
   "cell_type": "code",
   "execution_count": null,
   "metadata": {},
   "outputs": [],
   "source": [
    "add([1,23,4],[4,5,6,7])"
   ]
  },
  {
   "cell_type": "code",
   "execution_count": null,
   "metadata": {},
   "outputs": [],
   "source": [
    "def add(a,b):\n",
    "    if len(a) > len(b):\n",
    "        ap_num = a[-1]\n",
    "    if len(a) < len(b):\n",
    "        ap_num = b[-1]\n",
    "        \n",
    "    results = []\n",
    "    for (_a,_b) in zip(a,b):\n",
    "        results.append(_a + _b)\n",
    "        results.append(ap_num)\n",
    "    return results"
   ]
  },
  {
   "cell_type": "code",
   "execution_count": null,
   "metadata": {},
   "outputs": [],
   "source": [
    "add([1,23,4],[4,5,6,7])"
   ]
  },
  {
   "cell_type": "markdown",
   "metadata": {},
   "source": [
    "# 演習課題 : 圧縮のアルゴリズム"
   ]
  },
  {
   "cell_type": "code",
   "execution_count": 244,
   "metadata": {},
   "outputs": [],
   "source": [
    "with open(\"input.txt\",'r') as f: # readしてあげないとエラーになる。s\n",
    "    text =  f.read()"
   ]
  },
  {
   "cell_type": "code",
   "execution_count": 245,
   "metadata": {},
   "outputs": [
    {
     "data": {
      "text/plain": [
       "'0000000000000000000000000000000000000011111111111110000000000000000000000000000000000000000000000000000000000000000000000000111111111100000000000000000000000000000000000000000000000000000000000000000000000000001111110000000000000000000000000000000000000000000000000000000000000000000000000000000011111111111111111111111111111111111111111111111111111111111111111000000000000000001100000000000000000000000000000000000000000000000000000000000000000000000000000111111111111111111111111111111111111111111111111111111111111111111111111000000011111111111111111111111111000000000000000000000000000000000000000000000000000111111111111111111111000000000000000000011111111111111111111111111111111111111111111111111111111111111111111111111111111111110000000000001111111111111111111111111111100000000000000000000000000000011111111111111100000000000000000000000000000000000000000000000000011111111111111111111111111111111111111111111111111111111111111111111100000000000000000000000000000000000000000000000000000000'"
      ]
     },
     "execution_count": 245,
     "metadata": {},
     "output_type": "execute_result"
    }
   ],
   "source": [
    "text[:1000]"
   ]
  },
  {
   "cell_type": "markdown",
   "metadata": {},
   "source": [
    "条件<br>\n",
    "0と１が交互に並んでいる<br>\n",
    "連続して並ぶ回数は1~99回<br>"
   ]
  },
  {
   "cell_type": "code",
   "execution_count": null,
   "metadata": {},
   "outputs": [],
   "source": [
    "len(text) # 文字数"
   ]
  },
  {
   "cell_type": "markdown",
   "metadata": {},
   "source": [
    "**問題**(まず動く120分+ リファクタリング120分)<br>\n",
    "オリジナルファイルの'text'を情報が**劣化**しないように圧縮する。<br>\n",
    "-圧縮をする関数 encodeを作る。<br>\n",
    "_text_encode<-極力文字数の数が少ない<br>\n",
    "復号を行う関数　decodeを作る。<br>\n",
    "text_decode == text<br>"
   ]
  },
  {
   "cell_type": "code",
   "execution_count": null,
   "metadata": {},
   "outputs": [],
   "source": [
    "\n",
    "\"\"\"\n",
    "圧縮の方法→1,0より\n",
    "フラグを持たせる。\n",
    "連続で0を持っている場合はfalseにしてどのくらいfalseが続くかを記録する。\n",
    "連続で1を持っている時間をtrueとしてどのくらいtrueが続くかを記録する。\n",
    "また true+false=全体なので\n",
    "ture もしくはfalseだけの数を数えて、全体の数字を数えた状態で\n",
    "足し引きすることで求める\n",
    "\"\"\"\n",
    "\n",
    "\"\"\"\n",
    "例:100個までで計算する。\n",
    "samp_text =  text[:100]\n",
    "samp_text \n",
    "len:100\n",
    "0len:87\n",
    "1len:13\n",
    "time:102 ns ± 3.28 ns per loop\n",
    "\n",
    "return 全体(100) と　小さい方の数字 13\n",
    "[13,100]\n",
    "\"\"\"\n",
    "\"\"\"\n",
    "0 or 1で全体が少ない数\n",
    "→0なら+(0)\n",
    "→1なら-をつける。\n",
    "\n",
    "\"\"\""
   ]
  },
  {
   "cell_type": "code",
   "execution_count": 373,
   "metadata": {},
   "outputs": [
    {
     "name": "stdout",
     "output_type": "stream",
     "text": [
      "114 ns ± 5.99 ns per loop (mean ± std. dev. of 7 runs, 10000000 loops each)\n"
     ]
    }
   ],
   "source": [
    "%%timeit\n",
    "samp_text =  text[:100]"
   ]
  },
  {
   "cell_type": "code",
   "execution_count": null,
   "metadata": {},
   "outputs": [],
   "source": [
    "samp_text = text[:100]\n",
    "first_flag = samp_text[0]\n",
    "first_flag"
   ]
  },
  {
   "cell_type": "code",
   "execution_count": null,
   "metadata": {},
   "outputs": [],
   "source": [
    "len(samp_text)"
   ]
  },
  {
   "cell_type": "code",
   "execution_count": null,
   "metadata": {},
   "outputs": [],
   "source": [
    "samp_text.count('1') # count文字列にしたらいけたわ 1を数値にするのが適してる。"
   ]
  },
  {
   "cell_type": "code",
   "execution_count": null,
   "metadata": {},
   "outputs": [],
   "source": [
    "\"\"\"\n",
    "上記の場合\n",
    "先頭:-\n",
    "配列:13(値の数)\n",
    "総数:100\n",
    "\"\"\""
   ]
  },
  {
   "cell_type": "code",
   "execution_count": null,
   "metadata": {},
   "outputs": [],
   "source": [
    "samp2_text = text[50:100]\n",
    "samp2_text.count('0')"
   ]
  },
  {
   "cell_type": "code",
   "execution_count": null,
   "metadata": {},
   "outputs": [],
   "source": [
    "\"\"\"\n",
    "せやな。とりあえず難しく考えすぎるな。\n",
    "また、確実なところから積み上げていく。\n",
    "しっかりパーツパーツで作っていく。\n",
    "1.初めの数字をとる(0,1)\n",
    "2.初めの数字からどれくらい連続でとるかを測る。　→フラグ持たせる(1→true,0→false)\n",
    "同じフラグの間数え上げ続ける。そんで、フラグが変わったらまた1から数える。\n",
    "3.２の情報を配列に入れ続ける。\n",
    "\"\"\""
   ]
  },
  {
   "cell_type": "code",
   "execution_count": null,
   "metadata": {},
   "outputs": [],
   "source": [
    "# samp_text[0]\n",
    "a = [0,1]\n",
    "# len(a)\n",
    "# for j in range(len(a)):\n",
    "#     print(j)\n"
   ]
  },
  {
   "cell_type": "code",
   "execution_count": null,
   "metadata": {},
   "outputs": [],
   "source": [
    "def encode(text):\n",
    "    num_0 = []\n",
    "    num_1 = []\n",
    "    count_0 = []\n",
    "    count_1 = []\n",
    "    _i = samp_text[0]\n",
    "    if _i == 0:\n",
    "        flag = False\n",
    "    elif _i == 1:\n",
    "        flag = True\n",
    "    for j in range(len(text)): \n",
    "        while flag == False:\n",
    "            num_0.append(text[j])\n",
    "            count_0.append(len(num_0))\n",
    "        while flag == True:\n",
    "            num_1.append(text[j])\n",
    "            count_1.append(len(num_1))\n",
    "    \n",
    "    \n",
    "    "
   ]
  },
  {
   "cell_type": "code",
   "execution_count": null,
   "metadata": {},
   "outputs": [],
   "source": [
    "# テスト用　先頭の0を取り込むだけ\n",
    "def encode_t(text):\n",
    "    array_0 = []\n",
    "    count_0 = []\n",
    "    flag = 0 # text[0]\n",
    "    for i in range(len(text)):\n",
    "        if text[i] == '1':\n",
    "            flag = 1\n",
    "        if flag == 0:\n",
    "            array_0.append(text[i])\n",
    "        else:\n",
    "            count_0.append(len(array_0))\n",
    "            break\n",
    "#         if flag == 1: # text[i] == 1になると\n",
    "#             break    \n",
    "    return count_0\n",
    "            "
   ]
  },
  {
   "cell_type": "code",
   "execution_count": null,
   "metadata": {},
   "outputs": [],
   "source": [
    "print(encode_t(samp_text))"
   ]
  },
  {
   "cell_type": "code",
   "execution_count": null,
   "metadata": {},
   "outputs": [],
   "source": [
    "# samp_text = samp_text[53::100]\n",
    "samp_text = text[51:100] #   0から数えての51なのでこれは52番目と同じ扱いになる。\n",
    "samp_text\n",
    "len(samp_text)"
   ]
  },
  {
   "cell_type": "code",
   "execution_count": null,
   "metadata": {},
   "outputs": [],
   "source": [
    "    \n",
    "    array_0 = []\n",
    "    array_1 = []\n",
    "    count_0 = []\n",
    "    count_1 = []\n",
    "    flag = 0 # samp_text[0]\n",
    "    for i in range(len(samp_text)):\n",
    "        # 下記をtextがなくなるまで繰り返す→while\n",
    "        if samp_text[i] == '1': # 文字列として認識される問題。\n",
    "            flag = 1\n",
    "        if flag == 0:\n",
    "            array_0.append(samp_text[i])\n",
    "        else:\n",
    "            count_0.append(len(array_0))\n",
    "        if flag == 1:\n",
    "            array_1.append(samp_text[i])\n",
    "    count_1.append(len(array_1))\n",
    "    \n",
    "#         if samp_text[i] == '0':\n",
    "#             flag = 0\n",
    "            \n",
    "#         if flag == 1: # samp_text[i] == 1になると\n",
    "#             break    \n",
    "    print(count_0) # 残りが入った。\n",
    "    "
   ]
  },
  {
   "cell_type": "code",
   "execution_count": null,
   "metadata": {},
   "outputs": [],
   "source": [
    "# 引いていく方式　毎回0 or 1で始まりその数字で終わる方法。\n",
    "array_0 = []\n",
    "array_1 = []\n",
    "count_0 = []\n",
    "count_1 = []\n",
    "flag = 0 # samp_text[0]\n",
    "for i in range(len(samp_text)-sum(count_0)):\n",
    "    # 下記をtextがなくなるまで繰り返す→while\n",
    "    if samp_text[i] == '1': # 文字列として認識される問題。\n",
    "        flag = 1\n",
    "    if flag == 0:\n",
    "        array_0.append(samp_text[i])\n",
    "    else:\n",
    "        count_0.append(len(array_0))\n",
    "#         length.append(count_0)\n",
    "        break\n",
    "print(sum(count_0))"
   ]
  },
  {
   "cell_type": "code",
   "execution_count": null,
   "metadata": {},
   "outputs": [],
   "source": [
    "flag = 1\n",
    "for i in range(len(samp_text)):\n",
    "    # 下記をtextがなくなるまで繰り返す→while\n",
    "    if samp_text[i] == '0': # 文字列として認識される問題。\n",
    "        flag = 0\n",
    "    if flag == 1:\n",
    "        array_0.append(samp_text[i])\n",
    "    else:\n",
    "        count_0.append(len(array_0))\n",
    "        break"
   ]
  },
  {
   "cell_type": "code",
   "execution_count": null,
   "metadata": {},
   "outputs": [],
   "source": [
    "# for a in range(1):\n",
    "#     print(a)\n",
    "samp_text = text[:100]"
   ]
  },
  {
   "cell_type": "code",
   "execution_count": null,
   "metadata": {},
   "outputs": [],
   "source": [
    "# 引いていく方式　毎回0 or 1で始まりその数字で終わる方法。\n",
    "array_0 = []\n",
    "array_1 = []\n",
    "count_0 = []\n",
    "count_1 = []\n",
    "count_all = []\n",
    "first_flag = int(samp_text[0]) # 最初の文字をフラグとして先頭に挿入する。\n",
    "count_all.append(first_flag)\n",
    "#-----------------------------------------------\n",
    "print('----1----')\n",
    "flag = 0 # samp_text[0]\n",
    "for i in range(len(samp_text)):\n",
    "    # 下記をtextがなくなるまで繰り返す→while\n",
    "    print(i)\n",
    "    i += sum(count_all)\n",
    "    if samp_text[i] == '1': # 文字列として認識される問題。\n",
    "        flag = 1\n",
    "    if flag == 0:\n",
    "        array_0.append(samp_text[i])\n",
    "        print(len(array_0))\n",
    "    else:\n",
    "        count_0.append(len(array_0))\n",
    "#         length.append(count_0)\n",
    "        array_0.clear()\n",
    "        break\n",
    "for j in range(len(count_0)):\n",
    "    count_all.append(count_0[j])\n",
    "count_0.clear()\n",
    "#------------------------------------------------\n",
    "print('----2------')\n",
    "flag = 1\n",
    "for i in range(len(samp_text)):\n",
    "    # 下記をtextがなくなるまで繰り返す→while\n",
    "    print(i)\n",
    "    i += sum(count_all)\n",
    "    if samp_text[i] == '0': # 文字列として認識される問題。\n",
    "        flag = 0\n",
    "    if flag == 1:\n",
    "        array_1.append(samp_text[i])\n",
    "        print(len(array_1))\n",
    "    else:\n",
    "        count_1.append(len(array_1))\n",
    "        array_1.clear()\n",
    "        break\n",
    "# count_allにcount_0とcount_1を追加する。\n",
    "for j in range(len(count_1)):\n",
    "    count_all.append(count_1[j])\n",
    "count_1.clear()\n",
    "# #------------------------------------------------ "
   ]
  },
  {
   "cell_type": "code",
   "execution_count": null,
   "metadata": {},
   "outputs": [],
   "source": [
    "print(count_all)"
   ]
  },
  {
   "cell_type": "code",
   "execution_count": null,
   "metadata": {},
   "outputs": [],
   "source": [
    "samp_text = text[sum(count_all):100]\n",
    "samp_text\n",
    "print(len(samp_text))\n",
    "print( len(text[50:100]))\n",
    "len(text[100:100])"
   ]
  },
  {
   "cell_type": "code",
   "execution_count": null,
   "metadata": {},
   "outputs": [],
   "source": [
    "# 引いていく方式　毎回0 or 1で始まりその数字で終わる方法。\n",
    "array_0 = []\n",
    "array_1 = []\n",
    "count_0 = []\n",
    "count_1 = []\n",
    "count_all = []\n",
    "first_flag = int(samp_text[0]) # 最初の文字をフラグとして先頭に挿入する。\n",
    "count_all.append(first_flag)\n",
    "#-----------------------------------------------\n",
    "print('----1----')\n",
    "flag = 0 # samp_text[0]\n",
    "for i in range(len(samp_text)):\n",
    "    # 下記をtextがなくなるまで繰り返す→while\n",
    "    print(i)\n",
    "    i += sum(count_all)\n",
    "    if samp_text[i] == '1' or  i+1 == (len(samp_text)): # 文字列として認識される問題。\n",
    "        flag = 1\n",
    "    if flag == 0:\n",
    "        array_0.append(samp_text[i])\n",
    "        print(len(array_0))\n",
    "    else:\n",
    "        count_0.append(len(array_0)+1)\n",
    "#         length.append(count_0)\n",
    "        array_0.clear()\n",
    "        break\n",
    "for j in range(len(count_0)):\n",
    "    count_all.append(count_0[j])\n",
    "count_0.clear()\n",
    "print(count_all)\n",
    "#------------------------------------------------\n",
    "print('----2------')\n",
    "flag = 1\n",
    "for i in range(len(samp_text)):\n",
    "    # 下記をtextがなくなるまで繰り返す→while\n",
    "    print(i)\n",
    "    i += sum(count_all)\n",
    "    if samp_text[i] == '0' or  i+1 == (len(samp_text)): # 文字列として認識される問題。\n",
    "        flag = 0\n",
    "    if flag == 1:\n",
    "        array_1.append(samp_text[i])\n",
    "        print(len(array_1))\n",
    "    else:\n",
    "        count_1.append(len(array_1)+1)\n",
    "        array_1.clear()\n",
    "        break\n",
    "# count_allにcount_0とcount_1を追加する。\n",
    "for j in range(len(count_1)):\n",
    "    count_all.append(count_1[j])\n",
    "count_1.clear()\n",
    "\n",
    "# #------------------------------------------------ "
   ]
  },
  {
   "cell_type": "code",
   "execution_count": null,
   "metadata": {},
   "outputs": [],
   "source": [
    "# 0,1\n",
    "print('----3------')\n",
    "x =  int(sum(count_all))\n",
    "samp_text =  text[x:100]\n",
    "flag = 0 # samp_text[0]\n",
    "for i in range(len(samp_text)):\n",
    "#     # 下記をtextがなくなるまで繰り返す→while\n",
    "    if samp_text[i] == '1': # 文字列として認識される問題。\n",
    "        flag = 1\n",
    "#     print(i)\n",
    "    if (flag == 0) and (i  != len(samp_text)): # flag 0は 常にtrue ,\n",
    "        array_0.append(samp_text[i])\n",
    "        print(len(array_0))\n",
    "    else: # 次の値が出ないからflagは変わらないからブレイクもしない\n",
    "        count_0.append(len(array_0))\n",
    "        array_0.clear()\n",
    "        break\n",
    "for j in range(len(count_0)):\n",
    "    count_all.append(count_0[j])\n",
    "count_0.clear()\n",
    "print(count_all)"
   ]
  },
  {
   "cell_type": "code",
   "execution_count": null,
   "metadata": {},
   "outputs": [],
   "source": [
    "\"\"\"\n",
    "難しく考えすぎや\n",
    "反省点\n",
    "・10以下の数字で考えること\n",
    "・\n",
    "\n",
    "\"\"\""
   ]
  },
  {
   "cell_type": "code",
   "execution_count": null,
   "metadata": {},
   "outputs": [],
   "source": [
    "# 引いていく方式　毎回0 or 1で始まりその数字で終わる方法。\n",
    "array_0 = []\n",
    "array_1 = []\n",
    "count_0 = []\n",
    "count_1 = []\n",
    "count_all = []\n",
    "while (len(samp_text) - sum(count_all)) > 0:\n",
    "    flag = 0 # samp_text[0]\n",
    "    for i in range(len(samp_text)-sum(count_1)):\n",
    "        i += sum(count_1)\n",
    "        # 下記をtextがなくなるまで繰り返す→while\n",
    "        if samp_text[i] == '1': # 文字列として認識される問題。\n",
    "            flag = 1\n",
    "        if flag == 0:\n",
    "            array_0.append(samp_text[i])\n",
    "        else:\n",
    "            count_0.append(len(array_0))\n",
    "    #         length.append(count_0)\n",
    "            break\n",
    "    flag = 1\n",
    "    for i in range(len(samp_text)-sum(count_0)):\n",
    "        # 下記をtextがなくなるまで繰り返す→while\n",
    "        i += sum(count_0)\n",
    "        print(i)\n",
    "        if samp_text[i] == '0': # 文字列として認識される問題。\n",
    "            flag = 0\n",
    "        if flag == 1:\n",
    "            array_1.append(samp_text[i])\n",
    "        else:\n",
    "            count_1.append(len(array_1))\n",
    "            break\n",
    "    # count_allにcount_0とcount_1を追加する。\n",
    "    for j in range(len(count_1)):\n",
    "        count_all.append(count_0[j])\n",
    "        count_all.append(count_1[j])\n",
    "print(count_0,count_1,count_all)"
   ]
  },
  {
   "cell_type": "code",
   "execution_count": null,
   "metadata": {},
   "outputs": [],
   "source": [
    "samp_text =  text[:100]\n",
    "while len(samp_text) > 0:\n",
    "        # 引いていく方式　毎回0 or 1で始まりその数字で終わる方法。\n",
    "    array_0 = []\n",
    "    array_1 = []\n",
    "    count_0 = []\n",
    "    count_1 = []\n",
    "    count_all = []\n",
    "#     first_flag = int(samp_text[0]) # 最初の文字をフラグとして先頭に挿入する。\n",
    "#     count_all.append(first_flag)\n",
    "    #-----------------------------------------------\n",
    "    print('----1----')\n",
    "    flag = 0 # samp_text[0]\n",
    "    for i in range(len(samp_text)):\n",
    "        # 下記をtextがなくなるまで繰り返す→while\n",
    "        print(i)\n",
    "        i += sum(count_all)\n",
    "        if samp_text[i] == '1' or  i+1 == (len(samp_text)): # 文字列として認識される問題。\n",
    "            flag = 1\n",
    "        if flag == 0:\n",
    "            array_0.append(samp_text[i])\n",
    "            print(len(array_0))\n",
    "        else:\n",
    "            count_0.append(len(array_0)+1)\n",
    "    #         length.append(count_0)\n",
    "            array_0.clear()\n",
    "            break\n",
    "    for j in range(len(count_0)):\n",
    "        count_all.append(count_0[j])\n",
    "    count_0.clear()\n",
    "    print(count_all)\n",
    "    #------------------------------------------------\n",
    "    print('----2------')\n",
    "    flag = 1\n",
    "    for i in range(len(samp_text)):\n",
    "        # 下記をtextがなくなるまで繰り返す→while\n",
    "        print(i)\n",
    "        i += sum(count_all)\n",
    "        if samp_text[i] == '0' or  i+1 == (len(samp_text)): # 文字列として認識される問題。\n",
    "            flag = 0\n",
    "        if flag == 1:\n",
    "            array_1.append(samp_text[i])\n",
    "            print(len(array_1))\n",
    "        else:\n",
    "            count_1.append(len(array_1)+1)\n",
    "            array_1.clear()\n",
    "            break\n",
    "    # count_allにcount_0とcount_1を追加する。\n",
    "    for j in range(len(count_1)):\n",
    "        count_all.append(count_1[j])\n",
    "    count_1.clear()\n",
    "\n",
    "    # #------------------------------------------------ \n",
    "    \n",
    "    samp_text = text[sum(count_all):100]\n",
    "    "
   ]
  },
  {
   "cell_type": "markdown",
   "metadata": {},
   "source": [
    "**解答**<br>\n",
    "text = '00000011111111111'<br>\n",
    "・000000-> 0[06]<br>\n",
    "・111111111111->1[12]<br>\n",
    "text_encode = '006112'<br>\n",
    "0 or 1の2たく<br>\n",
    "text_encode = '00612' (1を抜くことができる)<br>\n",
    "`encode`<br>\n",
    "text_encode =  encode(text)<br>\n",
    "text_enocode = '00612'<br>\n",
    "`decode`<br>\n",
    "text_decode =  decode( text_encode)<br>\n",
    "text_decode-> '00612'<br>\n"
   ]
  },
  {
   "cell_type": "markdown",
   "metadata": {},
   "source": [
    "**encode のアルゴリズム**<br>\n",
    "先頭が0 or 1かを取得<br>\n",
    "何文字続くかをカウントを取得(00文字)<br>\n",
    "-一桁の時は2桁に0を入れて補正する<br>\n",
    "整数を文字列<br>\n",
    "全てを文字列として足し合わせる。<br>\n",
    "<br>\n",
    "問題はもっと細分化するべきやった。<br>\n",
    "基本的に自分の指で数えられる範囲から広げていくようにしないといけないと思った。<br>"
   ]
  },
  {
   "cell_type": "code",
   "execution_count": null,
   "metadata": {},
   "outputs": [],
   "source": [
    "text =  '000000111111111111'\n",
    "head = text[0]\n",
    "head"
   ]
  },
  {
   "cell_type": "code",
   "execution_count": null,
   "metadata": {},
   "outputs": [],
   "source": [
    "def get_count(text):\n",
    "    head = text[0] # ここを設定しないとはじめにch == noneより0が配列に入る。\n",
    "    counts =  []\n",
    "    count = 0\n",
    "    for ch in text:\n",
    "        if ch == head:\n",
    "    #         count = count+1\n",
    "            count += 1\n",
    "        else:\n",
    "            counts.append(count)\n",
    "            count = 1 # 1からきているので 1からスタートする。\n",
    "            head = ch # 0なら1 1なら0になっている。\n",
    "    else: # ここで1の文が出てくる。\n",
    "        counts.append(count)\n",
    "    return head,counts\n",
    "\n",
    "            "
   ]
  },
  {
   "cell_type": "code",
   "execution_count": null,
   "metadata": {},
   "outputs": [],
   "source": [
    "for i in range(3):\n",
    "    print( i)\n",
    "else: # for 文を抜けたらelseを走らせる。\n",
    "    print('ここで終わり')"
   ]
  },
  {
   "cell_type": "code",
   "execution_count": null,
   "metadata": {},
   "outputs": [],
   "source": [
    "head,counts =  get_count(text)"
   ]
  },
  {
   "cell_type": "code",
   "execution_count": null,
   "metadata": {},
   "outputs": [],
   "source": [
    "head"
   ]
  },
  {
   "cell_type": "markdown",
   "metadata": {},
   "source": [
    "整数(6)→文字列('06')に変換<br>\n",
    "-6→'06'<br>\n",
    "12→'12'<br>"
   ]
  },
  {
   "cell_type": "code",
   "execution_count": null,
   "metadata": {},
   "outputs": [],
   "source": [
    " def int2str(count): \n",
    "    if count < 10:\n",
    "        return '0' + str( count)\n",
    "    else:\n",
    "        return  str( count)"
   ]
  },
  {
   "cell_type": "code",
   "execution_count": null,
   "metadata": {},
   "outputs": [],
   "source": [
    "int2str(2)"
   ]
  },
  {
   "cell_type": "code",
   "execution_count": null,
   "metadata": {},
   "outputs": [],
   "source": [
    "text_encode = head\n",
    "for count in counts:\n",
    "    text_encode +=  int2str(count)"
   ]
  },
  {
   "cell_type": "code",
   "execution_count": null,
   "metadata": {},
   "outputs": [],
   "source": [
    "text_encode"
   ]
  },
  {
   "cell_type": "code",
   "execution_count": null,
   "metadata": {},
   "outputs": [],
   "source": [
    "def get_count(text):\n",
    "    # ここを設定しないとはじめにch == noneより0が配列に入る\n",
    "    _head = text[0] # head が書き換えられる時用にtmp　headを用意する。\n",
    "    head = _head\n",
    "    counts =  []\n",
    "    count = 0\n",
    "    for ch in text:\n",
    "        if ch == head:\n",
    "    #         count = count+1\n",
    "            count += 1\n",
    "        else:\n",
    "            counts.append(count)\n",
    "            count = 1 # 1からきているので 1からスタートする。\n",
    "            head = ch # 0なら1 1なら0になっている。\n",
    "    else: # ここで1の文が出てくる。\n",
    "        counts.append(count)\n",
    "        \n",
    "    return _head,counts\n",
    "\n",
    "            "
   ]
  },
  {
   "cell_type": "code",
   "execution_count": null,
   "metadata": {},
   "outputs": [],
   "source": [
    "head,counts =  get_count(text)"
   ]
  },
  {
   "cell_type": "code",
   "execution_count": 246,
   "metadata": {},
   "outputs": [],
   "source": [
    "def encode(text): \n",
    "    head,counts = get_count(text)\n",
    "    text_encode = head\n",
    "    for count in counts:\n",
    "        text_encode +=  int2str(count)\n",
    "    return text_encode"
   ]
  },
  {
   "cell_type": "code",
   "execution_count": null,
   "metadata": {},
   "outputs": [],
   "source": [
    "encode(text)"
   ]
  },
  {
   "cell_type": "markdown",
   "metadata": {},
   "source": [
    "**本番データに適用**<br>"
   ]
  },
  {
   "cell_type": "code",
   "execution_count": null,
   "metadata": {},
   "outputs": [],
   "source": [
    "with open('input.txt','r') as f:\n",
    "    text = f.read()"
   ]
  },
  {
   "cell_type": "code",
   "execution_count": null,
   "metadata": {},
   "outputs": [],
   "source": [
    "    len(text)"
   ]
  },
  {
   "cell_type": "code",
   "execution_count": 274,
   "metadata": {},
   "outputs": [
    {
     "data": {
      "text/plain": [
       "'03813731076068065170277720726512119851229301551698888959787141008646223580201618209891448733172047122505804692544772753814283166569269988082726231068242838588439093335112416882672937563473389245666780401780753867103779222760878737677442131370846695883971411248208257593213313669561258398039399115597838771677249551606184321492314985485119756625790229784261514854407785760162510677254703722417892504878417946881729466867794701306476365494340385844955332956833229957509330985785180426584252145163192152027870854486135332068258495394806806488334375678999311869656179184036822923394275787126495163455501871720109352116924156422470457898147558072157816265485598630453823925577136027777288404477399270993444275770745390284402839597278531652399530471134084496271143724236793965410425889947783123717318558364282038694374781287329031442374119983964479003992979765943272259179338122307971588763664339250012398713719282953955147088617301262153109414931246793651318341129760682064387535857798882117349201326781705892851690459130377979762167513193160061796976144324525638022207834054068353543798339498206920941700608793879342852783144471068046855986481293865389419797193531133476494193730402955305691286113187292088457523377635297312306929623772319943019533250998494465287167249298428442080718987126694165299874664432383414517188901988372153727330249892335952269684919981212537769466590410808345908350506625177469722937293269802143986283985340232392976325267683375339806013873442517979742252228473663696333468943582633340766523208140429163067628497598335315897504784422141510510019122752234393844349642727071248740323839578829376711850117310479605470507547283473694033980834631578446286371354278313260242565665169341617150513391215339668158539020956543482298029039131978788991844099163897379902333108515133444270029852318350828396722219474592100578642496606583320285796955268428579309567747501209627524899083830643472252744314192446965334551558624173662303870273527288786349014340045844544475999876606775920627683212045502146057820939057177740680856032910867334776834565384874918516665370679029201806801130188247081887626508305629449956065193645335998478389055054412307790335152432490448996296587598952231132100731681913747592668654430710378860095488192268152186104367211759784336762986354593830931657819391257538477692670326063306733726194732898946939619810687964213656294693575205807632775339848175712758316539199642965849435323657162619728012751212766781961836063392469706288672037182278273309092169835586947590249591141243118925486944921407036894052936837847790792812124647207226551911093688634720952346208604228524172469510894759225501202086289822951968369630235711437332138308880962243595045669162595632799488836178891798858255650532516687447216795132601989978129125554878416096809032573439932115106882800448714306215860557825598037815952647484898356797128245470692447406778272518880246592218573444769903979184272753560863328093774788717056939988867516155788028576779119634666532988392198526095651598534517653183114689796098436506917756432189691993508416186208655603910517786931538537996032363351520634011032368961391245440863579794532544521195501911624007088013010452166882606716626520458862220164958502856177231525473381715525789036583240159449142016984236265235233462790833046896589747902293855965417979636348287243159452197911365094809005068730548173303979554365694585745181513673164003369880161695673584941975192618503821415324198052333831415174698116646592215524072501498129890274220177334182843188543483230435508971383413388066078093043386453047686729588544959421533226645360182355143124512272042413780853312709978582744057612666962819870235031886129454608312840484019486529233878582061270104775943339436424416464321941069380837541266950838747142281829550521531118605085560859942365714125367228295356292866193999275097682282687371504938573440956186133998428965351819280273825574153392045216422666993196917796057453640623368546376093534932668029909902830907811621780757798013104826539683122279611703437100156701104407838172647084401571556565379985461011561679640720817676270515980157813128096350770864571731347830830618374478785984889747788463788403807445902843049564609353001802005720209274190337197083982300475519217504371093226355598977106649525472123017023282665463958535333708006346554545413819734525681551386118279728530136408718364654570768935156089342504423123549792928398370739993263486335724321915123036401930673531095981299419277886203238394994830969981027602539365767963774937501574223372014725813817536993910861103564676914679201357117381839831538630134507832585974772977545932951439928860476387624072036026583331539242795846862674750703317879929743198490895743051225230705802954312228063673834952952577418629414824298590380624692114573029925529648261708473804953939397589540917962580677268094384561169342640803477653672638042685650153824785185536796151472466013313917626567006158803926599885925461578873392733984212572283896831755975374066781955103903308908637677412364340539485217408537058639084172946838269686284703975647313352584352390418876783976221656698369123758288002130209906491168681852894081576136221386367345875730601030565583631057681150353551697890160630292688242844598078857504873609483819993391188669689607496923551528383529225566966385898884558423328566481927757276354932339215944204676388535885902418638590825258442952833152614793725045794322977036160734116380883394861614983098669406455146241747569252634197947790878093950151846587888273259243843949082972747192540764007694047226874257233138766080397210486953618185644539626903052684821728009246157104761666322142328261833941586532661846990255864131927782601231575407620107254672889037286201514988323628212294503041132929730563034426650268649544901390822061678816498313373454168257968514936533202653219671644402102014683302708530422848063706809734496907773596959826493533848522471012423886009031904158068358265454335794561684323426942408143689914263976069323407415487202347161201698995470213639508259137654259623342531880188364664094215631130313898401168557846746924826582823394153139978801386743621901468395727197540143414025419373320530363649314801800853102552869276158262411328450155651791186091963873848240447191243174649149459517609145864918524907776787364579990139198237490452490489581788648722349532693972705413974741189479623659323149319797210775363774397257726850628399848688480166222240776103417844846067798651233814168547399055283049167430525089651453956035046581935801109139181443531039265882527054907030916377215689960263551132709648491141267388235056890429252166881012225988956579887287830143356758930771031391050135770924622816128654914861893084517039847596480660123652857413361710855949224872575268049351548880934081838303318648664257428045958087345516283806653543884591434553895881036574965032324240150348365133334243961784293292123988175710658427033986318754323137162293487445056744196091307810249109921588487338429031400634752094389016139865017051481969686775705666825149055157793911952540595601399486967174561697505607333094792029794293259011701647304520847580459913877850325488937903709723430321574038272204632910550229074568333070139116759317241612057295258138646182507912014824829113578229368109170722354846432636762754887567786153503761964870356233481992927482134258710335816788721527409159468385531410264865894086224645898469687136352562887421777359561683426428978390727497619080892335560838990176746458654015232716827793275089332699536178064765119802577392572287387375931515508946873184787259634319597613294650952377579039871220895175929141600309767230961173641436622806493783680739197254165347987554042544262702071935329781994452378309032063957626368063777775714879323444105787473837115178204635360872020447620704093785498215164944445886684751030182591946662897845921974485129991473889410745315934662290580178681671044843028248176922623045976735898778983911221779085454687813878629146207584662529407584108059308195273038347198730361253773879702570307825431166865421142707328450665501518238777121551646307115147782484476632626734362454554332906216208529851842210781268363842101694867730532687381623923746670459967373901786753363077438034614423404053166708975376657787117439858940690883096708742825247594084167694945357268037058395124323852957335987696723037402348108647006431636478224210524264732261912544607210668124545278657815438471265578423577775723751322429014062336759478038549189343526792084537685649780994239400709018843194544940603633795608420243118994056241710923149503852220132941940455045243782907075866962444754751336181205882766177626642517808557203466303984547092652055767071942382299874585121303344924847588002134020566058678958545603344554386374617073878313490984652753182843495493158546291634907115918066142752249411735230200337235799955922354055291260030487112802627113316880625808430454901375766035705198932286764404850702669719540871472635567264951213508068557082423283347410897596022012734224365930150250954028582033125288866577610940859819044741329643632417893298768407194665548644514314080106140939676098670626890716756020512303767651420948842810711979706284363657542314492208077829448571982974900754147355905149395835696652258648398539327979093796733878354020683271655660572790783153893284440152117340771470705012136014903220266587671987929999374915414679640155218524566041380335704491418461461969276146592402411478635295486258659824020368840509781514990796699887297435845949101532252523752620977562860854896276691844291853499295602287729310112184164739206107243292018472106866036648872620055371052363604170712477325928733119574537608957845702490955249454712443696231732736899522613391871910307531594095267474547678612707856878349252373484411465527407572260314669582083327161763418799701834268866335259873135164653460362007249761199763102441779807803581073313719652461888878507585884730788193107881454624139174839980166497032660176772085836439558713221946606113291214618360888403349210037744821889545176073795177799632371708316961922100379790797603726066209072157149404790682914099083311694599828098205067625126412556038706109581265472665664086987405874783932776082289040090415991076798265748416655348275417260825051026379081537055264219128104021851911946454921921736300829073098979503899161700187156974168790456816513553157131299373356015811387648679031076313320687731710918756749661733187859126734080705630122213851598279074713625052286015228854147535507124545213711199059712753832449538870139262345944786143247826737533532144819266487062420310508529967652896560144449163650507252428316926945168039986571913253870655901651422389915189190232151734911249766132186224732273559918370158084796326681820553801816262041754782565207263540505728470806198543388070341062204128068077647176405204138635906808775451107334109679673582595344895539212370761305056074164087627563283965578770796917958148424216691855567848838170881691616832148215910975660890826101137402183762999418684061149616860342277840722154266796939925481951390786158521568495510233499578115322043327428621554419144127473325259164904266529696060847805706774448884747963057341981319553620321071303386958785841285979683299037189622118062408991728446132045208564426431521254327592691121887378013989480647757294581847388888740451646461534952076494022523894935234019647589180828877903511744801278149539017227937795895517637457544019657969595154444851488895557566044512535741153998144762066215786693487714062342071631479333193072040151704136521650096866353586390346591834930945061042517478630833806742787749921476023328103708551290378159776424336680767463188766067760459330575768541813538394206158346289748033617119357439722316552824271261316298744581246572186513853977383884448878144491284769059932599042649783558840723740711711264812796444944224348947264631958726973807233084328898541684871679360702098312798193400727747765352783399209192506564603254858408038521038097016576738237619077872354153255007336713598733494656332716605731672894214939236562858868706708162695632894199185748037011324981047877675067043043477215802678078627879865186170222582317683861798191013877818208619324135116640903431816512664525528455980051237229310912213469829400348715119929337837457660548398076195064715543704221170140683622875291650409600210622538967152838474065819466387798767512294737177813769377745484552210347773746152585723194961251736995806349833613823271037186262553370290529663426867435553723129241009469446702192081864406257504344968690599822272391525998712804321154442523881676682455596716922725062745948182685866011234196106067215812655198545597196491191477333297604533482569120641204403123786365577236534709816104233296965611795619958878169055637551785667376337146653277390939248991354431749210885247738160516094937677819453912309774069431450239053386716104136812142904987129759016421402527784725610810828450647799670516588613388284545442519768001554795022071713563100563494749918111712620096503736594207467326665694692942398556248252427348495411915396407725315448084412261972349867296388567575166892101761594277291752706997668167825275779022279019161755388446429599213951409702764040535600876412069288806018345545589683022374054641796727763732274198355757404317970999717334918247694926589647160962855363029335498788177840489705889814819357077853327017520452904539358096211202899073654092287319669135223219433919602382583010768820513155905859450224182186754473309337532605012125509107390967348747712705895450422653244378760164069021583786932573830487006352864631259095437751327770386712148470153980617453049518718975833790222950177228592805357679289799657101285601449334620843484475573667257345460746950366972529707850524223660406761340904690708683095789837753091565082461116712437257026739977794597121184945331316322234357969338448696739502172702985360548056769685295514081684355244917679525830696150810304798873264010445765100282168784806493068265281916127192520669215360370369272245434349540517502120346585463536892561138237391686908443906797754095011133028827364031076680555945821792627784850387357786442372228098486072643630543514704891065598331328929970183134581403743552160872771322671037607246349278347498853971863795134369268995418287585782540313062922479094239851981582698222049073515220532060245977367371318190526350441397513335558491464609537990226432067208390960947294988302674399476059581683441161595167653468535948912415083263780419094594906826882101387287742633913299641033676977653502256517058778247281229461489919831528622769808576600903812563336196452186929008194977376355310304076677113667667632562085714567568696606377819613811919096047729875657879470236836607496412878259952831185944724736071945418248417573585985043058452661094926294675542419978119952492371615667831546168859685866469692227443805344145953257579985152819771325554948446208204720805995615414312903769344309180483529105325738988012417159044077637422202853588867215830410452649887094783576402814469019023869213184978912427673068744389876409434157897187383973763138058842486322096526916395568443373349337135589369295119788683167393145659017997668320124847890102840911876633861444239178485891966101556310883042274231316914737307242417573605802219818330287823547412265891918511732208096413154665185042916744242524465754884307754029071360404070788366130777642084232341589916811775020215574713936515342939913845929714325059125867429889857151020657301939538423056501916586089864189739783336142606283382348881424742803540906811171416636736652406828523769082739098211641680592206021581353686395808578118458677728588533439803005603278099229948882066894529448884118374852267687661291179073673207143986053021935561233084308561405079672666609499806150725570431637394340525111135772759499910184262269410207152134746726489802226262201020441379793875080764989083889201167231828853485449631211545171536450184529968950433823888620054024271120436490348664578926855435604522949059600871715013048203424319366460339458287789080688436578744604707797992754780831657172234865929798753610381048302563109170554955853802499711272468694574924483584204730251652920352773872624620454228495301723176033433017441618690521773195677203972326552930199836617826695242265592999680984811636199647106884973795642988930380195017616510665048477507964207491584868661101950857125116326256138262487236379698652493016697907578898849055704747372147663438132477130184838136261335833862310447098390538740634751809163053173666219939911305636854102622352421509953984003985099210770320496321222420259869923430921715552157703637628084222442080749439394410028818155894204243799642812340880829320495771568566994523542281827655154842209101317742664124820752643449881558339200705945804919110069357997192305345870537118784235550850454273301167954292583165926670161866818508074194192789562818404024538636322259760085897792832974638594329962123400201132806556626080659992068623098906250965273127443997998836067340739111733148639169102489663693602857638576227147927314672968115883957901676325559413570310314891733179160643094743529567246504241459605581255244661073872440820443062676521367502977826499188954181444929591425363043086679432425271574471536226779258524109547979001246424082965491577713050733520972594209101798558672983066471053069389945545014277471964405124911519496025359689757587293710140031973413152586344143536176396869766666785707965432901955625270419128696116691130860527723341937472333544495313116973385413235663575169209187661722590346580489034685394547968985881542899475456702073919010169336670989968070855537858109082579091094819113673067253862864791493168204402888182321689710469495435752410108309724288477570989856600209648079489362133635179912168289754676789506496969544911470187626246559416641766409837852167464666780839205360332925398973919468798602435403127561929042115714781926039701988729910302859457076606101888181376061044018689186427298802783481164878743825260516955526334808594776624968810558551998492727256433433103802611291533077296443646932928161095325471226761389858729258969121950602270862043022896092995913170301723243592993413275354126577477021354856145405690686542964719468794113457320421356796257540738807345284231716827070667864569770525510175326225826505247959033383904033806076387904425956736888764179528441183453708774344167532498711229224452527862743971876184353547488974107010480943335281384949106585135864596287190184966206427330285167983565357235876643244963576975702508641655157336385247189423927020137374289176954229324925052705401611320281388177097903395917907431333907275919979360230923242420466637007690746504152891424423619701561886723732811562171269525881370194512471551766588306467080118466111395310134224715876245591025175096570769787142962789830645786639708286374188686936131200803445917492963990775605309054475519622116567695291960637374466682628034727784579847847304964136046496713456964080430876363360843567697668849025881534696229074080115345979684854239558181707349516495395185331033851579167668706151243791585010460729349100824239907338869839712268994961694728068700642618618399302165024413675413650298731401689403481236587770711802947244462446501759701013275411272607606203195452670327530910559798585286501030619627365437489516748950641923480067867311645337645051611147254145723594864512548198315158320357767397254126441152580687331319886147082780526602724623989838514899173485298642928609579605111928523383013216753160342580298634644044888054069067260083458905872294805625202917525419737528884680368652821281518779211905975084003685744983361250226641511594839147643435541975799700117514912791532338399734527309633591128844603544578983280173251900860511590584443957829556939612798209460203690922169417679154874150165248969465243903586855967598988476469453360230826817866893253032605678723315876385934578333747689406689744259769227932973087655166287242075258868531217702440383530735896041603042386148411579341404567757729671411656375032456501081120533880655944903522986306147184993431235912018920388949868127060177104394064741180153297983021567299318597359506115494675887214733359456417014752756698672210688618291587395299322026354122136298115481590587824796879296585445077552404797485557930494181873802094890778511319515148325331779532586096950121118123490407862675177847206336142798407384115382940807755771675435664610762468191157288108572646551143743580968923662633060032575388731448371218490617153059495058415630808492183038276529398543259475205042503315529284240392384321705443295812636446565983224612274251298250843906659795913183580093456211365361317493584724621552088279098808707692245509712436218184405200651334284131228608963748416498961679928088628094228418393219127938356212119444391111951860239091742467968576805715786188080750228876322991661307688547966654067371596430361365186518292077213091719564931066636509234438636165237093831864277649542568312234928730436498045450828543538453009977009659028638081696892826774108211579885754101452824691233482162692275919873721740386075750487946242713184828065206294655863667136653333429160928148774084658669702668160993996640328426842399763362509497950724218890046249593259253973170867204497907404113302987696967936544379398824130595019043569542769218014697541517978359939547230837559625927540175754293994957003423362598896177955174291244569923015162195223963835884247469867530685627095161750520549527486360694729012496189373431552354706615462242398580932325738364130771228196403192313068920132553540434753524610129716870101462230672183807295878551340934979816029831864084885901953301328600108820373587647098237887258533872736899593659478301027688429922203755497264182225087566164106161093080751901765439315994344418887512792113467403747546340943802973797894920753384012055927329503678036373700802149033497725058212048244317885344414401149856224122477811387730788509398177465266047734319727852264705432136790169202101098972793751600962088827772103043017170649714407545459026429658716595824024974147273153871927233090406486631447673932725317851439402241112077704207062463211840134531565879869532722498055687744334661332545968749209084259049991030104289764767777477994141094501145190984719143483377594933779703664963194010869374017393388586130515474820685297085623493418374455897100283858424526539372110834469205886303531143356914166687385331188676555820604817238952355543487416041356051031226413943566017332842844037837060773496178669093513393734938053310673676628722657263719275757822873822879023482173009914716029601197188286724235433224359363086920508683053260193377837888519418429295281080393854427755030553368423825573893690373445495823029697560506821252301070319261632631962558929630483803102623729732457123965773988038541298222389564408931711834382387111121674504372243686443681794314576804379037739832036139609109907576309199504690858112542570538191866258004386474964114393580454907291127458758690794699182904998466654909384192607800704583226826010134905473438116497232225820756711359106603440506515489421551799394733353850690279612431675278152308073993129593304333928683058556756865226105486147871146879597416631985216608540933895141374304375949983469782840223076435006701999972254334297282876972222817945810803465566605256137739131112475763997079191856655888594922779244437622916683067616068379978928395907166711919221258077828913745421350462736260453680646488798310324171158416242686321305048045316622366510828143135778761570219311083148340404558589788739655289665520039954644047415910061673779916228834135449764434342091348543787411217562864215266178909018017239800153022417205599047287444215911187299027999665394468931989373977798799500592993748416576512069375211925293851483872620741311147579278679659851306245175751310715926372887127315102397167745726247408948563667090488067580918426916210336224849839845635129728712419053414088745624664031598414811363083826847576735059716791419437844818667644948361735125152329463779294716713831761221918673450431637744718717035524022311339815347667373727595440342766303138032483245565384780761009698786535949150886069036424886648804714142864219332886366168124413642193637114199225088213295732915382783472238166667232319925154760849932544595438598314871701855523096118428416056803032296258234592887943864480624884583437748050661247486879490109437065376353926977119247383692926583354862812801887069423042633759539477412775631285420162700731554099954778384927044882880171460401550546477347940498234716405872685352186820573506333582897319140606303331665773133516092582221327787672095903177019916898761487742372812426040254112218887066391711981947295591947945652776191773418355520587321573980196446171153509293779063012155720039755603007977302464382055676297056218683423677330592787641273181764184650853665582895470926059618390098225573160778897108245566886613791251641738924099222977139219332326333688679347018857875460730496120109755632774814409668583462260701318990863461795293547765594177353371871454462953827604886368861594897973525239497230523151653023620366081981076582538278555432784674961138823379410624997758326067937159547831871683674136965375583625966698592823505393788272112694095572452702606050784028248250267227203805504235929545835648515142119322565048170058058024756134188429759407756476861993084944548648195294220533747737397625623110859217048700897720326062366859450604161381961128641217903569277759083377813269364059555073412431255934559215135720468791863178755659123348352132678035071234323216487763019232085078312700283490505848436778807105804374032436331885866860102530507944567054848483726203976869502568498681819870363911098785046089187976850068547747382098664955445269341086366155638674465851872198338927693193160357565884846528407495481251714156093872218183143290683902136817311361735748654757249562179063813402850349655514984976205838494566357916139727013281954359383954495378436078731113156375662205193467657329460763190814278042807106768837536574560720978357273948235627966561060024858032026541209304342938354262839424878387856387051612390945506838435603726321741568883391261135906272036421485647166520156299931831577358268451660562625849676434851748668382028905881040188157284455874263064805610951578577281728138202032614383683298162261705461623530291705479203902918310685997820996189820551723408719057485161263830918083561354433074616939397033803703460986870697417445180165874726425333815865661665965904858553555482915589501160990558185214024920461631577165670625137649254101878601472376526124500481526275455813328443194461274470341711393379858136130420324691749172139497313155400532845949250127119973227430498924139859502104074538438734731889393085696715412493597523835265531743585123483701145620580675641699791816319602622434400986997235755282489387296837191026479837106981126323841552455615108065232140847025047024046439825297570929023423714378820450080933660644645092142349819770160577698683867532511032645728409971629078547579696846146057625565909804431114735045557835818308053156424009102981931601334239506657623934089615258788713074706113723482046077553854310168831495329490140155582545869579972659973866547967570402534928232468282438490704085579215868565946859950568628937347484382813059468399956557456635192241267371046352237903264775312390810397162678218209543442577723759486951950340527175917093505430471514492757541315661603086280948119098593304540589908186185967465432019251255297867232166938320202641766857955692077061439247622243773440832525293048880406972102491225729731220707052937985376918023991681309866440496099985958106978464865149447606722773324763546443184262238765363588719369862905123401044149567789894800109075206998129713953239602037312732374402290575822051011189185573601449443208976525638884458263430394750181318490102975898981091118152242218207156656109776868423216234351580250538805990145604953392521319717174428935092061694541864225388337316207657660973701947551572594362510668647439572448816749233266055054403774281733479201705482399538978763705229249936712824181709381126844238011208476726165824940333733954880230590193503125399703125992605479546972691771959194705550586643043524536056075250386475612528170210831370408713498396794765449557353326100768855325404888047170357455333411480359820658404961467834707509567587674149981625775875102179495355613015899783287968351189899885489821701809576818283657165220211909739013182141112231390568874131140393500361852277402544218438641461282601993960828574078167100930258445245388643255753592462953952025327676916555968984277305498490747950926389454429811732371943804963901699554946934596561850209498458795692533395140716338914206717586468423060890537681422166527231601571303536219753260654120850138272244339332463325935680977196779705387079483426597955142928269992959663536980193169755515738619006611834399510849319276197139001654071632114185160399508282766824391853582361339793881059692578132131031794729769793494794747696771981777648645668960103208508783235395541435987176878070559694030752228850352485809970242234198853071355397062895207155241850207760064331737207685331474212169417211020552161998083965910521410709205061679445480055452639319265825083997775296104755325264934270197756882290382422400696664866264156817638099950901491464043121076802044673936434618608919480418407381601279262051511848655910157239892189061846748244236471266518534195591861355708433527930357480694096502381413594467331670543139281897437927401683754876065859032113977014616648538679324607914968585010249763631945751568752076508349814827713714565524529497653370203748269322215973943810229786376839578832979174416385220563944796258383766391630553373112321309242638073294121697806420285118858778806123683008978050484985275946152906567067324859676518130719782312544442258172278436236696722508915588913737731541210868629097412672287866365662533499276655676269370204891896818823271199899363062712847892661296076419109335364070353812637186343324436383807914351812608073441101816030311281405305737022824497814114743557015373804068545522672562741587965620411315833230450333736560740193010753999079599738868844159169111147109088146741413932678968148213446713666789296058225414282356221826112987118552300595735004220666972326755366384532847567489591792135102887604207132827040211194812445051866784586640826188176815374124734359834427532318081204391887438043134701227945410796222352196424582425936060962990569493199575319802059368556106685132213910427103387716821520854931716147764625308997109046779501809107975823373649760986071388885984199291114339362621352770316988519001164640501361251307471750967609948047065071318403455717349406791694419033877956047277035283941380806508632683463565106514957664284029530223161504213106308674831219496601697238786669937705365599869705947628455817960624020232779064487779334181994631709597297668962193226643653567951336536716398810188958160911735077888864735558454663681739531976588306651196705732333749903542699071833614865594299234504030539691570926728380202305203883471634203931046468871831544006830231801493598709652080596313340741019904754084790564389139167497647293479692805769388494314944405276105173339421665591386189250168679431042340110111370263651940923226578194846842286229626948849241177853136316732480424370811402570593326161899050815019126822898682875340531410997947276487039746146838375564665950496027032745303573635376739601524061259681353756326781572421576028289081355975718208363075144461289817562620468149742332211718602971104636855582869781902141277710780515200707317424355351508642171063867093665760276692127928433250376645752472776198883560664136790395579543058851609227374610145986882109608356259373704980339105830671442022209699900201703058588045199771336101200406555320459576796013020816249901042863093480157255779760297957077123760672380132448348833470244795626369920325780461696705938648134647586629133466210218102334981917911795055261887513210623670725753272334114355004443413814685041722153834269663750235581171436005866408838522726318502094294568749940017858237080603530575224695797042204742125883868417318666606487117516567973824695707972062413116479066340882930119397321234443966688774851075968956038973464709411606153259873957119289697791211129396929904326949782785836475185134646346891147771818260328173825799723113738148080326343281866589998140401273880615738503111525347532659358302289626592279512960191911865978068554445283040780570280141112820181999125263808414725160780668203637455960764922968423508574639757582276244495897102775158418118833610710609602531792722683256606876858129467961243587661253779761084064485946588392050949678787223319419065039866281930970131586249759846933928432802357765135580885428826066218587502604602094717048896933945861309301628411670102578456540089614647067418069622494816912284467761169173660513185386878886983340262264337574768137133560703199412986919682093259258616752538320617520658454447403216243993581450716581869894047642949816468885465676510156604337696097639738951961368787623607813481980236575625399446286619526057207328958551572805587401358845141961379841947490180040909858181090322843062139482713833556423574398408285657362123696638964113935929745616665469143722163125999366862632840705412093755166037905875500731130473884952445906119368499807192831436865066962972346425793975166320716912509825427074466305522033817886985973588100294494968202093305870270795987637471138626992791949833212720881737434249658311390108479136791814101057576521354276035966417215087926591840244019069653088554228362684906571905002987346210169850876229266174973316769962714557761457856025940321149404059188236958583947299332658751740538235857409063597617405099256281702908925101342872139302462820257188835243542439206862420652849556406355348032622574902229810105260406997428101993574212532896065136328940787010429756811036168407890818710229867722931542727682846948904582227161609791983445692062935994369659497634921517141518509953008570842379920259698030237138232392288819707606650044436773986698629948510401812677096987538736307556697171912823726016833825792227774333367621177695245418311497964550154512599229095545691207062225960027693199065659302576762353424597465475949431006947797165991551157811542315612547318887608714355221156849983382225599519348406392207315270270890852667461325629527904822594102178175606210108441422963172510586072748606162912558989581065879411067985048402340664884461449712989419719881991069345412904475768204954186964454812626918640256414471616763507434925757092766081542074900417315937320387525919963012097679437871772671384136286604586014103140975878757034747768374787218021217646701817189489240549492441257498950383301195588152506178408114284653962937820412725770181174650219334032535852858498804260814258310803996213777511572034438350590843903037052705329868274283474545073849967366232752346838733153212048405581637285246813131488409956465409751171723074574118265449729645571006447452272405163386141734292210915995574719154986816922660818939209985668424671617188571283409976793596692150660672502843739254590706345404750591482328865975899368491449104841443203749154132171787966183809999043625886493167242426969043285728168711564759180711123864531863776887891141488685381428459520705193844260267820032888812818236953426995957033028838232195970813179960466571013063647843940662634924048634751906148719546381792517977754293843230727379189365701711559307103294003510936271059928921720794086799774549035391153329975134519343246076391420226621285144891269912685424468769160321208244029759905996209592896612181639348876038620257279510933560111323888399703767240455332155502383739937215760931248663548052113817064878954115008823393269167239969636015761012089066037018431795199677313443078522701583158024311688297705906276056037535294185681803266095139476711863574474863839903972145702759774379735843391008168043323950151654126133649981444437236299388862936665233429424307594885096535764189383521594071321943776453014178891796915464317671353426040412763132608052806156850417470586895845188822793614647848088422503808354963311204924107874663726052701142835088847968520206998926043599564420161880799849326277016584547905627628882596600384473781300550409956482210715252293699867799482062730159328926864425588365596394306275439985895892302266099540626878133376575825857994537855467944044604900665363120534677869957309649349149750672423638027211309613332993932911302366393733495149523098171942475654877377587943891513933087411704799789802287191283382756428259932775585038559873624858072729032706454458243214448767111133298116553678205857834666289265438886562801930237269879037961806416899563876924902054432968228205484545625033302377249953628978117434171285427101825639088259759493579165379602212525861220682776499622492589021156671563823483685391957390339826989265492904688536434117858677273712251167377562769912396194660469903065722866475804897801565683756244256213917762366233381596012216665159773478336914889249158639562649443314151935679849642523873450881962797505859010414603332640157933739448109144851872045573023380341958822837594064020188039773186477750140272221240718346736313278320728216158909779192027717588649720678862805965209097991668464283894928208769191069665041430294297593902047496554389159096370359755860482016506126540785328523611707682393138982287337193062254537162270143678836279166906591097858736134345890853088848447526032690110093243015150053559493302542403208423223859467499946540886724241720057093630358643787521453675829913153737734549244563844769233350648215030796709054904335213118648664051315938601843789273954873744127852565323983422390300731547750776123294802594409210642948387071027432561699220414081277570450121648447466350475881955455171655554465561268967958459297648776692414566752525182115779128778612014044104977128393626095419579080232871078740579434688349438108643428953906990784915819862095492912802841343732672807280864107842468711405615901529215109134395065462491642365134830710564372227514250787318270318869938233903306846660248127385462814728432558665685756139047326189182862188568943239354243485139495412004364302018047075369896665804989171154034097138445657137853885235909610363352386600115113856192406331624486217937073828917308476511883787502451387088657618283281035217824838206559054343841327784658007703677922070279162660365733926150547608367742044418489167450536317409716538949550976031036354699454594573527010758455330816882119103703838448712876930326884226141940551497929812951514534858649849663909269579074141341147157181102291849833108051477983548678457576721055741774507470805931462440653559713623407446188462454183324352872384841168316877547051602916670431350114478152774604467324912059816388626585933170686982311536770647944739286186469746077791913205861021052523240801692551450677235654020126571420793187252368218747299695557986170044095213121699872127844674012770444883194214493234960216728579780729575398763225799836283226741456431699295194730054459144547217775095579796589962738613302233958159192833989743214278496907266949148527904393380896226786652958068352622784367911621335970663346870485800273088407074955692183188950867264155260393824505176732740662628143343358086237561383451088663947101702097829404613492365970546444459052163595405040973179066599053596711011134985250496920354807071972121642085055862035661454514224318280519946398817856100771779698094046510493665758227628996551020469852934021256947924440312278698023435957745917625033635971196727840752541239080349779442021423278787680279017056019019627564160735232933816106958544342900207642746982552539196126402497174916237632756637630981206313033024007850928773790051836248818034244973060947164582856794733303635613659039910743960319042508777971411241084329220586852875638626963698315914473250411479780493790133505427385335279074280762457121832420359127538997659798092524075109858194573832325735835938840554255280662889408914522725681351263479683034708402668859087309306949284492859215248626915183197409609991044793107985016341449652461867674486913723646881852494942431460961612909110591378773933213619531863056427517940519053497121050201246692204761643323228794896935951952496388962591436258408990737939753628767240173486048510229561876915920671494197900675061654669724827022806490436948404609258129264673636509'"
      ]
     },
     "execution_count": 274,
     "metadata": {},
     "output_type": "execute_result"
    }
   ],
   "source": [
    "text_encode  =  encode(text)\n",
    "text_encode"
   ]
  },
  {
   "cell_type": "code",
   "execution_count": 275,
   "metadata": {},
   "outputs": [
    {
     "data": {
      "text/plain": [
       "'0381373107606806517027772072651211985122930155169888895978714100864622358020161820989144873317204712'"
      ]
     },
     "execution_count": 275,
     "metadata": {},
     "output_type": "execute_result"
    }
   ],
   "source": [
    "text_encode[:100]"
   ]
  },
  {
   "cell_type": "code",
   "execution_count": 276,
   "metadata": {},
   "outputs": [
    {
     "data": {
      "text/plain": [
       "40001"
      ]
     },
     "execution_count": 276,
     "metadata": {},
     "output_type": "execute_result"
    }
   ],
   "source": [
    "len(text_encode)"
   ]
  },
  {
   "cell_type": "code",
   "execution_count": 277,
   "metadata": {},
   "outputs": [
    {
     "data": {
      "text/plain": [
       "0.04001956908005314"
      ]
     },
     "execution_count": 277,
     "metadata": {},
     "output_type": "execute_result"
    }
   ],
   "source": [
    "len(text_encode)/len(text) # 圧縮率96% "
   ]
  },
  {
   "cell_type": "markdown",
   "metadata": {},
   "source": [
    "解凍作業"
   ]
  },
  {
   "cell_type": "code",
   "execution_count": 280,
   "metadata": {},
   "outputs": [
    {
     "data": {
      "text/plain": [
       "'0381373107'"
      ]
     },
     "execution_count": 280,
     "metadata": {},
     "output_type": "execute_result"
    }
   ],
   "source": [
    "\n",
    "text_encode[:10]\n",
    "text_en = text_encode[:10]\n",
    "text_en"
   ]
  },
  {
   "cell_type": "code",
   "execution_count": 272,
   "metadata": {},
   "outputs": [
    {
     "data": {
      "text/plain": [
       "'0'"
      ]
     },
     "execution_count": 272,
     "metadata": {},
     "output_type": "execute_result"
    }
   ],
   "source": [
    "head = text_encode[0]\n",
    "head"
   ]
  },
  {
   "cell_type": "code",
   "execution_count": 254,
   "metadata": {},
   "outputs": [],
   "source": [
    "# with open('input.txt','r') as f:\n",
    "#     text = f.read()"
   ]
  },
  {
   "cell_type": "code",
   "execution_count": 269,
   "metadata": {},
   "outputs": [],
   "source": [
    "samp =  text[:1000]"
   ]
  },
  {
   "cell_type": "code",
   "execution_count": 270,
   "metadata": {},
   "outputs": [
    {
     "data": {
      "text/plain": [
       "'0000000000000000000000000000000000000011111111111110000000000000000000000000000000000000000000000000000000000000000000000000111111111100000000000000000000000000000000000000000000000000000000000000000000000000001111110000000000000000000000000000000000000000000000000000000000000000000000000000000011111111111111111111111111111111111111111111111111111111111111111000000000000000001100000000000000000000000000000000000000000000000000000000000000000000000000000111111111111111111111111111111111111111111111111111111111111111111111111000000011111111111111111111111111000000000000000000000000000000000000000000000000000111111111111111111111000000000000000000011111111111111111111111111111111111111111111111111111111111111111111111111111111111110000000000001111111111111111111111111111100000000000000000000000000000011111111111111100000000000000000000000000000000000000000000000000011111111111111111111111111111111111111111111111111111111111111111111100000000000000000000000000000000000000000000000000000000'"
      ]
     },
     "execution_count": 270,
     "metadata": {},
     "output_type": "execute_result"
    }
   ],
   "source": [
    "samp"
   ]
  },
  {
   "cell_type": "markdown",
   "metadata": {},
   "source": [
    "1桁なら06などのように0が先頭に入る。<br>\n",
    "2桁なら38などのように数字。<br>\n",
    "3桁の0,1数字があることを考慮しない。<br>\n"
   ]
  },
  {
   "cell_type": "code",
   "execution_count": 384,
   "metadata": {},
   "outputs": [],
   "source": [
    "def decode(text_encoded): \n",
    "    _head = text_encoded[0]\n",
    "    text_en =  text_encoded[1:]# 偶数個\n",
    "    head =  _head\n",
    "    counts = []\n",
    "    text_enit = iter(text_en)\n",
    "    count = 0\n",
    "    length = len(text_en)/2 # 2個ずつ持ってくるから\n",
    "    while length > 0:\n",
    "        for ch1,ch2 in zip(text_enit,text_enit):\n",
    "        # # 2文字づつ持ってくる。\n",
    "            if int(ch1+ch2) < 10:\n",
    "                for c in range(int(ch2)): \n",
    "                    counts.append(head) #　forではなく普通に掛け算した方が高速?\n",
    "            else:\n",
    "                for c in range(int(ch1+ch2)):\n",
    "                    counts.append(head)\n",
    "            head = str(1-int(head))     \n",
    "        length -= 1\n",
    "    result =  ''.join(counts)\n",
    "    return result\n",
    "    "
   ]
  },
  {
   "cell_type": "code",
   "execution_count": 372,
   "metadata": {},
   "outputs": [
    {
     "data": {
      "text/plain": [
       "'0000000000000000000000000000000000000011111111111110000000000000000000000000000000000000000000000000'"
      ]
     },
     "execution_count": 372,
     "metadata": {},
     "output_type": "execute_result"
    }
   ],
   "source": [
    "decode(text_encode)[:100]\n",
    "# text_encode"
   ]
  },
  {
   "cell_type": "code",
   "execution_count": 266,
   "metadata": {},
   "outputs": [
    {
     "name": "stdout",
     "output_type": "stream",
     "text": [
      "0 + 0 = 0\n",
      "1 + 1 = 2\n",
      "2 + 2 = 4\n",
      "3 + 3 = 6\n",
      "4 + 4 = 8\n",
      "5 + 5 = 10\n",
      "6 + 6 = 12\n",
      "7 + 7 = 14\n",
      "8 + 8 = 16\n",
      "9 + 9 = 18\n"
     ]
    }
   ],
   "source": [
    "it = range(10)\n",
    "for a, b in zip(it, it):\n",
    "    print('{} + {} = {}'.format(a, b, a + b))"
   ]
  },
  {
   "cell_type": "code",
   "execution_count": 267,
   "metadata": {},
   "outputs": [
    {
     "name": "stdout",
     "output_type": "stream",
     "text": [
      "0 + 1 = 1\n",
      "2 + 3 = 5\n",
      "4 + 5 = 9\n",
      "6 + 7 = 13\n",
      "8 + 9 = 17\n"
     ]
    }
   ],
   "source": [
    "it = range(10)\n",
    "itit = iter(it)\n",
    "for a, b in zip(itit, itit):\n",
    "    print('{} + {} = {}'.format(a, b, a + b))"
   ]
  },
  {
   "cell_type": "code",
   "execution_count": 333,
   "metadata": {},
   "outputs": [
    {
     "ename": "TypeError",
     "evalue": "unsupported operand type(s) for -: 'str' and 'str'",
     "output_type": "error",
     "traceback": [
      "\u001b[0;31m---------------------------------------------------------------------------\u001b[0m",
      "\u001b[0;31mTypeError\u001b[0m                                 Traceback (most recent call last)",
      "\u001b[0;32m<ipython-input-333-c5649de3e752>\u001b[0m in \u001b[0;36m<module>\u001b[0;34m\u001b[0m\n\u001b[1;32m      1\u001b[0m \u001b[0;31m# for i in '38':\u001b[0m\u001b[0;34m\u001b[0m\u001b[0;34m\u001b[0m\u001b[0;34m\u001b[0m\u001b[0m\n\u001b[0;32m----> 2\u001b[0;31m \u001b[0;34m'a'\u001b[0m\u001b[0;34m-\u001b[0m\u001b[0;34m'a'\u001b[0m\u001b[0;34m\u001b[0m\u001b[0;34m\u001b[0m\u001b[0m\n\u001b[0m",
      "\u001b[0;31mTypeError\u001b[0m: unsupported operand type(s) for -: 'str' and 'str'"
     ]
    }
   ],
   "source": [
    "# for i in '38':\n",
    "'a'-'a'"
   ]
  },
  {
   "cell_type": "markdown",
   "metadata": {},
   "source": [
    "**encodeのアルゴリズム**<br>\n",
    "先頭(head)と本文(body)に分ける。<br>\n",
    "bodyをに文字に分割→'06','12'<br>\n",
    "文字列を整数に変換→'06'→6<br>\n",
    "headの文字から交互にカウント分だけ文字列を足し合わせる。<br>"
   ]
  },
  {
   "cell_type": "code",
   "execution_count": 381,
   "metadata": {},
   "outputs": [
    {
     "name": "stdout",
     "output_type": "stream",
     "text": [
      "38\n",
      "13\n"
     ]
    }
   ],
   "source": [
    "body =  text_encode[1:5]\n",
    "body\n",
    "for i in range( 0,len(body),2): # 2こ飛ばしづつ。\n",
    "    print(body[i:i+2]) # これで2個ずつだす"
   ]
  },
  {
   "cell_type": "code",
   "execution_count": 382,
   "metadata": {},
   "outputs": [
    {
     "data": {
      "text/plain": [
       "'000000'"
      ]
     },
     "execution_count": 382,
     "metadata": {},
     "output_type": "execute_result"
    }
   ],
   "source": [
    "'0' * 6"
   ]
  },
  {
   "cell_type": "code",
   "execution_count": 383,
   "metadata": {},
   "outputs": [
    {
     "data": {
      "text/plain": [
       "'111111111111'"
      ]
     },
     "execution_count": 383,
     "metadata": {},
     "output_type": "execute_result"
    }
   ],
   "source": [
    "'1' * 12"
   ]
  },
  {
   "cell_type": "code",
   "execution_count": 385,
   "metadata": {},
   "outputs": [],
   "source": [
    "def decode(text_encode):\n",
    "    head =  text_encode[0]\n",
    "    body = text_encode[1:]\n",
    "\n",
    "    text_decode = ''\n",
    "\n",
    "    for i in range(0,len(body),2):\n",
    "        num = int( body[i:i+2])\n",
    "        text_decode += head * num\n",
    "        # 文字列を交互に\n",
    "        if head == '0':\n",
    "            head = '1'\n",
    "        else:\n",
    "            head = '0'\n",
    "        return text_decode\n"
   ]
  },
  {
   "cell_type": "markdown",
   "metadata": {},
   "source": [
    "コード改善"
   ]
  },
  {
   "cell_type": "code",
   "execution_count": 389,
   "metadata": {},
   "outputs": [],
   "source": [
    "def decode(text_encoded): \n",
    "#     _head = text_encoded[0]\n",
    "    head = text_encoded[0]\n",
    "    text_en =  text_encoded[1:]# 偶数個\n",
    "#     head =  _head\n",
    "#     counts = []\n",
    "    text_enit = iter(text_en)\n",
    "    count = 0\n",
    "    result = ''\n",
    "    length = len(text_en)/2 # 2個ずつ持ってくるから\n",
    "    while length > 0:\n",
    "        for ch1,ch2 in zip(text_enit,text_enit):\n",
    "        # # 2文字づつ持ってくる。\n",
    "#             if int(ch1+ch2) < 10:\n",
    "#                 for c in range(int(ch2)): \n",
    "#                     counts.append(head) #　forではなく普通に掛け算した方が高速?\n",
    "#             else:\n",
    "#                 for c in range(int(ch1+ch2)):\n",
    "#                     counts.append(head)\n",
    "            num =  int(ch1+ch2) # かける数として使う\n",
    "            result += head * num\n",
    "            head = str(1-int(head))     \n",
    "        length -= 1\n",
    "#     result =  ''.join(counts)\n",
    "    return result"
   ]
  },
  {
   "cell_type": "code",
   "execution_count": 390,
   "metadata": {},
   "outputs": [
    {
     "data": {
      "text/plain": [
       "' aaaaaaaaaaaaaaa'"
      ]
     },
     "execution_count": 390,
     "metadata": {},
     "output_type": "execute_result"
    }
   ],
   "source": []
  },
  {
   "cell_type": "code",
   "execution_count": null,
   "metadata": {},
   "outputs": [],
   "source": []
  }
 ],
 "metadata": {
  "kernelspec": {
   "display_name": "Python 3",
   "language": "python",
   "name": "python3"
  },
  "language_info": {
   "codemirror_mode": {
    "name": "ipython",
    "version": 3
   },
   "file_extension": ".py",
   "mimetype": "text/x-python",
   "name": "python",
   "nbconvert_exporter": "python",
   "pygments_lexer": "ipython3",
   "version": "3.7.2"
  }
 },
 "nbformat": 4,
 "nbformat_minor": 2
}
