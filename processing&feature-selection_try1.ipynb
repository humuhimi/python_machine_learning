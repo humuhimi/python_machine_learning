{
 "cells": [
  {
   "cell_type": "code",
   "execution_count": 159,
   "metadata": {},
   "outputs": [],
   "source": [
    "%matplotlib inline\n",
    "from matplotlib import rcParams\n",
    "rcParams.update({'xtick.color':'w','ytick.color':'w','axes.labelcolor':'gold'})\n",
    "import japanize_matplotlib\n",
    "import matplotlib.pyplot as plt\n",
    "import numpy as np\n",
    "import pandas as pd\n",
    "import warnings\n",
    "warnings.filterwarnings('ignore')"
   ]
  },
  {
   "cell_type": "code",
   "execution_count": 6,
   "metadata": {},
   "outputs": [],
   "source": [
    "dame =  pd.read_csv('2D_example_dame.csv',header=None)"
   ]
  },
  {
   "cell_type": "code",
   "execution_count": 85,
   "metadata": {},
   "outputs": [],
   "source": [
    "dame.head()\n",
    "dame.dropna()\n",
    "X1_median = dame[1].median()\n",
    "X2_median = dame[2].median()\n",
    "dame =  pd.read_csv('2D_example_dame.csv',header=None)"
   ]
  },
  {
   "cell_type": "code",
   "execution_count": 73,
   "metadata": {},
   "outputs": [],
   "source": [
    "y =  dame[0].values"
   ]
  },
  {
   "cell_type": "code",
   "execution_count": 74,
   "metadata": {},
   "outputs": [
    {
     "data": {
      "text/plain": [
       "(20,)"
      ]
     },
     "execution_count": 74,
     "metadata": {},
     "output_type": "execute_result"
    }
   ],
   "source": [
    "y.shape"
   ]
  },
  {
   "cell_type": "code",
   "execution_count": 115,
   "metadata": {},
   "outputs": [],
   "source": [
    "X =  dame.iloc[:,1:].values"
   ]
  },
  {
   "cell_type": "code",
   "execution_count": 96,
   "metadata": {},
   "outputs": [
    {
     "data": {
      "text/plain": [
       "array([False, False, False, False, False, False, False, False, False,\n",
       "       False, False, False, False, False, False, False, False, False,\n",
       "        True, False])"
      ]
     },
     "execution_count": 96,
     "metadata": {},
     "output_type": "execute_result"
    }
   ],
   "source": [
    "np.isnan(X[:,0])"
   ]
  },
  {
   "cell_type": "code",
   "execution_count": 98,
   "metadata": {},
   "outputs": [
    {
     "data": {
      "text/plain": [
       "array([-7.428476e+00,  2.980693e+00,  3.988255e+00, -5.789437e+00,\n",
       "       -4.894447e+00, -1.933949e+00, -1.611771e+00, -6.670152e+00,\n",
       "       -2.931415e+02, -7.476200e-02, -2.691793e+00,  4.611820e-01,\n",
       "       -1.354135e+00, -6.229476e+00,  2.778594e+00, -5.719578e+00,\n",
       "        9.283220e-01,  8.504750e-01, -1.611771e+00,  1.116025e+00])"
      ]
     },
     "execution_count": 98,
     "metadata": {},
     "output_type": "execute_result"
    }
   ],
   "source": [
    "X[:,0][np.isnan(X[:,0])] = X1_median # X０にするべきやった。\n",
    "X[:,0]"
   ]
  },
  {
   "cell_type": "code",
   "execution_count": 99,
   "metadata": {},
   "outputs": [
    {
     "data": {
      "text/plain": [
       "array([ 1.509903e+00,  1.960821e+00,  4.636389e+00, -4.621614e+00,\n",
       "       -3.269730e+02, -4.727600e-02,  5.932201e+00, -1.036282e+00,\n",
       "       -1.044750e-01,  1.070002e+00,  4.168774e+00,  3.453438e+00,\n",
       "        3.751657e+00, -1.209434e+00,  1.509903e+00, -2.435090e-01,\n",
       "        3.208520e+00,  2.908955e+00, -1.831199e+00,  3.353602e+00])"
      ]
     },
     "execution_count": 99,
     "metadata": {},
     "output_type": "execute_result"
    }
   ],
   "source": [
    "X[:,1][np.isnan(X[:,1])] = X2_median # X1にするべきやったな。\n",
    "X[:,1]"
   ]
  },
  {
   "cell_type": "code",
   "execution_count": 100,
   "metadata": {},
   "outputs": [
    {
     "name": "stdout",
     "output_type": "stream",
     "text": [
      "データの大きさにグラフを合わせる\n"
     ]
    },
    {
     "data": {
      "image/png": "[encoded data removed]",
      "text/plain": [
       "<Figure size 432x288 with 1 Axes>"
      ]
     },
     "metadata": {
      "needs_background": "dark"
     },
     "output_type": "display_data"
    }
   ],
   "source": [
    "plt.scatter(X[:,0],X[:,1],c=y,s=50)\n",
    "print('データの大きさにグラフを合わせる')"
   ]
  },
  {
   "cell_type": "code",
   "execution_count": 102,
   "metadata": {},
   "outputs": [
    {
     "data": {
      "text/plain": [
       "(-10, 10)"
      ]
     },
     "execution_count": 102,
     "metadata": {},
     "output_type": "execute_result"
    },
    {
     "data": {
      "image/png": "[encoded data removed]",
      "text/plain": [
       "<Figure size 432x288 with 1 Axes>"
      ]
     },
     "metadata": {
      "needs_background": "dark"
     },
     "output_type": "display_data"
    }
   ],
   "source": [
    "plt.scatter(X[:,0],X[:,1],c=y,s=50)\n",
    "plt.xlim(-10,10)\n",
    "plt.ylim(-10,10)"
   ]
  },
  {
   "cell_type": "code",
   "execution_count": 109,
   "metadata": {},
   "outputs": [
    {
     "data": {
      "text/plain": [
       "(array([[-7.428476,  1.509903],\n",
       "        [ 2.980693,  1.960821],\n",
       "        [ 3.988255,  4.636389],\n",
       "        [-5.789437, -4.621614],\n",
       "        [-1.933949, -0.047276],\n",
       "        [-1.611771,  5.932201],\n",
       "        [-6.670152, -1.036282],\n",
       "        [-0.074762,  1.070002],\n",
       "        [-2.691793,  4.168774],\n",
       "        [ 0.461182,  3.453438],\n",
       "        [-1.354135,  3.751657],\n",
       "        [-6.229476, -1.209434],\n",
       "        [ 2.778594,  1.509903],\n",
       "        [-5.719578, -0.243509],\n",
       "        [ 0.928322,  3.20852 ],\n",
       "        [ 0.850475,  2.908955],\n",
       "        [-1.611771, -1.831199],\n",
       "        [ 1.116025,  3.353602]]), (18, 2))"
      ]
     },
     "execution_count": 109,
     "metadata": {},
     "output_type": "execute_result"
    }
   ],
   "source": [
    "# 外れ値をなくす。\n",
    "X2 =  X[(abs(X[:,0]) < 10) & (abs(X[:,1]) < 10)]\n",
    "y2 =  y[(abs(X[:,0]) < 10) & (abs(X[:,1]) < 10)] # yで対応した部分を削除する\n",
    "X2,X2.shape"
   ]
  },
  {
   "cell_type": "code",
   "execution_count": 111,
   "metadata": {},
   "outputs": [
    {
     "data": {
      "image/png": "[encoded data removed]",
      "text/plain": [
       "<Figure size 432x288 with 1 Axes>"
      ]
     },
     "metadata": {
      "needs_background": "dark"
     },
     "output_type": "display_data"
    }
   ],
   "source": [
    "plt.scatter(X2[:, 0], X2[:, 1], c=y2, s=50); # 色分けcはy2に合わせる"
   ]
  },
  {
   "cell_type": "markdown",
   "metadata": {},
   "source": [
    "nanを埋める方法"
   ]
  },
  {
   "cell_type": "code",
   "execution_count": 112,
   "metadata": {},
   "outputs": [],
   "source": [
    "from sklearn.preprocessing import Imputer"
   ]
  },
  {
   "cell_type": "code",
   "execution_count": 119,
   "metadata": {},
   "outputs": [],
   "source": [
    "miss_v_mean =  Imputer() # defaltは平均"
   ]
  },
  {
   "cell_type": "code",
   "execution_count": 117,
   "metadata": {},
   "outputs": [
    {
     "data": {
      "text/plain": [
       "Imputer(axis=0, copy=True, missing_values='NaN', strategy='mean', verbose=0)"
      ]
     },
     "execution_count": 117,
     "metadata": {},
     "output_type": "execute_result"
    }
   ],
   "source": [
    "X\n",
    "miss_v_mean.fit(X) # 平均で学習"
   ]
  },
  {
   "cell_type": "code",
   "execution_count": 118,
   "metadata": {},
   "outputs": [],
   "source": [
    "X_new_mean =  miss_v_mean.transform(X) # 平均を埋める"
   ]
  },
  {
   "cell_type": "code",
   "execution_count": 121,
   "metadata": {},
   "outputs": [],
   "source": [
    "miss_v_median = Imputer(strategy='median')"
   ]
  },
  {
   "cell_type": "code",
   "execution_count": 124,
   "metadata": {},
   "outputs": [
    {
     "data": {
      "text/plain": [
       "Imputer(axis=0, copy=True, missing_values='NaN', strategy='median', verbose=0)"
      ]
     },
     "execution_count": 124,
     "metadata": {},
     "output_type": "execute_result"
    }
   ],
   "source": [
    "X\n",
    "miss_v_median.fit(X) # 中央値で学習"
   ]
  },
  {
   "cell_type": "code",
   "execution_count": 126,
   "metadata": {},
   "outputs": [
    {
     "data": {
      "text/plain": [
       "array([[-7.428476e+00,  1.509903e+00],\n",
       "       [ 2.980693e+00,  1.960821e+00],\n",
       "       [ 3.988255e+00,  4.636389e+00],\n",
       "       [-5.789437e+00, -4.621614e+00],\n",
       "       [-4.894447e+00, -3.269730e+02],\n",
       "       [-1.933949e+00, -4.727600e-02],\n",
       "       [-1.611771e+00,  5.932201e+00],\n",
       "       [-6.670152e+00, -1.036282e+00],\n",
       "       [-2.931415e+02, -1.044750e-01],\n",
       "       [-7.476200e-02,  1.070002e+00],\n",
       "       [-2.691793e+00,  4.168774e+00],\n",
       "       [ 4.611820e-01,  3.453438e+00],\n",
       "       [-1.354135e+00,  3.751657e+00],\n",
       "       [-6.229476e+00, -1.209434e+00],\n",
       "       [ 2.778594e+00,  1.509903e+00],\n",
       "       [-5.719578e+00, -2.435090e-01],\n",
       "       [ 9.283220e-01,  3.208520e+00],\n",
       "       [ 8.504750e-01,  2.908955e+00],\n",
       "       [-1.611771e+00, -1.831199e+00],\n",
       "       [ 1.116025e+00,  3.353602e+00]])"
      ]
     },
     "execution_count": 126,
     "metadata": {},
     "output_type": "execute_result"
    }
   ],
   "source": [
    "X_new_median = miss_v_median.transform(X)\n",
    "X_new_median\n"
   ]
  },
  {
   "cell_type": "code",
   "execution_count": 128,
   "metadata": {},
   "outputs": [
    {
     "data": {
      "text/plain": [
       "(-10, 10)"
      ]
     },
     "execution_count": 128,
     "metadata": {},
     "output_type": "execute_result"
    },
    {
     "data": {
      "image/png": "[encoded data removed]",
      "text/plain": [
       "<Figure size 432x288 with 1 Axes>"
      ]
     },
     "metadata": {
      "needs_background": "dark"
     },
     "output_type": "display_data"
    }
   ],
   "source": [
    "\n",
    "plt.scatter(X_new[:, 0], X_new[:, 1], c=y, s=50); # 2次元散布図でプロット\n",
    "plt.scatter(X_new_median[:, 0], X_new_median[:, 1], c=y, s=50); # 2次元散布図でプロット\n",
    "plt.xlim(-10,10)\n",
    "plt.ylim(-10,10)"
   ]
  },
  {
   "cell_type": "code",
   "execution_count": 129,
   "metadata": {},
   "outputs": [],
   "source": [
    "import numpy as np\n",
    "\n",
    "from sklearn.datasets import load_breast_cancer\n",
    "\n",
    "data = load_breast_cancer()\n",
    "\n",
    "X = data.data\n",
    "y = data.target"
   ]
  },
  {
   "cell_type": "code",
   "execution_count": 140,
   "metadata": {},
   "outputs": [],
   "source": [
    "from sklearn.model_selection import ShuffleSplit\n",
    "ss = ShuffleSplit(n_splits=1, \n",
    "                  train_size=0.8, \n",
    "                  test_size=0.2, \n",
    "                  random_state=0)\n",
    "\n",
    "train_index, test_index = next(ss.split(X, y))\n",
    "\n",
    "X_train, X_test = X[train_index], X[test_index]\n",
    "y_train, y_test = y[train_index], y[test_index]"
   ]
  },
  {
   "cell_type": "code",
   "execution_count": 141,
   "metadata": {},
   "outputs": [
    {
     "data": {
      "text/plain": [
       "array(['mean radius', 'mean texture', 'mean perimeter', 'mean area',\n",
       "       'mean smoothness', 'mean compactness', 'mean concavity',\n",
       "       'mean concave points', 'mean symmetry', 'mean fractal dimension',\n",
       "       'radius error', 'texture error', 'perimeter error', 'area error',\n",
       "       'smoothness error', 'compactness error', 'concavity error',\n",
       "       'concave points error', 'symmetry error',\n",
       "       'fractal dimension error', 'worst radius', 'worst texture',\n",
       "       'worst perimeter', 'worst area', 'worst smoothness',\n",
       "       'worst compactness', 'worst concavity', 'worst concave points',\n",
       "       'worst symmetry', 'worst fractal dimension'], dtype='<U23')"
      ]
     },
     "execution_count": 141,
     "metadata": {},
     "output_type": "execute_result"
    }
   ],
   "source": [
    "data.feature_names"
   ]
  },
  {
   "cell_type": "code",
   "execution_count": 142,
   "metadata": {},
   "outputs": [],
   "source": [
    "from sklearn.feature_selection import SelectKBest # ベストな特徴量を撰択してくれる。\n",
    "from sklearn.feature_selection import chi2"
   ]
  },
  {
   "cell_type": "code",
   "execution_count": 143,
   "metadata": {},
   "outputs": [],
   "source": [
    "skb = SelectKBest(chi2,k=20)"
   ]
  },
  {
   "cell_type": "code",
   "execution_count": 145,
   "metadata": {},
   "outputs": [
    {
     "data": {
      "text/plain": [
       "SelectKBest(k=20, score_func=<function chi2 at 0x1a22158e18>)"
      ]
     },
     "execution_count": 145,
     "metadata": {},
     "output_type": "execute_result"
    }
   ],
   "source": [
    "skb.fit(X_train,y_train)"
   ]
  },
  {
   "cell_type": "code",
   "execution_count": 146,
   "metadata": {},
   "outputs": [],
   "source": [
    "X_train_new =  skb.transform(X_train)"
   ]
  },
  {
   "cell_type": "code",
   "execution_count": 148,
   "metadata": {},
   "outputs": [
    {
     "data": {
      "text/plain": [
       "((455, 20), (455, 30))"
      ]
     },
     "execution_count": 148,
     "metadata": {},
     "output_type": "execute_result"
    }
   ],
   "source": [
    "X_train_new.shape,X_train.shape"
   ]
  },
  {
   "cell_type": "code",
   "execution_count": 152,
   "metadata": {},
   "outputs": [
    {
     "data": {
      "text/plain": [
       "array([ True,  True,  True,  True, False,  True,  True,  True, False,\n",
       "       False,  True, False,  True,  True, False,  True,  True, False,\n",
       "       False, False,  True,  True,  True,  True, False,  True,  True,\n",
       "        True,  True, False])"
      ]
     },
     "execution_count": 152,
     "metadata": {},
     "output_type": "execute_result"
    }
   ],
   "source": [
    "skb.get_support() # 使われた次元を表示 ture of false"
   ]
  },
  {
   "cell_type": "code",
   "execution_count": 150,
   "metadata": {},
   "outputs": [
    {
     "data": {
      "text/plain": [
       "array(['mean radius', 'mean texture', 'mean perimeter', 'mean area',\n",
       "       'mean compactness', 'mean concavity', 'mean concave points',\n",
       "       'radius error', 'perimeter error', 'area error',\n",
       "       'compactness error', 'concavity error', 'worst radius',\n",
       "       'worst texture', 'worst perimeter', 'worst area',\n",
       "       'worst compactness', 'worst concavity', 'worst concave points',\n",
       "       'worst symmetry'], dtype='<U23')"
      ]
     },
     "execution_count": 150,
     "metadata": {},
     "output_type": "execute_result"
    }
   ],
   "source": [
    "data.feature_names[skb.get_support()]"
   ]
  },
  {
   "cell_type": "code",
   "execution_count": 161,
   "metadata": {},
   "outputs": [
    {
     "data": {
      "text/plain": [
       "array([], dtype='<U23')"
      ]
     },
     "execution_count": 161,
     "metadata": {},
     "output_type": "execute_result"
    }
   ],
   "source": [
    "data.feature_names[~skb.get_support()] # 必要ないと見なされた特徴量"
   ]
  },
  {
   "cell_type": "code",
   "execution_count": 155,
   "metadata": {},
   "outputs": [],
   "source": [
    "from sklearn import linear_model\n",
    "clf = linear_model.LogisticRegression()"
   ]
  },
  {
   "cell_type": "code",
   "execution_count": 160,
   "metadata": {},
   "outputs": [],
   "source": [
    "from sklearn.model_selection import StratifiedKFold\n",
    "\n",
    "k_range = np.arange(1, 31)\n",
    "scores = []\n",
    "std = []\n",
    "\n",
    "for k in k_range:\n",
    "    ss = StratifiedKFold( n_splits=10,shuffle=True,random_state=2)\n",
    "    score = []\n",
    "    \n",
    "    for train_index,val_index in ss.split(X_train,y_train):\n",
    "        X_train2, X_val = X[train_index], X[val_index]\n",
    "        y_train2, y_val = y[train_index], y[val_index]\n",
    "        skb =  SelectKBest(chi2,k=k)\n",
    "        skb.fit(X_train2,y_train2)\n",
    "        \n",
    "        X_new_train2 =  skb.transform(X_train2)\n",
    "        X_new_val = skb.transform(X_val)\n",
    "        \n",
    "        clf.fit( X_new_train2,y_train2)\n",
    "        score.append(clf.score(X_new_val,y_val))\n",
    "    scores.append( np.array(score).mean())\n",
    "    std.append(np.array(score).std())\n",
    "scores =  np.array( scores)\n",
    "std =  np.array(std)"
   ]
  },
  {
   "cell_type": "code",
   "execution_count": 164,
   "metadata": {},
   "outputs": [
    {
     "data": {
      "text/plain": [
       "(array([ 1,  2,  3,  4,  5,  6,  7,  8,  9, 10, 11, 12, 13, 14, 15, 16, 17,\n",
       "        18, 19, 20, 21, 22, 23, 24, 25, 26, 27, 28, 29, 30]),\n",
       " array([0.90777778, 0.93198068, 0.9231401 , 0.91879227, 0.9342029 ,\n",
       "        0.9384058 , 0.94280193, 0.94497585, 0.95164251, 0.95830918,\n",
       "        0.95613527, 0.95613527, 0.95826087, 0.95391304, 0.95391304,\n",
       "        0.95391304, 0.95391304, 0.95608696, 0.95608696, 0.95391304,\n",
       "        0.95608696, 0.95608696, 0.95391304, 0.95608696, 0.95608696,\n",
       "        0.962657  , 0.962657  , 0.962657  , 0.962657  , 0.962657  ]),\n",
       " array([0.03645756, 0.03152765, 0.03557829, 0.03659174, 0.03381146,\n",
       "        0.02589953, 0.02843536, 0.02856985, 0.02923999, 0.03034113,\n",
       "        0.03115908, 0.03115908, 0.03183073, 0.02864225, 0.02864225,\n",
       "        0.02864225, 0.02864225, 0.02956778, 0.02792375, 0.02864225,\n",
       "        0.02792375, 0.02792375, 0.02864225, 0.02956778, 0.02792375,\n",
       "        0.03278984, 0.03278984, 0.03278984, 0.03278984, 0.03278984]))"
      ]
     },
     "execution_count": 164,
     "metadata": {},
     "output_type": "execute_result"
    }
   ],
   "source": [
    "k_range,scores,std"
   ]
  },
  {
   "cell_type": "code",
   "execution_count": 165,
   "metadata": {},
   "outputs": [
    {
     "data": {
      "text/plain": [
       "Text(0, 0.5, 'score')"
      ]
     },
     "execution_count": 165,
     "metadata": {},
     "output_type": "execute_result"
    },
    {
     "data": {
      "image/png": "[encoded data removed]",
      "text/plain": [
       "<Figure size 432x288 with 1 Axes>"
      ]
     },
     "metadata": {
      "needs_background": "dark"
     },
     "output_type": "display_data"
    }
   ],
   "source": [
    "plt.plot(k_range,scores)\n",
    "plt.errorbar(k_range,scores,yerr=std)\n",
    "plt.xlabel('range')\n",
    "plt.ylabel('score')"
   ]
  },
  {
   "cell_type": "code",
   "execution_count": 172,
   "metadata": {},
   "outputs": [
    {
     "data": {
      "text/plain": [
       "Text(0, 0.5, 'error rate')"
      ]
     },
     "execution_count": 172,
     "metadata": {},
     "output_type": "execute_result"
    },
    {
     "data": {
      "image/png": "[encoded data removed]",
      "text/plain": [
       "<Figure size 432x288 with 1 Axes>"
      ]
     },
     "metadata": {
      "needs_background": "dark"
     },
     "output_type": "display_data"
    }
   ],
   "source": [
    "plt.bar(k_range,1-scores,yerr= [np.zeros(std.shape),std]) # 標準偏差 0~正の値まで\n",
    "plt.xlabel('range')\n",
    "plt.ylabel('error rate')"
   ]
  },
  {
   "cell_type": "code",
   "execution_count": 168,
   "metadata": {},
   "outputs": [
    {
     "data": {
      "text/plain": [
       "[array([0., 0., 0., 0., 0., 0., 0., 0., 0., 0., 0., 0., 0., 0., 0., 0., 0.,\n",
       "        0., 0., 0., 0., 0., 0., 0., 0., 0., 0., 0., 0., 0.]),\n",
       " array([0.03645756, 0.03152765, 0.03557829, 0.03659174, 0.03381146,\n",
       "        0.02589953, 0.02843536, 0.02856985, 0.02923999, 0.03034113,\n",
       "        0.03115908, 0.03115908, 0.03183073, 0.02864225, 0.02864225,\n",
       "        0.02864225, 0.02864225, 0.02956778, 0.02792375, 0.02864225,\n",
       "        0.02792375, 0.02792375, 0.02864225, 0.02956778, 0.02792375,\n",
       "        0.03278984, 0.03278984, 0.03278984, 0.03278984, 0.03278984])]"
      ]
     },
     "execution_count": 168,
     "metadata": {},
     "output_type": "execute_result"
    }
   ],
   "source": [
    "[np.zeros(std.shape),std]"
   ]
  },
  {
   "cell_type": "code",
   "execution_count": 174,
   "metadata": {},
   "outputs": [
    {
     "data": {
      "text/plain": [
       "26"
      ]
     },
     "execution_count": 174,
     "metadata": {},
     "output_type": "execute_result"
    }
   ],
   "source": [
    "best_k =  k_range[np.argmax(scores)] # 一番スコアのいい値を取り出す。\n",
    "best_k"
   ]
  },
  {
   "cell_type": "code",
   "execution_count": 176,
   "metadata": {},
   "outputs": [
    {
     "data": {
      "text/plain": [
       "SelectKBest(k=26, score_func=<function chi2 at 0x1a22158e18>)"
      ]
     },
     "execution_count": 176,
     "metadata": {},
     "output_type": "execute_result"
    }
   ],
   "source": [
    "skb = SelectKBest(chi2,k=best_k)\n",
    "skb.fit(X_train,y_train)"
   ]
  },
  {
   "cell_type": "code",
   "execution_count": 177,
   "metadata": {},
   "outputs": [
    {
     "data": {
      "text/plain": [
       "0.956140350877193"
      ]
     },
     "execution_count": 177,
     "metadata": {},
     "output_type": "execute_result"
    }
   ],
   "source": [
    "X_train_best = skb.transform(X_train)\n",
    "X_test_best  = skb.transform(X_test)\n",
    "clf.fit(X_train_best, y_train)\n",
    "clf.score(X_test_best, y_test)\n",
    "clf.fit(X_train, y_train);\n",
    "clf.score(X_test, y_test)"
   ]
  },
  {
   "cell_type": "code",
   "execution_count": null,
   "metadata": {},
   "outputs": [],
   "source": []
  }
 ],
 "metadata": {
  "kernelspec": {
   "display_name": "Python 3",
   "language": "python",
   "name": "python3"
  },
  "language_info": {
   "codemirror_mode": {
    "name": "ipython",
    "version": 3
   },
   "file_extension": ".py",
   "mimetype": "text/x-python",
   "name": "python",
   "nbconvert_exporter": "python",
   "pygments_lexer": "ipython3",
   "version": "3.7.2"
  }
 },
 "nbformat": 4,
 "nbformat_minor": 2
}
