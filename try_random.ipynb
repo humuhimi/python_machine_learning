{
 "cells": [
  {
   "cell_type": "code",
   "execution_count": 2,
   "metadata": {},
   "outputs": [],
   "source": [
    "%matplotlib inline\n",
    "from matplotlib import rcParams\n",
    "rcParams.update({'xtick.color':'w','ytick.color':'w','axes.labelcolor':'gold'})\n",
    "import japanize_matplotlib\n",
    "import matplotlib.pyplot as plt"
   ]
  },
  {
   "cell_type": "code",
   "execution_count": 3,
   "metadata": {},
   "outputs": [],
   "source": [
    "import numpy as np\n",
    "import pandas as pd"
   ]
  },
  {
   "cell_type": "code",
   "execution_count": 4,
   "metadata": {},
   "outputs": [
    {
     "data": {
      "text/plain": [
       "0.3192422413909034"
      ]
     },
     "execution_count": 4,
     "metadata": {},
     "output_type": "execute_result"
    }
   ],
   "source": [
    "np.random.rand() # 0-1"
   ]
  },
  {
   "cell_type": "code",
   "execution_count": 24,
   "metadata": {},
   "outputs": [
    {
     "data": {
      "text/plain": [
       "array([[4, 7, 1],\n",
       "       [5, 7, 5],\n",
       "       [6, 3, 4]])"
      ]
     },
     "execution_count": 24,
     "metadata": {},
     "output_type": "execute_result"
    }
   ],
   "source": [
    "np.random.randint(1,10,(3,3)) # 1以上10未満の3 x 3の配列の整数乱数 = 一様分布になる。"
   ]
  },
  {
   "cell_type": "code",
   "execution_count": 25,
   "metadata": {},
   "outputs": [
    {
     "data": {
      "text/plain": [
       "array([[[0.91099235, 0.02915206, 0.59097183],\n",
       "        [0.26049106, 0.2718367 , 0.19693571]],\n",
       "\n",
       "       [[0.13402601, 0.46590669, 0.36793484],\n",
       "        [0.20804472, 0.82890311, 0.41701361]],\n",
       "\n",
       "       [[0.6890752 , 0.86231895, 0.17512203],\n",
       "        [0.75041916, 0.06014705, 0.33694619]]])"
      ]
     },
     "execution_count": 25,
     "metadata": {},
     "output_type": "execute_result"
    }
   ],
   "source": [
    "np.random.random_sample((3,2,3)) # random_sampleではランダムをタプルで渡す"
   ]
  },
  {
   "cell_type": "code",
   "execution_count": 37,
   "metadata": {},
   "outputs": [
    {
     "data": {
      "text/plain": [
       "array([[ 1.62352679, -0.62802254, -0.15427519],\n",
       "       [-0.11208296,  0.92902169, -0.24330694],\n",
       "       [ 0.04661206, -0.62996575, -2.58450744]])"
      ]
     },
     "execution_count": 37,
     "metadata": {},
     "output_type": "execute_result"
    }
   ],
   "source": [
    "np.random.randn(3,3) # 平均0,標準偏差1の正規分布に従う"
   ]
  },
  {
   "cell_type": "code",
   "execution_count": 40,
   "metadata": {},
   "outputs": [
    {
     "data": {
      "text/plain": [
       "array([[4.50066698, 5.07449681, 5.42436223, 5.28064432, 4.14487857],\n",
       "       [5.74558856, 5.53157526, 5.54679409, 5.03131943, 5.69436582]])"
      ]
     },
     "execution_count": 40,
     "metadata": {},
     "output_type": "execute_result"
    }
   ],
   "source": [
    "np.random.normal(5,0.5,(2,5)) # l(loc=5　平均,scale=0.5 標準偏差,size=(2,5) 個数　の標準偏差に従う。"
   ]
  },
  {
   "cell_type": "code",
   "execution_count": 50,
   "metadata": {},
   "outputs": [
    {
     "data": {
      "text/plain": [
       "array([2, 3, 5, 2, 3, 5, 4, 6, 4, 4])"
      ]
     },
     "execution_count": 50,
     "metadata": {},
     "output_type": "execute_result"
    }
   ],
   "source": [
    "np.random.binomial(10,0.5,10) # 二項分布に従う この場合50%の確率"
   ]
  },
  {
   "cell_type": "code",
   "execution_count": 51,
   "metadata": {},
   "outputs": [
    {
     "data": {
      "text/plain": [
       "array([0.72658246, 0.45231766, 0.31355223, 0.37581091, 0.12151013,\n",
       "       0.16903544, 0.45759115, 0.83585733, 0.3063941 , 0.47251976])"
      ]
     },
     "execution_count": 51,
     "metadata": {},
     "output_type": "execute_result"
    }
   ],
   "source": [
    "np.random.beta(2,2,10) # ベータ分布"
   ]
  },
  {
   "cell_type": "code",
   "execution_count": 52,
   "metadata": {},
   "outputs": [
    {
     "data": {
      "text/plain": [
       "array([ 2.88161751,  6.30863126, 13.68375677,  3.9365275 ,  8.18950497,\n",
       "        8.27647869,  8.53474533, 13.45187185,  4.17777773,  8.43878213])"
      ]
     },
     "execution_count": 52,
     "metadata": {},
     "output_type": "execute_result"
    }
   ],
   "source": [
    "np.random.gamma(5,1,10) # ガンマ分布"
   ]
  },
  {
   "cell_type": "code",
   "execution_count": 54,
   "metadata": {},
   "outputs": [
    {
     "data": {
      "text/plain": [
       "array([2.07877761, 1.24667131, 6.20961231, 5.04386008, 1.61937649,\n",
       "       1.5748897 , 2.99804015, 4.30872256, 4.82962217, 2.81974555])"
      ]
     },
     "execution_count": 54,
     "metadata": {},
     "output_type": "execute_result"
    }
   ],
   "source": [
    "np.random.chisquare(3,10) #カイ二乗分布"
   ]
  },
  {
   "cell_type": "code",
   "execution_count": 69,
   "metadata": {},
   "outputs": [],
   "source": [
    "y = np.random.choice([0,1],100) # 0,1を100こ作る"
   ]
  },
  {
   "cell_type": "code",
   "execution_count": 81,
   "metadata": {},
   "outputs": [],
   "source": [
    "X = np.random.uniform(0,10,size=[100,2]) # 一様乱数を作る また、特徴量を2つに設定する。"
   ]
  },
  {
   "cell_type": "code",
   "execution_count": 77,
   "metadata": {},
   "outputs": [
    {
     "data": {
      "text/plain": [
       "(100,)"
      ]
     },
     "execution_count": 77,
     "metadata": {},
     "output_type": "execute_result"
    }
   ],
   "source": [
    "y.shape"
   ]
  },
  {
   "cell_type": "code",
   "execution_count": 80,
   "metadata": {},
   "outputs": [
    {
     "data": {
      "text/plain": [
       "array([1.68938163e+00, 2.92330409e+00, 6.74050007e+00, 2.91118657e+00,\n",
       "       6.20374293e+00, 6.54112428e+00, 3.88640182e+00, 6.54920665e-01,\n",
       "       9.62935690e+00, 4.30843205e+00, 8.50277449e+00, 2.23549284e+00,\n",
       "       4.95672629e+00, 1.00816683e+00, 4.87700077e-01, 6.61979378e+00,\n",
       "       3.77566360e+00, 1.97055743e+00, 6.48474599e+00, 4.67508521e+00,\n",
       "       6.09430222e+00, 3.10942295e+00, 8.32849449e-01, 4.95442144e+00,\n",
       "       4.44459646e+00, 8.91880345e+00, 1.70463899e+00, 9.53216937e+00,\n",
       "       9.96628466e+00, 7.16958479e+00, 9.81494507e+00, 3.79429732e+00,\n",
       "       5.57777254e-01, 3.23552652e+00, 1.41862612e+00, 6.89945093e+00,\n",
       "       1.29521942e+00, 2.16034607e-01, 5.16168057e+00, 6.66307014e+00,\n",
       "       3.04198926e+00, 5.18308782e+00, 2.11893255e+00, 5.03852512e-01,\n",
       "       8.92310010e+00, 2.56747591e+00, 3.81731317e-01, 7.67719019e+00,\n",
       "       5.71996052e+00, 9.59078747e-01, 4.80958193e+00, 6.75485145e-01,\n",
       "       8.97300210e+00, 1.33233835e+00, 2.17018581e+00, 4.77899881e+00,\n",
       "       9.62237280e+00, 5.17515756e+00, 5.32292044e+00, 2.96617790e+00,\n",
       "       3.66280211e+00, 9.25763706e+00, 7.90063591e+00, 6.17042708e+00,\n",
       "       2.44655874e+00, 6.95393086e+00, 1.78519526e+00, 9.32040992e+00,\n",
       "       9.65612536e+00, 2.35316629e+00, 1.28099028e+00, 9.66469522e+00,\n",
       "       2.23162649e-01, 6.36997528e+00, 2.13058756e+00, 8.97281422e+00,\n",
       "       2.34495352e+00, 3.24354563e+00, 4.42378448e+00, 4.17458752e+00,\n",
       "       7.20269026e+00, 6.64647080e+00, 1.37656556e+00, 1.71008936e+00,\n",
       "       3.27128864e+00, 3.23384750e-01, 1.12826363e+00, 4.84378263e+00,\n",
       "       5.54958355e+00, 7.70727087e+00, 5.52217172e+00, 2.67070580e-03,\n",
       "       9.20255558e+00, 6.94003811e+00, 5.26526371e+00, 8.39875967e+00,\n",
       "       5.93756933e+00, 3.48304797e+00, 5.62300354e+00, 8.47544153e+00])"
      ]
     },
     "execution_count": 80,
     "metadata": {},
     "output_type": "execute_result"
    }
   ],
   "source": [
    "X[:,0]"
   ]
  },
  {
   "cell_type": "code",
   "execution_count": 88,
   "metadata": {},
   "outputs": [
    {
     "data": {
      "text/plain": [
       "<matplotlib.collections.PathCollection at 0x123249400>"
      ]
     },
     "execution_count": 88,
     "metadata": {},
     "output_type": "execute_result"
    },
    {
     "data": {
      "image/png": "[encoded data removed]",
      "text/plain": [
       "<Figure size 432x288 with 1 Axes>"
      ]
     },
     "metadata": {
      "needs_background": "dark"
     },
     "output_type": "display_data"
    }
   ],
   "source": [
    "plt.scatter(X[:,0],X[:,1],c=y,s=50) # このsは図のつぶつぶの大きさ"
   ]
  },
  {
   "cell_type": "code",
   "execution_count": 90,
   "metadata": {},
   "outputs": [],
   "source": [
    "from sklearn import neighbors\n",
    "clf = neighbors.KNeighborsClassifier(n_neighbors=1)"
   ]
  },
  {
   "cell_type": "code",
   "execution_count": 94,
   "metadata": {},
   "outputs": [],
   "source": [
    "X_train = X\n",
    "y_train =  y\n",
    "X_test = np.random.uniform(0,10,size=[100,2]) # 新しいものを作る\n",
    "y_test = np.random.choice([0,1],100) # 新しいものを作る"
   ]
  },
  {
   "cell_type": "code",
   "execution_count": 95,
   "metadata": {},
   "outputs": [
    {
     "data": {
      "text/plain": [
       "KNeighborsClassifier(algorithm='auto', leaf_size=30, metric='minkowski',\n",
       "           metric_params=None, n_jobs=None, n_neighbors=1, p=2,\n",
       "           weights='uniform')"
      ]
     },
     "execution_count": 95,
     "metadata": {},
     "output_type": "execute_result"
    }
   ],
   "source": [
    "clf.fit(X_train,y_train)"
   ]
  },
  {
   "cell_type": "code",
   "execution_count": 96,
   "metadata": {},
   "outputs": [
    {
     "data": {
      "text/plain": [
       "0.56"
      ]
     },
     "execution_count": 96,
     "metadata": {},
     "output_type": "execute_result"
    }
   ],
   "source": [
    "clf.score(X_test,y_test)"
   ]
  },
  {
   "cell_type": "code",
   "execution_count": null,
   "metadata": {},
   "outputs": [],
   "source": []
  }
 ],
 "metadata": {
  "kernelspec": {
   "display_name": "Python 3",
   "language": "python",
   "name": "python3"
  },
  "language_info": {
   "codemirror_mode": {
    "name": "ipython",
    "version": 3
   },
   "file_extension": ".py",
   "mimetype": "text/x-python",
   "name": "python",
   "nbconvert_exporter": "python",
   "pygments_lexer": "ipython3",
   "version": "3.7.2"
  }
 },
 "nbformat": 4,
 "nbformat_minor": 2
}
