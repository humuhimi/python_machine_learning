{
 "cells": [
  {
   "cell_type": "markdown",
   "metadata": {},
   "source": [
    "## パラメータ・チューニング（グリッドサーチ）\n",
    "##### サンプルデータの読み込み\n",
    "ここではグリッドサーチの実行方法について学びます。<br>\n",
    "まずはサンプルデータ（分類用）を読み込みます。"
   ]
  },
  {
   "cell_type": "markdown",
   "metadata": {},
   "source": [
    "グリッドサーチとは、モデルの精度を向上させるために用いられる手法です。全てのパラメータの組み合わせを試してみる方法のことです。イメージとしてはループさせて、パラメータの組み合わせを全て試し、最も評価精度の良いものを探索する方法です。パラメータを変更することで予測精度は飛躍的に変わります。"
   ]
  },
  {
   "cell_type": "code",
   "execution_count": 1,
   "metadata": {},
   "outputs": [
    {
     "data": {
      "text/html": [
       "<div>\n",
       "<style scoped>\n",
       "    .dataframe tbody tr th:only-of-type {\n",
       "        vertical-align: middle;\n",
       "    }\n",
       "\n",
       "    .dataframe tbody tr th {\n",
       "        vertical-align: top;\n",
       "    }\n",
       "\n",
       "    .dataframe thead th {\n",
       "        text-align: right;\n",
       "    }\n",
       "</style>\n",
       "<table border=\"1\" class=\"dataframe\">\n",
       "  <thead>\n",
       "    <tr style=\"text-align: right;\">\n",
       "      <th></th>\n",
       "      <th>mean radius</th>\n",
       "      <th>mean texture</th>\n",
       "      <th>mean perimeter</th>\n",
       "      <th>mean area</th>\n",
       "      <th>mean smoothness</th>\n",
       "      <th>mean compactness</th>\n",
       "      <th>mean concavity</th>\n",
       "      <th>mean concave points</th>\n",
       "      <th>mean symmetry</th>\n",
       "      <th>mean fractal dimension</th>\n",
       "      <th>...</th>\n",
       "      <th>worst texture</th>\n",
       "      <th>worst perimeter</th>\n",
       "      <th>worst area</th>\n",
       "      <th>worst smoothness</th>\n",
       "      <th>worst compactness</th>\n",
       "      <th>worst concavity</th>\n",
       "      <th>worst concave points</th>\n",
       "      <th>worst symmetry</th>\n",
       "      <th>worst fractal dimension</th>\n",
       "      <th>y</th>\n",
       "    </tr>\n",
       "  </thead>\n",
       "  <tbody>\n",
       "    <tr>\n",
       "      <th>0</th>\n",
       "      <td>17.99</td>\n",
       "      <td>10.38</td>\n",
       "      <td>122.8</td>\n",
       "      <td>1001.0</td>\n",
       "      <td>0.11840</td>\n",
       "      <td>0.27760</td>\n",
       "      <td>0.3001</td>\n",
       "      <td>0.14710</td>\n",
       "      <td>0.2419</td>\n",
       "      <td>0.07871</td>\n",
       "      <td>...</td>\n",
       "      <td>17.33</td>\n",
       "      <td>184.6</td>\n",
       "      <td>2019.0</td>\n",
       "      <td>0.1622</td>\n",
       "      <td>0.6656</td>\n",
       "      <td>0.7119</td>\n",
       "      <td>0.2654</td>\n",
       "      <td>0.4601</td>\n",
       "      <td>0.11890</td>\n",
       "      <td>0</td>\n",
       "    </tr>\n",
       "    <tr>\n",
       "      <th>1</th>\n",
       "      <td>20.57</td>\n",
       "      <td>17.77</td>\n",
       "      <td>132.9</td>\n",
       "      <td>1326.0</td>\n",
       "      <td>0.08474</td>\n",
       "      <td>0.07864</td>\n",
       "      <td>0.0869</td>\n",
       "      <td>0.07017</td>\n",
       "      <td>0.1812</td>\n",
       "      <td>0.05667</td>\n",
       "      <td>...</td>\n",
       "      <td>23.41</td>\n",
       "      <td>158.8</td>\n",
       "      <td>1956.0</td>\n",
       "      <td>0.1238</td>\n",
       "      <td>0.1866</td>\n",
       "      <td>0.2416</td>\n",
       "      <td>0.1860</td>\n",
       "      <td>0.2750</td>\n",
       "      <td>0.08902</td>\n",
       "      <td>0</td>\n",
       "    </tr>\n",
       "    <tr>\n",
       "      <th>2</th>\n",
       "      <td>19.69</td>\n",
       "      <td>21.25</td>\n",
       "      <td>130.0</td>\n",
       "      <td>1203.0</td>\n",
       "      <td>0.10960</td>\n",
       "      <td>0.15990</td>\n",
       "      <td>0.1974</td>\n",
       "      <td>0.12790</td>\n",
       "      <td>0.2069</td>\n",
       "      <td>0.05999</td>\n",
       "      <td>...</td>\n",
       "      <td>25.53</td>\n",
       "      <td>152.5</td>\n",
       "      <td>1709.0</td>\n",
       "      <td>0.1444</td>\n",
       "      <td>0.4245</td>\n",
       "      <td>0.4504</td>\n",
       "      <td>0.2430</td>\n",
       "      <td>0.3613</td>\n",
       "      <td>0.08758</td>\n",
       "      <td>0</td>\n",
       "    </tr>\n",
       "  </tbody>\n",
       "</table>\n",
       "<p>3 rows × 31 columns</p>\n",
       "</div>"
      ],
      "text/plain": [
       "   mean radius  mean texture  mean perimeter  mean area  mean smoothness  \\\n",
       "0        17.99         10.38           122.8     1001.0          0.11840   \n",
       "1        20.57         17.77           132.9     1326.0          0.08474   \n",
       "2        19.69         21.25           130.0     1203.0          0.10960   \n",
       "\n",
       "   mean compactness  mean concavity  mean concave points  mean symmetry  \\\n",
       "0           0.27760          0.3001              0.14710         0.2419   \n",
       "1           0.07864          0.0869              0.07017         0.1812   \n",
       "2           0.15990          0.1974              0.12790         0.2069   \n",
       "\n",
       "   mean fractal dimension  ...  worst texture  worst perimeter  worst area  \\\n",
       "0                 0.07871  ...          17.33            184.6      2019.0   \n",
       "1                 0.05667  ...          23.41            158.8      1956.0   \n",
       "2                 0.05999  ...          25.53            152.5      1709.0   \n",
       "\n",
       "   worst smoothness  worst compactness  worst concavity  worst concave points  \\\n",
       "0            0.1622             0.6656           0.7119                0.2654   \n",
       "1            0.1238             0.1866           0.2416                0.1860   \n",
       "2            0.1444             0.4245           0.4504                0.2430   \n",
       "\n",
       "   worst symmetry  worst fractal dimension  y  \n",
       "0          0.4601                  0.11890  0  \n",
       "1          0.2750                  0.08902  0  \n",
       "2          0.3613                  0.08758  0  \n",
       "\n",
       "[3 rows x 31 columns]"
      ]
     },
     "execution_count": 1,
     "metadata": {},
     "output_type": "execute_result"
    }
   ],
   "source": [
    "# Breast cancer dataset for binary classification\n",
    "import pandas as pd\n",
    "from sklearn.datasets import load_breast_cancer\n",
    "\n",
    "# Set X and y\n",
    "dataset = load_breast_cancer()\n",
    "X = pd.DataFrame(dataset.data, columns=dataset.feature_names)\n",
    "y = pd.Series(dataset.target, name='y')\n",
    "X.join(y).head(3)"
   ]
  },
  {
   "cell_type": "markdown",
   "metadata": {},
   "source": [
    "##### チューニングするパイプラインの設定\n",
    "分類器としてロジスティック回帰を設定しておきます。<br>\n",
    "その際、以下を認識しておきましょう。\n",
    "- ここでは、学習器の略称として\"est\"、次元圧縮に\"pca\"を使います\n",
    "- 本記号がグリッドサーチ時の設定にも使われます。"
   ]
  },
  {
   "cell_type": "code",
   "execution_count": 2,
   "metadata": {},
   "outputs": [],
   "source": [
    "from sklearn.preprocessing import StandardScaler\n",
    "from sklearn.model_selection import GridSearchCV\n",
    "from sklearn.decomposition import PCA\n",
    "from sklearn.linear_model import LogisticRegression\n",
    "from sklearn.ensemble import GradientBoostingClassifier\n",
    "from sklearn.pipeline import Pipeline\n",
    "from sklearn.metrics import f1_score\n",
    "\n",
    "# パイプラインの設定\n",
    "pipe_logistic = Pipeline([('scl', StandardScaler()),\n",
    "                          ('pca', PCA(random_state=1)),\n",
    "                          ('est', LogisticRegression(solver='lbfgs',random_state=1))])"
   ]
  },
  {
   "cell_type": "markdown",
   "metadata": {},
   "source": [
    "##### グリッドサーチ条件の設定方法\n",
    "グリッドサーチによる探索条件の設定は、以下のルールに従います。\n",
    "- 上記指定の文字列\"pca\"や\"est\"と各アルゴリズムが持つパラメータ名の文字列を結合"
   ]
  },
  {
   "cell_type": "markdown",
   "metadata": {},
   "source": [
    "下記設定例で、具体的に、上記ルールの設定方法を確認しましょう。\n",
    "- 主成分圧縮：抽出主成分数を5,7,9の3通り\n",
    "- ロジスティック回帰：正則化パラメータは0.1から100の4通り"
   ]
  },
  {
   "cell_type": "code",
   "execution_count": 3,
   "metadata": {},
   "outputs": [],
   "source": [
    "# パラメータグリッドの設定方法\n",
    "param_grid_logistic = {'pca__n_components':[5,7,9],'est__C':[0.1,1.0,10.0,100.0]}"
   ]
  },
  {
   "cell_type": "markdown",
   "metadata": {},
   "source": [
    "##### グリッドサーチの実行（学習）\n",
    "ハイパーパラメータの異なるモデルの評価はGridSerachCVで行うことができます。<br>\n",
    "gsをfitした時点で、各パラメータのモデルの構築と評価を終え、ベストモデルを内部で保持するところまで全自動で動きます。"
   ]
  },
  {
   "cell_type": "code",
   "execution_count": 4,
   "metadata": {},
   "outputs": [
    {
     "name": "stdout",
     "output_type": "stream",
     "text": [
      "探索空間:{'pca__n_components': [5, 7, 9], 'est__C': [0.1, 1.0, 10.0, 100.0]}\n"
     ]
    },
    {
     "data": {
      "text/plain": [
       "GridSearchCV(cv=3, error_score='raise-deprecating',\n",
       "       estimator=Pipeline(memory=None,\n",
       "     steps=[('scl', StandardScaler(copy=True, with_mean=True, with_std=True)), ('pca', PCA(copy=True, iterated_power='auto', n_components=None, random_state=1,\n",
       "  svd_solver='auto', tol=0.0, whiten=False)), ('est', LogisticRegression(C=1.0, class_weight=None, dual=Fals... penalty='l2', random_state=1, solver='lbfgs',\n",
       "          tol=0.0001, verbose=0, warm_start=False))]),\n",
       "       fit_params=None, iid='warn', n_jobs=None,\n",
       "       param_grid={'pca__n_components': [5, 7, 9], 'est__C': [0.1, 1.0, 10.0, 100.0]},\n",
       "       pre_dispatch='2*n_jobs', refit=True, return_train_score=False,\n",
       "       scoring='f1', verbose=0)"
      ]
     },
     "execution_count": 4,
     "metadata": {},
     "output_type": "execute_result"
    }
   ],
   "source": [
    "print('探索空間:%s'%param_grid_logistic)\n",
    "gs =  GridSearchCV( estimator=pipe_logistic,\n",
    "                  param_grid=param_grid_logistic,\n",
    "                  scoring='f1',\n",
    "                  cv=3,\n",
    "                  return_train_score=False)\n",
    "gs.fit(X,y)"
   ]
  },
  {
   "cell_type": "markdown",
   "metadata": {},
   "source": [
    "ベストモデルで予測をしたい場合は以下です。"
   ]
  },
  {
   "cell_type": "code",
   "execution_count": 5,
   "metadata": {},
   "outputs": [
    {
     "data": {
      "text/plain": [
       "array([[9.99999991e-01, 9.16949126e-09],\n",
       "       [9.99858219e-01, 1.41781006e-04],\n",
       "       [9.99999722e-01, 2.78322042e-07],\n",
       "       ...,\n",
       "       [9.94479111e-01, 5.52088883e-03],\n",
       "       [1.00000000e+00, 2.00899844e-11],\n",
       "       [7.89925108e-06, 9.99992101e-01]])"
      ]
     },
     "execution_count": 5,
     "metadata": {},
     "output_type": "execute_result"
    }
   ],
   "source": [
    "gs.predict_proba(X)"
   ]
  },
  {
   "cell_type": "code",
   "execution_count": 6,
   "metadata": {},
   "outputs": [
    {
     "data": {
      "text/html": [
       "<div>\n",
       "<style scoped>\n",
       "    .dataframe tbody tr th:only-of-type {\n",
       "        vertical-align: middle;\n",
       "    }\n",
       "\n",
       "    .dataframe tbody tr th {\n",
       "        vertical-align: top;\n",
       "    }\n",
       "\n",
       "    .dataframe thead th {\n",
       "        text-align: right;\n",
       "    }\n",
       "</style>\n",
       "<table border=\"1\" class=\"dataframe\">\n",
       "  <thead>\n",
       "    <tr style=\"text-align: right;\">\n",
       "      <th></th>\n",
       "      <th>mean_fit_time</th>\n",
       "      <th>std_fit_time</th>\n",
       "      <th>mean_score_time</th>\n",
       "      <th>std_score_time</th>\n",
       "      <th>param_est__C</th>\n",
       "      <th>param_pca__n_components</th>\n",
       "      <th>params</th>\n",
       "      <th>split0_test_score</th>\n",
       "      <th>split1_test_score</th>\n",
       "      <th>split2_test_score</th>\n",
       "      <th>mean_test_score</th>\n",
       "      <th>std_test_score</th>\n",
       "      <th>rank_test_score</th>\n",
       "    </tr>\n",
       "  </thead>\n",
       "  <tbody>\n",
       "    <tr>\n",
       "      <th>0</th>\n",
       "      <td>0.049101</td>\n",
       "      <td>0.041199</td>\n",
       "      <td>0.001527</td>\n",
       "      <td>0.000350</td>\n",
       "      <td>0.1</td>\n",
       "      <td>5</td>\n",
       "      <td>{'est__C': 0.1, 'pca__n_components': 5}</td>\n",
       "      <td>0.979424</td>\n",
       "      <td>0.975410</td>\n",
       "      <td>0.978903</td>\n",
       "      <td>0.977910</td>\n",
       "      <td>0.001783</td>\n",
       "      <td>5</td>\n",
       "    </tr>\n",
       "    <tr>\n",
       "      <th>1</th>\n",
       "      <td>0.005228</td>\n",
       "      <td>0.000141</td>\n",
       "      <td>0.001197</td>\n",
       "      <td>0.000069</td>\n",
       "      <td>0.1</td>\n",
       "      <td>7</td>\n",
       "      <td>{'est__C': 0.1, 'pca__n_components': 7}</td>\n",
       "      <td>0.983471</td>\n",
       "      <td>0.975410</td>\n",
       "      <td>0.983051</td>\n",
       "      <td>0.980640</td>\n",
       "      <td>0.003707</td>\n",
       "      <td>2</td>\n",
       "    </tr>\n",
       "    <tr>\n",
       "      <th>2</th>\n",
       "      <td>0.005734</td>\n",
       "      <td>0.000376</td>\n",
       "      <td>0.001298</td>\n",
       "      <td>0.000168</td>\n",
       "      <td>0.1</td>\n",
       "      <td>9</td>\n",
       "      <td>{'est__C': 0.1, 'pca__n_components': 9}</td>\n",
       "      <td>0.983471</td>\n",
       "      <td>0.971429</td>\n",
       "      <td>0.983193</td>\n",
       "      <td>0.979358</td>\n",
       "      <td>0.005615</td>\n",
       "      <td>4</td>\n",
       "    </tr>\n",
       "    <tr>\n",
       "      <th>3</th>\n",
       "      <td>0.006363</td>\n",
       "      <td>0.000604</td>\n",
       "      <td>0.001479</td>\n",
       "      <td>0.000246</td>\n",
       "      <td>1</td>\n",
       "      <td>5</td>\n",
       "      <td>{'est__C': 1.0, 'pca__n_components': 5}</td>\n",
       "      <td>0.983333</td>\n",
       "      <td>0.983471</td>\n",
       "      <td>0.974359</td>\n",
       "      <td>0.980398</td>\n",
       "      <td>0.004260</td>\n",
       "      <td>3</td>\n",
       "    </tr>\n",
       "    <tr>\n",
       "      <th>4</th>\n",
       "      <td>0.007796</td>\n",
       "      <td>0.001186</td>\n",
       "      <td>0.002042</td>\n",
       "      <td>0.000501</td>\n",
       "      <td>1</td>\n",
       "      <td>7</td>\n",
       "      <td>{'est__C': 1.0, 'pca__n_components': 7}</td>\n",
       "      <td>0.983333</td>\n",
       "      <td>0.971193</td>\n",
       "      <td>0.974359</td>\n",
       "      <td>0.976299</td>\n",
       "      <td>0.005146</td>\n",
       "      <td>6</td>\n",
       "    </tr>\n",
       "  </tbody>\n",
       "</table>\n",
       "</div>"
      ],
      "text/plain": [
       "   mean_fit_time  std_fit_time  mean_score_time  std_score_time param_est__C  \\\n",
       "0       0.049101      0.041199         0.001527        0.000350          0.1   \n",
       "1       0.005228      0.000141         0.001197        0.000069          0.1   \n",
       "2       0.005734      0.000376         0.001298        0.000168          0.1   \n",
       "3       0.006363      0.000604         0.001479        0.000246            1   \n",
       "4       0.007796      0.001186         0.002042        0.000501            1   \n",
       "\n",
       "  param_pca__n_components                                   params  \\\n",
       "0                       5  {'est__C': 0.1, 'pca__n_components': 5}   \n",
       "1                       7  {'est__C': 0.1, 'pca__n_components': 7}   \n",
       "2                       9  {'est__C': 0.1, 'pca__n_components': 9}   \n",
       "3                       5  {'est__C': 1.0, 'pca__n_components': 5}   \n",
       "4                       7  {'est__C': 1.0, 'pca__n_components': 7}   \n",
       "\n",
       "   split0_test_score  split1_test_score  split2_test_score  mean_test_score  \\\n",
       "0           0.979424           0.975410           0.978903         0.977910   \n",
       "1           0.983471           0.975410           0.983051         0.980640   \n",
       "2           0.983471           0.971429           0.983193         0.979358   \n",
       "3           0.983333           0.983471           0.974359         0.980398   \n",
       "4           0.983333           0.971193           0.974359         0.976299   \n",
       "\n",
       "   std_test_score  rank_test_score  \n",
       "0        0.001783                5  \n",
       "1        0.003707                2  \n",
       "2        0.005615                4  \n",
       "3        0.004260                3  \n",
       "4        0.005146                6  "
      ]
     },
     "execution_count": 6,
     "metadata": {},
     "output_type": "execute_result"
    }
   ],
   "source": [
    "pd.DataFrame(gs.cv_results_).head()"
   ]
  },
  {
   "cell_type": "markdown",
   "metadata": {},
   "source": [
    "## 不均衡データへの対応\n",
    "まず分類用のサンプルデータであるローン審査データを読み込みます。<br>データ前処理はone-hotエンコーディングと欠損値補完までを行っています。"
   ]
  },
  {
   "cell_type": "code",
   "execution_count": 7,
   "metadata": {},
   "outputs": [],
   "source": [
    "import pandas as pd\n",
    "from sklearn.preprocessing import Imputer\n",
    "\n",
    "# import data\n",
    "df = pd.read_csv('./data/av_loan_u6lujuX_CVtuZ9i.csv', header=0)\n",
    "X = df.iloc[:, :-1]          # 最終列外を特徴量X\n",
    "X = X.drop('Loan_ID',axis=1) # Loan_IDはID情報のため特徴量から削除\n",
    "y = df.iloc[:,-1]            # 最終列を正解データ\n",
    "\n",
    "# ローン審査でNOとなったサンプルを1に変換\n",
    "class_mapping = {'N':1, 'Y':0}\n",
    "y = y.map(class_mapping)"
   ]
  },
  {
   "cell_type": "code",
   "execution_count": 8,
   "metadata": {},
   "outputs": [
    {
     "name": "stderr",
     "output_type": "stream",
     "text": [
      "/Users/humu/anaconda3/lib/python3.7/site-packages/sklearn/utils/deprecation.py:58: DeprecationWarning: Class Imputer is deprecated; Imputer was deprecated in version 0.20 and will be removed in 0.22. Import impute.SimpleImputer from sklearn instead.\n",
      "  warnings.warn(msg, category=DeprecationWarning)\n"
     ]
    },
    {
     "data": {
      "text/html": [
       "<div>\n",
       "<style scoped>\n",
       "    .dataframe tbody tr th:only-of-type {\n",
       "        vertical-align: middle;\n",
       "    }\n",
       "\n",
       "    .dataframe tbody tr th {\n",
       "        vertical-align: top;\n",
       "    }\n",
       "\n",
       "    .dataframe thead th {\n",
       "        text-align: right;\n",
       "    }\n",
       "</style>\n",
       "<table border=\"1\" class=\"dataframe\">\n",
       "  <thead>\n",
       "    <tr style=\"text-align: right;\">\n",
       "      <th></th>\n",
       "      <th>ApplicantIncome</th>\n",
       "      <th>CoapplicantIncome</th>\n",
       "      <th>LoanAmount</th>\n",
       "      <th>Loan_Amount_Term</th>\n",
       "      <th>Credit_History</th>\n",
       "      <th>Dependents_0</th>\n",
       "      <th>Dependents_1</th>\n",
       "      <th>Dependents_2</th>\n",
       "      <th>Dependents_3+</th>\n",
       "      <th>Dependents_nan</th>\n",
       "      <th>...</th>\n",
       "      <th>Education_Graduate</th>\n",
       "      <th>Education_Not Graduate</th>\n",
       "      <th>Education_nan</th>\n",
       "      <th>Self_Employed_No</th>\n",
       "      <th>Self_Employed_Yes</th>\n",
       "      <th>Self_Employed_nan</th>\n",
       "      <th>Property_Area_Rural</th>\n",
       "      <th>Property_Area_Semiurban</th>\n",
       "      <th>Property_Area_Urban</th>\n",
       "      <th>Property_Area_nan</th>\n",
       "    </tr>\n",
       "  </thead>\n",
       "  <tbody>\n",
       "    <tr>\n",
       "      <th>0</th>\n",
       "      <td>5849.0</td>\n",
       "      <td>0.0</td>\n",
       "      <td>146.412162</td>\n",
       "      <td>360.0</td>\n",
       "      <td>1.0</td>\n",
       "      <td>1.0</td>\n",
       "      <td>0.0</td>\n",
       "      <td>0.0</td>\n",
       "      <td>0.0</td>\n",
       "      <td>0.0</td>\n",
       "      <td>...</td>\n",
       "      <td>1.0</td>\n",
       "      <td>0.0</td>\n",
       "      <td>0.0</td>\n",
       "      <td>1.0</td>\n",
       "      <td>0.0</td>\n",
       "      <td>0.0</td>\n",
       "      <td>0.0</td>\n",
       "      <td>0.0</td>\n",
       "      <td>1.0</td>\n",
       "      <td>0.0</td>\n",
       "    </tr>\n",
       "    <tr>\n",
       "      <th>1</th>\n",
       "      <td>4583.0</td>\n",
       "      <td>1508.0</td>\n",
       "      <td>128.000000</td>\n",
       "      <td>360.0</td>\n",
       "      <td>1.0</td>\n",
       "      <td>0.0</td>\n",
       "      <td>1.0</td>\n",
       "      <td>0.0</td>\n",
       "      <td>0.0</td>\n",
       "      <td>0.0</td>\n",
       "      <td>...</td>\n",
       "      <td>1.0</td>\n",
       "      <td>0.0</td>\n",
       "      <td>0.0</td>\n",
       "      <td>1.0</td>\n",
       "      <td>0.0</td>\n",
       "      <td>0.0</td>\n",
       "      <td>1.0</td>\n",
       "      <td>0.0</td>\n",
       "      <td>0.0</td>\n",
       "      <td>0.0</td>\n",
       "    </tr>\n",
       "    <tr>\n",
       "      <th>2</th>\n",
       "      <td>3000.0</td>\n",
       "      <td>0.0</td>\n",
       "      <td>66.000000</td>\n",
       "      <td>360.0</td>\n",
       "      <td>1.0</td>\n",
       "      <td>1.0</td>\n",
       "      <td>0.0</td>\n",
       "      <td>0.0</td>\n",
       "      <td>0.0</td>\n",
       "      <td>0.0</td>\n",
       "      <td>...</td>\n",
       "      <td>1.0</td>\n",
       "      <td>0.0</td>\n",
       "      <td>0.0</td>\n",
       "      <td>0.0</td>\n",
       "      <td>1.0</td>\n",
       "      <td>0.0</td>\n",
       "      <td>0.0</td>\n",
       "      <td>0.0</td>\n",
       "      <td>1.0</td>\n",
       "      <td>0.0</td>\n",
       "    </tr>\n",
       "    <tr>\n",
       "      <th>3</th>\n",
       "      <td>2583.0</td>\n",
       "      <td>2358.0</td>\n",
       "      <td>120.000000</td>\n",
       "      <td>360.0</td>\n",
       "      <td>1.0</td>\n",
       "      <td>1.0</td>\n",
       "      <td>0.0</td>\n",
       "      <td>0.0</td>\n",
       "      <td>0.0</td>\n",
       "      <td>0.0</td>\n",
       "      <td>...</td>\n",
       "      <td>0.0</td>\n",
       "      <td>1.0</td>\n",
       "      <td>0.0</td>\n",
       "      <td>1.0</td>\n",
       "      <td>0.0</td>\n",
       "      <td>0.0</td>\n",
       "      <td>0.0</td>\n",
       "      <td>0.0</td>\n",
       "      <td>1.0</td>\n",
       "      <td>0.0</td>\n",
       "    </tr>\n",
       "    <tr>\n",
       "      <th>4</th>\n",
       "      <td>6000.0</td>\n",
       "      <td>0.0</td>\n",
       "      <td>141.000000</td>\n",
       "      <td>360.0</td>\n",
       "      <td>1.0</td>\n",
       "      <td>1.0</td>\n",
       "      <td>0.0</td>\n",
       "      <td>0.0</td>\n",
       "      <td>0.0</td>\n",
       "      <td>0.0</td>\n",
       "      <td>...</td>\n",
       "      <td>1.0</td>\n",
       "      <td>0.0</td>\n",
       "      <td>0.0</td>\n",
       "      <td>1.0</td>\n",
       "      <td>0.0</td>\n",
       "      <td>0.0</td>\n",
       "      <td>0.0</td>\n",
       "      <td>0.0</td>\n",
       "      <td>1.0</td>\n",
       "      <td>0.0</td>\n",
       "    </tr>\n",
       "  </tbody>\n",
       "</table>\n",
       "<p>5 rows × 26 columns</p>\n",
       "</div>"
      ],
      "text/plain": [
       "   ApplicantIncome  CoapplicantIncome  LoanAmount  Loan_Amount_Term  \\\n",
       "0           5849.0                0.0  146.412162             360.0   \n",
       "1           4583.0             1508.0  128.000000             360.0   \n",
       "2           3000.0                0.0   66.000000             360.0   \n",
       "3           2583.0             2358.0  120.000000             360.0   \n",
       "4           6000.0                0.0  141.000000             360.0   \n",
       "\n",
       "   Credit_History  Dependents_0  Dependents_1  Dependents_2  Dependents_3+  \\\n",
       "0             1.0           1.0           0.0           0.0            0.0   \n",
       "1             1.0           0.0           1.0           0.0            0.0   \n",
       "2             1.0           1.0           0.0           0.0            0.0   \n",
       "3             1.0           1.0           0.0           0.0            0.0   \n",
       "4             1.0           1.0           0.0           0.0            0.0   \n",
       "\n",
       "   Dependents_nan  ...  Education_Graduate  Education_Not Graduate  \\\n",
       "0             0.0  ...                 1.0                     0.0   \n",
       "1             0.0  ...                 1.0                     0.0   \n",
       "2             0.0  ...                 1.0                     0.0   \n",
       "3             0.0  ...                 0.0                     1.0   \n",
       "4             0.0  ...                 1.0                     0.0   \n",
       "\n",
       "   Education_nan  Self_Employed_No  Self_Employed_Yes  Self_Employed_nan  \\\n",
       "0            0.0               1.0                0.0                0.0   \n",
       "1            0.0               1.0                0.0                0.0   \n",
       "2            0.0               0.0                1.0                0.0   \n",
       "3            0.0               1.0                0.0                0.0   \n",
       "4            0.0               1.0                0.0                0.0   \n",
       "\n",
       "   Property_Area_Rural  Property_Area_Semiurban  Property_Area_Urban  \\\n",
       "0                  0.0                      0.0                  1.0   \n",
       "1                  1.0                      0.0                  0.0   \n",
       "2                  0.0                      0.0                  1.0   \n",
       "3                  0.0                      0.0                  1.0   \n",
       "4                  0.0                      0.0                  1.0   \n",
       "\n",
       "   Property_Area_nan  \n",
       "0                0.0  \n",
       "1                0.0  \n",
       "2                0.0  \n",
       "3                0.0  \n",
       "4                0.0  \n",
       "\n",
       "[5 rows x 26 columns]"
      ]
     },
     "metadata": {},
     "output_type": "display_data"
    }
   ],
   "source": [
    "# one-hot エンコーディング\n",
    "ohe_columns = ['Dependents',\n",
    "               'Gender',\n",
    "               'Married',\n",
    "               'Education',\n",
    "               'Self_Employed',\n",
    "               'Property_Area']\n",
    "\n",
    "X_ohe = pd.get_dummies(X,\n",
    "                       dummy_na=True,\n",
    "                       columns=ohe_columns)\n",
    "\n",
    "imp = Imputer(missing_values='NaN', strategy='mean', axis=0)\n",
    "imp.fit(X_ohe)\n",
    "X_ohe_columns = X_ohe.columns.values\n",
    "X_ohe = pd.DataFrame(imp.transform(X_ohe), columns=X_ohe_columns)\n",
    "\n",
    "display(X_ohe.head())"
   ]
  },
  {
   "cell_type": "markdown",
   "metadata": {},
   "source": [
    "### アンダーサンプリング\n",
    "アンダーサンプリングの実装例です。<br>負例（422件）が正例の件数（192件）まで削減されていることが確認できます。\n",
    "<br>分類問題のデータ不均衡による精度影響を変えることができる。<br>アンダーサンプリングとは、<br>少数派のデータ件数に合うように多数派データからランダムに抽出する方法です。"
   ]
  },
  {
   "cell_type": "code",
   "execution_count": 9,
   "metadata": {},
   "outputs": [
    {
     "name": "stdout",
     "output_type": "stream",
     "text": [
      "Requirement already satisfied: imblearn in /Users/humu/anaconda3/lib/python3.7/site-packages (0.0)\n",
      "Requirement already satisfied: imbalanced-learn in /Users/humu/anaconda3/lib/python3.7/site-packages (from imblearn) (0.4.3)\n",
      "Requirement already satisfied: scipy>=0.13.3 in /Users/humu/anaconda3/lib/python3.7/site-packages (from imbalanced-learn->imblearn) (1.1.0)\n",
      "Requirement already satisfied: numpy>=1.8.2 in /Users/humu/anaconda3/lib/python3.7/site-packages (from imbalanced-learn->imblearn) (1.15.4)\n",
      "Requirement already satisfied: scikit-learn>=0.20 in /Users/humu/anaconda3/lib/python3.7/site-packages (from imbalanced-learn->imblearn) (0.20.3)\n"
     ]
    },
    {
     "data": {
      "text/plain": [
       "Counter({0: 192, 1: 192})"
      ]
     },
     "execution_count": 9,
     "metadata": {},
     "output_type": "execute_result"
    }
   ],
   "source": [
    "!pip install imblearn\n",
    "# ランダムアンダーサンプリング\n",
    "from collections import Counter\n",
    "from imblearn.under_sampling import RandomUnderSampler\n",
    "rus = RandomUnderSampler(random_state=0)\n",
    "X_under,y_under =  rus.fit_sample(X_ohe,y)\n",
    "Counter(y_under)"
   ]
  },
  {
   "cell_type": "markdown",
   "metadata": {},
   "source": [
    "### オーバーサンプリング\n",
    "以下、オーバーサンプリングの実装例です。<br>正例（192件）が負例の件数（422件）まで増加していることが確認できます。"
   ]
  },
  {
   "cell_type": "code",
   "execution_count": 10,
   "metadata": {},
   "outputs": [
    {
     "name": "stdout",
     "output_type": "stream",
     "text": [
      "Random Over Sampler Counter({0: 422, 1: 422})\n",
      "SMOTE Counter({0: 422, 1: 422})\n"
     ]
    }
   ],
   "source": [
    "# ランダムオーバーサンプリング, SMOTE\n",
    "from imblearn.over_sampling import RandomOverSampler,SMOTE\n",
    "ros = RandomOverSampler(random_state=0)\n",
    "smt = SMOTE(random_state=0)\n",
    "\n",
    "X_over,y_over = ros.fit_sample(X_ohe, y)\n",
    "X_smt,y_smt = smt.fit_sample(X_ohe, y)\n",
    "\n",
    "print('Random Over Sampler',Counter(y_over))\n",
    "print('SMOTE', Counter(y_smt))"
   ]
  },
  {
   "cell_type": "markdown",
   "metadata": {},
   "source": [
    "最後に、不均衡対応別のモデルの比較評価の実行例を確認します。<b><br>モデルの評価用データはリサンプリング前に確保されるべきで点に留意しましょう。</b>"
   ]
  },
  {
   "cell_type": "code",
   "execution_count": 11,
   "metadata": {},
   "outputs": [
    {
     "name": "stdout",
     "output_type": "stream",
     "text": [
      "Original Train: 0.7940074906367042\n",
      "Original Test: 0.6181818181818182\n",
      "Undersampling Train: 0.9411764705882353\n",
      "Undersampling Test: 0.6024096385542169\n",
      "Oversampling Train: 0.9079365079365079\n",
      "Oversampling Test: 0.6086956521739131\n",
      "SMOTE Train: 0.8990228013029316\n",
      "SMOTE Test: 0.5555555555555556\n"
     ]
    }
   ],
   "source": [
    "from sklearn.model_selection import train_test_split\n",
    "from sklearn.preprocessing import StandardScaler\n",
    "from sklearn.ensemble import GradientBoostingClassifier\n",
    "from sklearn.pipeline import Pipeline\n",
    "from sklearn.metrics import accuracy_score,f1_score\n",
    "\n",
    "# holdout\n",
    "X_train,X_test,y_train,y_test= train_test_split(X_ohe,\n",
    "                                                y,\n",
    "                                                test_size=0.20,\n",
    "                                                random_state=0)\n",
    "# resampling\n",
    "X_train_under, y_train_under = rus.fit_sample(X_train, y_train)\n",
    "X_train_over, y_train_over = ros.fit_sample(X_train, y_train)\n",
    "X_train_smt, y_train_smt = smt.fit_sample(X_train, y_train)\n",
    "\n",
    "# modeling\n",
    "pipe_gb = Pipeline([('scl',StandardScaler()),\n",
    "                    ('est',GradientBoostingClassifier(random_state=1))])\n",
    "# evaluation\n",
    "###############################################\n",
    "pipe_gb.fit(X_train,\n",
    "            y_train)\n",
    "print('Original Train:', \n",
    "      f1_score(y_train,\n",
    "               pipe_gb.predict(X_train)))\n",
    "print('Original Test:', \n",
    "      f1_score(y_test,\n",
    "               pipe_gb.predict(X_test)))\n",
    "###############################################\n",
    "pipe_gb.fit(X_train_under,\n",
    "            y_train_under)\n",
    "print('Undersampling Train:',\n",
    "      f1_score(y_train_under,\n",
    "               pipe_gb.predict(X_train_under)))\n",
    "print('Undersampling Test:', \n",
    "      f1_score(y_test,\n",
    "               pipe_gb.predict(X_test)))\n",
    "###############################################\n",
    "pipe_gb.fit(X_train_over,\n",
    "            y_train_over)\n",
    "print('Oversampling Train:',\n",
    "      f1_score(y_train_over,\n",
    "               pipe_gb.predict(X_train_over)))\n",
    "print('Oversampling Test:',\n",
    "      f1_score(y_test,\n",
    "               pipe_gb.predict(X_test)))\n",
    "###############################################\n",
    "pipe_gb.fit(X_train_smt,\n",
    "            y_train_smt)\n",
    "print('SMOTE Train:',\n",
    "      f1_score(y_train_smt,\n",
    "               pipe_gb.predict(X_train_smt)))\n",
    "print('SMOTE Test:',\n",
    "      f1_score(y_test,\n",
    "               pipe_gb.predict(X_test)))"
   ]
  },
  {
   "cell_type": "markdown",
   "metadata": {},
   "source": [
    "# モデルの中身を覗く<br>\n",
    "ここでは変数の重要度の取得方法とPDPの作図法を学びます\n",
    "##### サンプルデータの読み込み\n",
    "データはボストン住宅価格データを用います。"
   ]
  },
  {
   "cell_type": "code",
   "execution_count": 13,
   "metadata": {},
   "outputs": [
    {
     "data": {
      "text/html": [
       "<div>\n",
       "<style scoped>\n",
       "    .dataframe tbody tr th:only-of-type {\n",
       "        vertical-align: middle;\n",
       "    }\n",
       "\n",
       "    .dataframe tbody tr th {\n",
       "        vertical-align: top;\n",
       "    }\n",
       "\n",
       "    .dataframe thead th {\n",
       "        text-align: right;\n",
       "    }\n",
       "</style>\n",
       "<table border=\"1\" class=\"dataframe\">\n",
       "  <thead>\n",
       "    <tr style=\"text-align: right;\">\n",
       "      <th></th>\n",
       "      <th>CRIM</th>\n",
       "      <th>ZN</th>\n",
       "      <th>INDUS</th>\n",
       "      <th>CHAS</th>\n",
       "      <th>NOX</th>\n",
       "      <th>RM</th>\n",
       "      <th>AGE</th>\n",
       "      <th>DIS</th>\n",
       "      <th>RAD</th>\n",
       "      <th>TAX</th>\n",
       "      <th>PTRATIO</th>\n",
       "      <th>B</th>\n",
       "      <th>LSTAT</th>\n",
       "      <th>y</th>\n",
       "    </tr>\n",
       "  </thead>\n",
       "  <tbody>\n",
       "    <tr>\n",
       "      <th>0</th>\n",
       "      <td>0.00632</td>\n",
       "      <td>18.0</td>\n",
       "      <td>2.31</td>\n",
       "      <td>0.0</td>\n",
       "      <td>0.538</td>\n",
       "      <td>6.575</td>\n",
       "      <td>65.2</td>\n",
       "      <td>4.0900</td>\n",
       "      <td>1.0</td>\n",
       "      <td>296.0</td>\n",
       "      <td>15.3</td>\n",
       "      <td>396.90</td>\n",
       "      <td>4.98</td>\n",
       "      <td>24.0</td>\n",
       "    </tr>\n",
       "    <tr>\n",
       "      <th>1</th>\n",
       "      <td>0.02731</td>\n",
       "      <td>0.0</td>\n",
       "      <td>7.07</td>\n",
       "      <td>0.0</td>\n",
       "      <td>0.469</td>\n",
       "      <td>6.421</td>\n",
       "      <td>78.9</td>\n",
       "      <td>4.9671</td>\n",
       "      <td>2.0</td>\n",
       "      <td>242.0</td>\n",
       "      <td>17.8</td>\n",
       "      <td>396.90</td>\n",
       "      <td>9.14</td>\n",
       "      <td>21.6</td>\n",
       "    </tr>\n",
       "    <tr>\n",
       "      <th>2</th>\n",
       "      <td>0.02729</td>\n",
       "      <td>0.0</td>\n",
       "      <td>7.07</td>\n",
       "      <td>0.0</td>\n",
       "      <td>0.469</td>\n",
       "      <td>7.185</td>\n",
       "      <td>61.1</td>\n",
       "      <td>4.9671</td>\n",
       "      <td>2.0</td>\n",
       "      <td>242.0</td>\n",
       "      <td>17.8</td>\n",
       "      <td>392.83</td>\n",
       "      <td>4.03</td>\n",
       "      <td>34.7</td>\n",
       "    </tr>\n",
       "    <tr>\n",
       "      <th>3</th>\n",
       "      <td>0.03237</td>\n",
       "      <td>0.0</td>\n",
       "      <td>2.18</td>\n",
       "      <td>0.0</td>\n",
       "      <td>0.458</td>\n",
       "      <td>6.998</td>\n",
       "      <td>45.8</td>\n",
       "      <td>6.0622</td>\n",
       "      <td>3.0</td>\n",
       "      <td>222.0</td>\n",
       "      <td>18.7</td>\n",
       "      <td>394.63</td>\n",
       "      <td>2.94</td>\n",
       "      <td>33.4</td>\n",
       "    </tr>\n",
       "    <tr>\n",
       "      <th>4</th>\n",
       "      <td>0.06905</td>\n",
       "      <td>0.0</td>\n",
       "      <td>2.18</td>\n",
       "      <td>0.0</td>\n",
       "      <td>0.458</td>\n",
       "      <td>7.147</td>\n",
       "      <td>54.2</td>\n",
       "      <td>6.0622</td>\n",
       "      <td>3.0</td>\n",
       "      <td>222.0</td>\n",
       "      <td>18.7</td>\n",
       "      <td>396.90</td>\n",
       "      <td>5.33</td>\n",
       "      <td>36.2</td>\n",
       "    </tr>\n",
       "  </tbody>\n",
       "</table>\n",
       "</div>"
      ],
      "text/plain": [
       "      CRIM    ZN  INDUS  CHAS    NOX     RM   AGE     DIS  RAD    TAX  \\\n",
       "0  0.00632  18.0   2.31   0.0  0.538  6.575  65.2  4.0900  1.0  296.0   \n",
       "1  0.02731   0.0   7.07   0.0  0.469  6.421  78.9  4.9671  2.0  242.0   \n",
       "2  0.02729   0.0   7.07   0.0  0.469  7.185  61.1  4.9671  2.0  242.0   \n",
       "3  0.03237   0.0   2.18   0.0  0.458  6.998  45.8  6.0622  3.0  222.0   \n",
       "4  0.06905   0.0   2.18   0.0  0.458  7.147  54.2  6.0622  3.0  222.0   \n",
       "\n",
       "   PTRATIO       B  LSTAT     y  \n",
       "0     15.3  396.90   4.98  24.0  \n",
       "1     17.8  396.90   9.14  21.6  \n",
       "2     17.8  392.83   4.03  34.7  \n",
       "3     18.7  394.63   2.94  33.4  \n",
       "4     18.7  396.90   5.33  36.2  "
      ]
     },
     "metadata": {},
     "output_type": "display_data"
    }
   ],
   "source": [
    "import pandas as pd\n",
    "from sklearn.datasets import load_boston\n",
    "\n",
    "dataset = load_boston()\n",
    "X = pd.DataFrame(dataset.data,columns=dataset.feature_names)\n",
    "y = pd.Series(dataset.target,name='y')\n",
    "display(X.join(y).head(5))"
   ]
  },
  {
   "cell_type": "markdown",
   "metadata": {},
   "source": [
    "##### モデルの学習\n",
    "変数の重要度とPDP作図の元となる学習器を構築します。"
   ]
  },
  {
   "cell_type": "code",
   "execution_count": 15,
   "metadata": {},
   "outputs": [
    {
     "data": {
      "text/plain": [
       "Pipeline(memory=None,\n",
       "     steps=[('scl', StandardScaler(copy=True, with_mean=True, with_std=True)), ('est', GradientBoostingRegressor(alpha=0.9, criterion='friedman_mse', init=None,\n",
       "             learning_rate=0.1, loss='ls', max_depth=3, max_features=None,\n",
       "             max_leaf_nodes=None, min_impurity_decrease=0.0,\n",
       "        ...e=0, subsample=1.0, tol=0.0001,\n",
       "             validation_fraction=0.1, verbose=0, warm_start=False))])"
      ]
     },
     "execution_count": 15,
     "metadata": {},
     "output_type": "execute_result"
    }
   ],
   "source": [
    "from sklearn.preprocessing import StandardScaler\n",
    "from sklearn.ensemble import GradientBoostingRegressor\n",
    "from sklearn.pipeline import Pipeline\n",
    "\n",
    "pipe_gbr = Pipeline([('scl',StandardScaler()),\n",
    "                     ('est',GradientBoostingRegressor(random_state=0))])\n",
    "pipe_gbr.fit(X,y)"
   ]
  },
  {
   "cell_type": "markdown",
   "metadata": {},
   "source": [
    "##### 変数の重要度の取得\n",
    "変数の重要度を取得するには、`feature_importances_`属性にアクセスします。"
   ]
  },
  {
   "cell_type": "code",
   "execution_count": 17,
   "metadata": {},
   "outputs": [
    {
     "data": {
      "text/plain": [
       "CRIM       0.025162\n",
       "ZN         0.000530\n",
       "INDUS      0.002107\n",
       "CHAS       0.000873\n",
       "NOX        0.036577\n",
       "RM         0.410637\n",
       "AGE        0.008647\n",
       "DIS        0.084338\n",
       "RAD        0.001263\n",
       "TAX        0.011767\n",
       "PTRATIO    0.034638\n",
       "B          0.010558\n",
       "LSTAT      0.372903\n",
       "dtype: float64"
      ]
     },
     "metadata": {},
     "output_type": "display_data"
    }
   ],
   "source": [
    "imp = pipe_gbr.named_steps['est'].feature_importances_\n",
    "imp = pd.Series(imp,index=dataset.feature_names)\n",
    "display(imp)"
   ]
  },
  {
   "cell_type": "markdown",
   "metadata": {},
   "source": [
    "##### PDP(Partial Dependent Plot)の作図\n",
    "PDPの作図には以下のパラメータを指定します。\n",
    "- 学習済みモデル：パイプライン全体ではなく分類/回帰の部分\n",
    "- PDP作図のためのデータセット：訓練データ\n",
    "- データセットのカラムリスト（feature_names)\n",
    "- 作図したい変数（features)"
   ]
  },
  {
   "cell_type": "code",
   "execution_count": 23,
   "metadata": {},
   "outputs": [
    {
     "data": {
      "image/png": "[encoded data removed]",
      "text/plain": [
       "<Figure size 432x288 with 2 Axes>"
      ]
     },
     "metadata": {
      "needs_background": "light"
     },
     "output_type": "display_data"
    }
   ],
   "source": [
    "\n",
    "from sklearn.ensemble.partial_dependence import plot_partial_dependence\n",
    "import matplotlib.pyplot as plt\n",
    "\n",
    "fig,axs = plot_partial_dependence(pipe_gbr.named_steps['est'],\n",
    "                                 pipe_gbr.named_steps['scl'].transform(X),\n",
    "                                 feature_names =  dataset.feature_names,\n",
    "                                 features=['RM','LSTAT'])\n",
    "plt.show()"
   ]
  },
  {
   "cell_type": "markdown",
   "metadata": {},
   "source": [
    "Partial Dependence Plotは、それぞれの特徴量が予測にどのような影響を与えるかを知るのに役に立つ"
   ]
  },
  {
   "cell_type": "markdown",
   "metadata": {},
   "source": [
    "## SQL使い方(データ確認とクレンジング)\n",
    "<br>CustomerIDが非NULLのデータを対象に、データ件数、CustomerIDのユニーク件数、InvoiceNoのユニーク件数を確認せよ。"
   ]
  },
  {
   "cell_type": "raw",
   "metadata": {},
   "source": [
    "# distinctでユニーク値を持ってくる。\n",
    "\n",
    "--# 非nullの値を選択 customerid\n",
    "SELECT * FROM v_ec_trans WHERE customerid IS NOT NULL\n",
    "--#customerid 非nullの値の個数 406829\n",
    "SELECT count(*) FROM v_ec_trans WHERE customerid IS NOT NULL\n",
    "--# customerid非nullの値の個数 4372\n",
    "SELECT count(DISTINCT customerid) FROM v_ec_trans;\n",
    "--# invoiceNo非nullの値の個数  25900\n",
    "SELECT count(DISTINCT invoiceno) FROM v_ec_trans;"
   ]
  },
  {
   "cell_type": "markdown",
   "metadata": {},
   "source": [
    "CustomerIDが非NULLのデータを対象に、購買数量（Quantity）と単価（UnitPrice）の最小値・平均値・最大値を確認せよ。"
   ]
  },
  {
   "cell_type": "raw",
   "metadata": {},
   "source": [
    "# as コラム名\n",
    "# -- でsqlのコメント\n",
    "\n",
    "select\n",
    "\t--QUANTITY\n",
    "\tmin(quantity) as min_quantity,\n",
    "\tavg(quantity) as avg_quantity,\n",
    "\tmax(quantity) as max_quantity,\n",
    "\t--UNIT PRICE\n",
    "\tmin(unitprice) as min_unitprice,\n",
    "\tavg(unitprice) as avg_unitprice,\n",
    "\tmax(unitprice) as max_unitprice\n",
    "from\n",
    "\tv_ec_trans\n",
    "where\n",
    "\tCustomerID is not null\n",
    "/*\n",
    "\tmin_quantity: \"-80995\"\n",
    "\tavg_quantity: \"12.0613033977421\"\n",
    "\tmax_quantity: \"80995\"\n",
    "\n",
    "\tmin_unitprice: \"0\"\n",
    "\tavg_unitprice: \"3.46047101853791\"\n",
    "\tmax_unitprice: \"38970\"\n",
    "*/"
   ]
  },
  {
   "cell_type": "markdown",
   "metadata": {},
   "source": [
    "購買数量（Quantity）が負となるケースは注文のキャンセルで生じることがわかった。<br>\n",
    "キャンセルはInvocieNoが\"C\"で始まるという。<br>\n",
    "CustomerIDが非Nullのデータを対象に、以下2つのケースについて数値確認せよ。\n",
    "1. InvoiceNoが\"C\"始まりのときの、Qunatityの最小値・平均値・最大値\n",
    "1. InvoiceNoが\"C\"始まりでないときの、Qunatityの最小値・平均値・最大値"
   ]
  },
  {
   "cell_type": "raw",
   "metadata": {},
   "source": [
    "# like  'C%' likeと%で表現\n",
    "# 否定は　is not like ではなく、not like\n",
    "\n",
    "--# InvoiceNoが\"C\"始まりのとき\n",
    "select\n",
    "\tmin(quantity) as min_quantity,\n",
    "\tavg(quantity) as avg_quantity,\n",
    "\tmax(quantity) as max_quantity\n",
    "from\n",
    "\tv_ec_trans\n",
    "where\n",
    "\tInvoiceNo like 'C%'     --\"C\"始まりでないときは「not like 'C%'」とせよ\n",
    "and CustomerID is not null\n",
    "\n",
    "-- InvoiceNoが\"C\"始まりのときの結果\n",
    "/*\n",
    "\tmin_quantity: \"-80995\"\n",
    "\tavg_quantity: \"-30.8599663110612\"\n",
    "\tmax_quantity: \"-1\"\n",
    "*/\n",
    "--# InvoiceNoが\"C\"始まりでないときの結果\n",
    "/*\n",
    "\tmin_quantity: \"1\"\n",
    "\tavg_quantity: \"13.0218232627336\"\n",
    "\tmax_quantity: \"80995\"\n",
    "*/"
   ]
  },
  {
   "cell_type": "markdown",
   "metadata": {},
   "source": [
    "以下条件の集計クエリを作成しよう。\n",
    "- クライアントによると現在、半年間における購買回数(InvoiceNoのユニーク数)が4回以上か未満かで、顧客ランクを管理しているという。\n",
    "- 2011年1月から6月末までの半年間のデータを対象に、顧客ランク別に、顧客数、購買金額(Quantity*Unitprice)、購買回数を集計せよ。\n",
    "- ただし、CustomerIDが非NULL、UnitPriceが正のデータを対象に行うこと。"
   ]
  },
  {
   "cell_type": "raw",
   "metadata": {},
   "source": [
    "# 日ずけなどを使う場合はcast('' as date) とかdatetimeとかを使う。\n",
    "# \n",
    "SELECT * FROM v_ec_trans \n",
    "WHERE cast('2011-01-04' AS date) <= invoicedate\n",
    "AND cast('2011-06-30' AS date) > invoicedate\n",
    "# もしくは\n",
    "SELECT * FROM v_ec_trans \n",
    "WHERE invoicedate # これに関して下記でデータを検索\n",
    "BETWEEN 　cast('2011-01-04' AS date)　AND　 cast('2011-06-30' AS date)"
   ]
  },
  {
   "cell_type": "raw",
   "metadata": {},
   "source": [
    "# count(DISTINCT InvoiceNo) がないとhavingできない。\n",
    "\n",
    "SELECT\n",
    "        CustomerID,\n",
    "        sum(Quantity*UnitPrice) AS purchase_amount,\n",
    "        count(DISTINCT InvoiceNo) AS trips\n",
    "    FROM\n",
    "        v_ec_trans\n",
    "    WHERE\n",
    "        CustomerID IS NOT NULL\n",
    "    AND UnitPrice > 0\n",
    "    AND InvoiceDate >= cast('2011-01-01' AS date)\n",
    "    AND InvoiceDate < cast('2011-07-01' AS date)\n",
    "    GROUP BY\n",
    "        CustomerID\n",
    "    HAVING\n",
    "        count(DISTINCT InvoiceNo) >= 4"
   ]
  },
  {
   "cell_type": "markdown",
   "metadata": {},
   "source": [
    "サブクエリ\n",
    "\n",
    "中を入れ子にする( AS data_table必須なのに注意する。subquery in FROM must have an alias)"
   ]
  },
  {
   "cell_type": "raw",
   "metadata": {},
   "source": [
    "SELECT\n",
    "\tcount(*) AS ids,\n",
    "\tsum(purchase_amount) AS purchase_amount,\n",
    "\tsum(trips) AS trips\n",
    "FROM\n",
    "(\n",
    "    SELECT\n",
    "        CustomerID,\n",
    "        sum(Quantity*UnitPrice) AS purchase_amount,\n",
    "        count(DISTINCT InvoiceNo) AS trips\n",
    "    FROM\n",
    "        v_ec_trans\n",
    "    WHERE\n",
    "        CustomerID IS NOT NULL\n",
    "    AND UnitPrice > 0\n",
    "    AND InvoiceDate >= cast('2011-01-01' AS date)\n",
    "    AND InvoiceDate < cast('2011-07-01' AS date)\n",
    "    GROUP BY\n",
    "        CustomerID\n",
    "    HAVING\n",
    "        count(DISTINCT InvoiceNo) >= 4  --非有料層では4以上を4未満に書き換えること\n",
    ")AS data_table\n",
    ";"
   ]
  },
  {
   "cell_type": "code",
   "execution_count": null,
   "metadata": {},
   "outputs": [],
   "source": []
  }
 ],
 "metadata": {
  "kernelspec": {
   "display_name": "Python 3",
   "language": "python",
   "name": "python3"
  },
  "language_info": {
   "codemirror_mode": {
    "name": "ipython",
    "version": 3
   },
   "file_extension": ".py",
   "mimetype": "text/x-python",
   "name": "python",
   "nbconvert_exporter": "python",
   "pygments_lexer": "ipython3",
   "version": "3.7.2"
  }
 },
 "nbformat": 4,
 "nbformat_minor": 2
}
